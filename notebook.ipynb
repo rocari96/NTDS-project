{
 "cells": [
  {
   "cell_type": "code",
   "execution_count": 1,
   "metadata": {},
   "outputs": [],
   "source": [
    "import numpy as np\n",
    "import json\n",
    "import pandas as pd\n",
    "import matplotlib.pyplot as plt\n",
    "import scipy.sparse.linalg\n",
    "import networkx as nx\n",
    "import math\n",
    "from scipy import sparse"
   ]
  },
  {
   "cell_type": "code",
   "execution_count": 2,
   "metadata": {},
   "outputs": [],
   "source": [
    "%matplotlib inline"
   ]
  },
  {
   "cell_type": "code",
   "execution_count": 3,
   "metadata": {},
   "outputs": [],
   "source": [
    "seed = 3"
   ]
  },
  {
   "cell_type": "markdown",
   "metadata": {},
   "source": [
    "# Load the data"
   ]
  },
  {
   "cell_type": "code",
   "execution_count": 4,
   "metadata": {},
   "outputs": [],
   "source": [
    "data_path = 'data/'"
   ]
  },
  {
   "cell_type": "code",
   "execution_count": 5,
   "metadata": {},
   "outputs": [
    {
     "data": {
      "text/html": [
       "<div>\n",
       "<style scoped>\n",
       "    .dataframe tbody tr th:only-of-type {\n",
       "        vertical-align: middle;\n",
       "    }\n",
       "\n",
       "    .dataframe tbody tr th {\n",
       "        vertical-align: top;\n",
       "    }\n",
       "\n",
       "    .dataframe thead th {\n",
       "        text-align: right;\n",
       "    }\n",
       "</style>\n",
       "<table border=\"1\" class=\"dataframe\">\n",
       "  <thead>\n",
       "    <tr style=\"text-align: right;\">\n",
       "      <th></th>\n",
       "      <th>budget</th>\n",
       "      <th>genres</th>\n",
       "      <th>homepage</th>\n",
       "      <th>id</th>\n",
       "      <th>keywords</th>\n",
       "      <th>original_language</th>\n",
       "      <th>original_title</th>\n",
       "      <th>overview</th>\n",
       "      <th>popularity</th>\n",
       "      <th>production_companies</th>\n",
       "      <th>...</th>\n",
       "      <th>runtime</th>\n",
       "      <th>spoken_languages</th>\n",
       "      <th>status</th>\n",
       "      <th>tagline</th>\n",
       "      <th>title_x</th>\n",
       "      <th>vote_average</th>\n",
       "      <th>vote_count</th>\n",
       "      <th>title_y</th>\n",
       "      <th>cast</th>\n",
       "      <th>crew</th>\n",
       "    </tr>\n",
       "  </thead>\n",
       "  <tbody>\n",
       "    <tr>\n",
       "      <th>0</th>\n",
       "      <td>237000000</td>\n",
       "      <td>[{\"id\": 28, \"name\": \"Action\"}, {\"id\": 12, \"nam...</td>\n",
       "      <td>http://www.avatarmovie.com/</td>\n",
       "      <td>19995</td>\n",
       "      <td>[{\"id\": 1463, \"name\": \"culture clash\"}, {\"id\":...</td>\n",
       "      <td>en</td>\n",
       "      <td>Avatar</td>\n",
       "      <td>In the 22nd century, a paraplegic Marine is di...</td>\n",
       "      <td>150.437577</td>\n",
       "      <td>[{\"name\": \"Ingenious Film Partners\", \"id\": 289...</td>\n",
       "      <td>...</td>\n",
       "      <td>162.0</td>\n",
       "      <td>[{\"iso_639_1\": \"en\", \"name\": \"English\"}, {\"iso...</td>\n",
       "      <td>Released</td>\n",
       "      <td>Enter the World of Pandora.</td>\n",
       "      <td>Avatar</td>\n",
       "      <td>7.2</td>\n",
       "      <td>11800</td>\n",
       "      <td>Avatar</td>\n",
       "      <td>[{\"cast_id\": 242, \"character\": \"Jake Sully\", \"...</td>\n",
       "      <td>[{\"credit_id\": \"52fe48009251416c750aca23\", \"de...</td>\n",
       "    </tr>\n",
       "  </tbody>\n",
       "</table>\n",
       "<p>1 rows × 23 columns</p>\n",
       "</div>"
      ],
      "text/plain": [
       "      budget                                             genres  \\\n",
       "0  237000000  [{\"id\": 28, \"name\": \"Action\"}, {\"id\": 12, \"nam...   \n",
       "\n",
       "                      homepage     id  \\\n",
       "0  http://www.avatarmovie.com/  19995   \n",
       "\n",
       "                                            keywords original_language  \\\n",
       "0  [{\"id\": 1463, \"name\": \"culture clash\"}, {\"id\":...                en   \n",
       "\n",
       "  original_title                                           overview  \\\n",
       "0         Avatar  In the 22nd century, a paraplegic Marine is di...   \n",
       "\n",
       "   popularity                               production_companies  \\\n",
       "0  150.437577  [{\"name\": \"Ingenious Film Partners\", \"id\": 289...   \n",
       "\n",
       "                         ...                         runtime  \\\n",
       "0                        ...                           162.0   \n",
       "\n",
       "                                    spoken_languages    status  \\\n",
       "0  [{\"iso_639_1\": \"en\", \"name\": \"English\"}, {\"iso...  Released   \n",
       "\n",
       "                       tagline title_x vote_average vote_count title_y  \\\n",
       "0  Enter the World of Pandora.  Avatar          7.2      11800  Avatar   \n",
       "\n",
       "                                                cast  \\\n",
       "0  [{\"cast_id\": 242, \"character\": \"Jake Sully\", \"...   \n",
       "\n",
       "                                                crew  \n",
       "0  [{\"credit_id\": \"52fe48009251416c750aca23\", \"de...  \n",
       "\n",
       "[1 rows x 23 columns]"
      ]
     },
     "execution_count": 5,
     "metadata": {},
     "output_type": "execute_result"
    }
   ],
   "source": [
    "# Kaggle data\n",
    "movies_path = data_path + 'tmdb-5000-movie-dataset/'\n",
    "credits = pd.read_csv(movies_path + 'tmdb_5000_credits.csv')\n",
    "movies = pd.read_csv(movies_path + 'tmdb_5000_movies.csv')\n",
    "\n",
    "credits = credits.rename(columns={'movie_id': 'id'})\n",
    "\n",
    "# merge the two data set credit and movies\n",
    "movies = movies.merge(credits, how='inner', on='id')\n",
    "\n",
    "movies.head(1)"
   ]
  },
  {
   "cell_type": "markdown",
   "metadata": {},
   "source": [
    "# Clean and prepare the data"
   ]
  },
  {
   "cell_type": "code",
   "execution_count": 6,
   "metadata": {},
   "outputs": [
    {
     "data": {
      "text/plain": [
       "Index(['budget', 'genres', 'homepage', 'id', 'keywords', 'original_language',\n",
       "       'original_title', 'overview', 'popularity', 'production_companies',\n",
       "       'production_countries', 'release_date', 'revenue', 'runtime',\n",
       "       'spoken_languages', 'status', 'tagline', 'title_x', 'vote_average',\n",
       "       'vote_count', 'title_y', 'cast', 'crew'],\n",
       "      dtype='object')"
      ]
     },
     "execution_count": 6,
     "metadata": {},
     "output_type": "execute_result"
    }
   ],
   "source": [
    "movies.columns"
   ]
  },
  {
   "cell_type": "code",
   "execution_count": 7,
   "metadata": {},
   "outputs": [
    {
     "name": "stdout",
     "output_type": "stream",
     "text": [
      "1574 movies were dropped (32.77118467624401%).\n"
     ]
    }
   ],
   "source": [
    "# Drop 0 budget or revenue movies (corresponds to unknown values)\n",
    "before = len(movies)\n",
    "movies = movies[(movies['budget'] != 0) & (movies['revenue'] != 0)]\n",
    "print('{} movies were dropped ({}%).'.format(before-len(movies), 100*(before-len(movies))/before))"
   ]
  },
  {
   "cell_type": "code",
   "execution_count": 8,
   "metadata": {},
   "outputs": [],
   "source": [
    "movies['earnings'] = (movies['revenue'] - movies['budget']) / movies['budget']"
   ]
  },
  {
   "cell_type": "code",
   "execution_count": 9,
   "metadata": {},
   "outputs": [
    {
     "data": {
      "text/html": [
       "<div>\n",
       "<style scoped>\n",
       "    .dataframe tbody tr th:only-of-type {\n",
       "        vertical-align: middle;\n",
       "    }\n",
       "\n",
       "    .dataframe tbody tr th {\n",
       "        vertical-align: top;\n",
       "    }\n",
       "\n",
       "    .dataframe thead th {\n",
       "        text-align: right;\n",
       "    }\n",
       "</style>\n",
       "<table border=\"1\" class=\"dataframe\">\n",
       "  <thead>\n",
       "    <tr style=\"text-align: right;\">\n",
       "      <th></th>\n",
       "      <th>original_title</th>\n",
       "      <th>budget</th>\n",
       "      <th>revenue</th>\n",
       "      <th>earnings</th>\n",
       "      <th>production_companies</th>\n",
       "      <th>cast</th>\n",
       "      <th>crew</th>\n",
       "    </tr>\n",
       "  </thead>\n",
       "  <tbody>\n",
       "    <tr>\n",
       "      <th>0</th>\n",
       "      <td>Avatar</td>\n",
       "      <td>237000000</td>\n",
       "      <td>2787965087</td>\n",
       "      <td>10.763566</td>\n",
       "      <td>[{\"name\": \"Ingenious Film Partners\", \"id\": 289...</td>\n",
       "      <td>[{\"cast_id\": 242, \"character\": \"Jake Sully\", \"...</td>\n",
       "      <td>[{\"credit_id\": \"52fe48009251416c750aca23\", \"de...</td>\n",
       "    </tr>\n",
       "    <tr>\n",
       "      <th>1</th>\n",
       "      <td>Pirates of the Caribbean: At World's End</td>\n",
       "      <td>300000000</td>\n",
       "      <td>961000000</td>\n",
       "      <td>2.203333</td>\n",
       "      <td>[{\"name\": \"Walt Disney Pictures\", \"id\": 2}, {\"...</td>\n",
       "      <td>[{\"cast_id\": 4, \"character\": \"Captain Jack Spa...</td>\n",
       "      <td>[{\"credit_id\": \"52fe4232c3a36847f800b579\", \"de...</td>\n",
       "    </tr>\n",
       "    <tr>\n",
       "      <th>2</th>\n",
       "      <td>Spectre</td>\n",
       "      <td>245000000</td>\n",
       "      <td>880674609</td>\n",
       "      <td>2.594590</td>\n",
       "      <td>[{\"name\": \"Columbia Pictures\", \"id\": 5}, {\"nam...</td>\n",
       "      <td>[{\"cast_id\": 1, \"character\": \"James Bond\", \"cr...</td>\n",
       "      <td>[{\"credit_id\": \"54805967c3a36829b5002c41\", \"de...</td>\n",
       "    </tr>\n",
       "    <tr>\n",
       "      <th>3</th>\n",
       "      <td>The Dark Knight Rises</td>\n",
       "      <td>250000000</td>\n",
       "      <td>1084939099</td>\n",
       "      <td>3.339756</td>\n",
       "      <td>[{\"name\": \"Legendary Pictures\", \"id\": 923}, {\"...</td>\n",
       "      <td>[{\"cast_id\": 2, \"character\": \"Bruce Wayne / Ba...</td>\n",
       "      <td>[{\"credit_id\": \"52fe4781c3a36847f81398c3\", \"de...</td>\n",
       "    </tr>\n",
       "    <tr>\n",
       "      <th>4</th>\n",
       "      <td>John Carter</td>\n",
       "      <td>260000000</td>\n",
       "      <td>284139100</td>\n",
       "      <td>0.092843</td>\n",
       "      <td>[{\"name\": \"Walt Disney Pictures\", \"id\": 2}]</td>\n",
       "      <td>[{\"cast_id\": 5, \"character\": \"John Carter\", \"c...</td>\n",
       "      <td>[{\"credit_id\": \"52fe479ac3a36847f813eaa3\", \"de...</td>\n",
       "    </tr>\n",
       "  </tbody>\n",
       "</table>\n",
       "</div>"
      ],
      "text/plain": [
       "                             original_title     budget     revenue   earnings  \\\n",
       "0                                    Avatar  237000000  2787965087  10.763566   \n",
       "1  Pirates of the Caribbean: At World's End  300000000   961000000   2.203333   \n",
       "2                                   Spectre  245000000   880674609   2.594590   \n",
       "3                     The Dark Knight Rises  250000000  1084939099   3.339756   \n",
       "4                               John Carter  260000000   284139100   0.092843   \n",
       "\n",
       "                                production_companies  \\\n",
       "0  [{\"name\": \"Ingenious Film Partners\", \"id\": 289...   \n",
       "1  [{\"name\": \"Walt Disney Pictures\", \"id\": 2}, {\"...   \n",
       "2  [{\"name\": \"Columbia Pictures\", \"id\": 5}, {\"nam...   \n",
       "3  [{\"name\": \"Legendary Pictures\", \"id\": 923}, {\"...   \n",
       "4        [{\"name\": \"Walt Disney Pictures\", \"id\": 2}]   \n",
       "\n",
       "                                                cast  \\\n",
       "0  [{\"cast_id\": 242, \"character\": \"Jake Sully\", \"...   \n",
       "1  [{\"cast_id\": 4, \"character\": \"Captain Jack Spa...   \n",
       "2  [{\"cast_id\": 1, \"character\": \"James Bond\", \"cr...   \n",
       "3  [{\"cast_id\": 2, \"character\": \"Bruce Wayne / Ba...   \n",
       "4  [{\"cast_id\": 5, \"character\": \"John Carter\", \"c...   \n",
       "\n",
       "                                                crew  \n",
       "0  [{\"credit_id\": \"52fe48009251416c750aca23\", \"de...  \n",
       "1  [{\"credit_id\": \"52fe4232c3a36847f800b579\", \"de...  \n",
       "2  [{\"credit_id\": \"54805967c3a36829b5002c41\", \"de...  \n",
       "3  [{\"credit_id\": \"52fe4781c3a36847f81398c3\", \"de...  \n",
       "4  [{\"credit_id\": \"52fe479ac3a36847f813eaa3\", \"de...  "
      ]
     },
     "execution_count": 9,
     "metadata": {},
     "output_type": "execute_result"
    }
   ],
   "source": [
    "# keep only useful movies\n",
    "movies = movies[['original_title', 'budget', 'revenue', 'earnings', 'production_companies', 'cast', 'crew']]\n",
    "movies.head(5)"
   ]
  },
  {
   "cell_type": "code",
   "execution_count": 10,
   "metadata": {},
   "outputs": [
    {
     "data": {
      "text/html": [
       "<div>\n",
       "<style scoped>\n",
       "    .dataframe tbody tr th:only-of-type {\n",
       "        vertical-align: middle;\n",
       "    }\n",
       "\n",
       "    .dataframe tbody tr th {\n",
       "        vertical-align: top;\n",
       "    }\n",
       "\n",
       "    .dataframe thead th {\n",
       "        text-align: right;\n",
       "    }\n",
       "</style>\n",
       "<table border=\"1\" class=\"dataframe\">\n",
       "  <thead>\n",
       "    <tr style=\"text-align: right;\">\n",
       "      <th></th>\n",
       "      <th>original_title</th>\n",
       "      <th>budget</th>\n",
       "      <th>revenue</th>\n",
       "      <th>earnings</th>\n",
       "      <th>production_companies</th>\n",
       "      <th>cast</th>\n",
       "      <th>crew</th>\n",
       "    </tr>\n",
       "  </thead>\n",
       "  <tbody>\n",
       "    <tr>\n",
       "      <th>4238</th>\n",
       "      <td>Modern Times</td>\n",
       "      <td>1</td>\n",
       "      <td>8500000</td>\n",
       "      <td>8.499999e+06</td>\n",
       "      <td>[{\"name\": \"United Artists\", \"id\": 60}, {\"name\"...</td>\n",
       "      <td>[{\"cast_id\": 8, \"character\": \"A factory worker...</td>\n",
       "      <td>[{\"credit_id\": \"5621aeadc3a3680e1d00a09a\", \"de...</td>\n",
       "    </tr>\n",
       "    <tr>\n",
       "      <th>3137</th>\n",
       "      <td>Nurse 3-D</td>\n",
       "      <td>10</td>\n",
       "      <td>10000000</td>\n",
       "      <td>9.999990e+05</td>\n",
       "      <td>[{\"name\": \"Lions Gate\", \"id\": 6644}, {\"name\": ...</td>\n",
       "      <td>[{\"cast_id\": 5, \"character\": \"Abby Russell\", \"...</td>\n",
       "      <td>[{\"credit_id\": \"52fe499cc3a368484e1346b1\", \"de...</td>\n",
       "    </tr>\n",
       "    <tr>\n",
       "      <th>4577</th>\n",
       "      <td>Paranormal Activity</td>\n",
       "      <td>15000</td>\n",
       "      <td>193355800</td>\n",
       "      <td>1.288939e+04</td>\n",
       "      <td>[{\"name\": \"Blumhouse Productions\", \"id\": 3172}...</td>\n",
       "      <td>[{\"cast_id\": 3, \"character\": \"Katie\", \"credit_...</td>\n",
       "      <td>[{\"credit_id\": \"52fe4477c3a368484e024b01\", \"de...</td>\n",
       "    </tr>\n",
       "    <tr>\n",
       "      <th>4582</th>\n",
       "      <td>Tarnation</td>\n",
       "      <td>218</td>\n",
       "      <td>1162014</td>\n",
       "      <td>5.329339e+03</td>\n",
       "      <td>[]</td>\n",
       "      <td>[{\"cast_id\": 2, \"character\": \"Herself\", \"credi...</td>\n",
       "      <td>[{\"credit_id\": \"52fe42f7c3a36847f8030443\", \"de...</td>\n",
       "    </tr>\n",
       "    <tr>\n",
       "      <th>4496</th>\n",
       "      <td>The Blair Witch Project</td>\n",
       "      <td>60000</td>\n",
       "      <td>248000000</td>\n",
       "      <td>4.132333e+03</td>\n",
       "      <td>[{\"name\": \"Artisan Entertainment\", \"id\": 2188}...</td>\n",
       "      <td>[{\"cast_id\": 41, \"character\": \"Mike\", \"credit_...</td>\n",
       "      <td>[{\"credit_id\": \"52fe4364c3a36847f8050c01\", \"de...</td>\n",
       "    </tr>\n",
       "  </tbody>\n",
       "</table>\n",
       "</div>"
      ],
      "text/plain": [
       "               original_title  budget    revenue      earnings  \\\n",
       "4238             Modern Times       1    8500000  8.499999e+06   \n",
       "3137                Nurse 3-D      10   10000000  9.999990e+05   \n",
       "4577      Paranormal Activity   15000  193355800  1.288939e+04   \n",
       "4582                Tarnation     218    1162014  5.329339e+03   \n",
       "4496  The Blair Witch Project   60000  248000000  4.132333e+03   \n",
       "\n",
       "                                   production_companies  \\\n",
       "4238  [{\"name\": \"United Artists\", \"id\": 60}, {\"name\"...   \n",
       "3137  [{\"name\": \"Lions Gate\", \"id\": 6644}, {\"name\": ...   \n",
       "4577  [{\"name\": \"Blumhouse Productions\", \"id\": 3172}...   \n",
       "4582                                                 []   \n",
       "4496  [{\"name\": \"Artisan Entertainment\", \"id\": 2188}...   \n",
       "\n",
       "                                                   cast  \\\n",
       "4238  [{\"cast_id\": 8, \"character\": \"A factory worker...   \n",
       "3137  [{\"cast_id\": 5, \"character\": \"Abby Russell\", \"...   \n",
       "4577  [{\"cast_id\": 3, \"character\": \"Katie\", \"credit_...   \n",
       "4582  [{\"cast_id\": 2, \"character\": \"Herself\", \"credi...   \n",
       "4496  [{\"cast_id\": 41, \"character\": \"Mike\", \"credit_...   \n",
       "\n",
       "                                                   crew  \n",
       "4238  [{\"credit_id\": \"5621aeadc3a3680e1d00a09a\", \"de...  \n",
       "3137  [{\"credit_id\": \"52fe499cc3a368484e1346b1\", \"de...  \n",
       "4577  [{\"credit_id\": \"52fe4477c3a368484e024b01\", \"de...  \n",
       "4582  [{\"credit_id\": \"52fe42f7c3a36847f8030443\", \"de...  \n",
       "4496  [{\"credit_id\": \"52fe4364c3a36847f8050c01\", \"de...  "
      ]
     },
     "execution_count": 10,
     "metadata": {},
     "output_type": "execute_result"
    }
   ],
   "source": [
    "movies.sort_values(by='earnings', ascending=False).head()"
   ]
  },
  {
   "cell_type": "markdown",
   "metadata": {},
   "source": [
    "After checking some of the data, we ca see that some of the values in the budget and revenue columns are expressed in millions wheras most of the values are raw numbers. We then choose to remove the values expressed in millions for more consistency of the future results. This is done by selecting only the movies that have a budget and revenue bigger than 1000 (it is unlikely that a movie will have a buget or a revenue more than a billion dollars)."
   ]
  },
  {
   "cell_type": "code",
   "execution_count": 11,
   "metadata": {},
   "outputs": [
    {
     "name": "stdout",
     "output_type": "stream",
     "text": [
      "18 0.5574481263549086\n"
     ]
    }
   ],
   "source": [
    "prev_len = len(movies)\n",
    "movies = movies[(movies['budget'] > 1000) & (movies['revenue'] > 1000)].reset_index(drop=True)\n",
    "n_movies = len(movies)\n",
    "print(prev_len - n_movies, 100*(prev_len - n_movies)/prev_len)"
   ]
  },
  {
   "cell_type": "markdown",
   "metadata": {},
   "source": [
    "This deletion represents 18 movies (~0.6% of the data), which is an acceptable value."
   ]
  },
  {
   "cell_type": "code",
   "execution_count": 12,
   "metadata": {},
   "outputs": [
    {
     "data": {
      "text/html": [
       "<div>\n",
       "<style scoped>\n",
       "    .dataframe tbody tr th:only-of-type {\n",
       "        vertical-align: middle;\n",
       "    }\n",
       "\n",
       "    .dataframe tbody tr th {\n",
       "        vertical-align: top;\n",
       "    }\n",
       "\n",
       "    .dataframe thead th {\n",
       "        text-align: right;\n",
       "    }\n",
       "</style>\n",
       "<table border=\"1\" class=\"dataframe\">\n",
       "  <thead>\n",
       "    <tr style=\"text-align: right;\">\n",
       "      <th></th>\n",
       "      <th>original_title</th>\n",
       "      <th>budget</th>\n",
       "      <th>revenue</th>\n",
       "      <th>earnings</th>\n",
       "      <th>production_companies</th>\n",
       "      <th>cast</th>\n",
       "      <th>crew</th>\n",
       "    </tr>\n",
       "  </thead>\n",
       "  <tbody>\n",
       "    <tr>\n",
       "      <th>3158</th>\n",
       "      <td>Paranormal Activity</td>\n",
       "      <td>15000</td>\n",
       "      <td>193355800</td>\n",
       "      <td>12889.386667</td>\n",
       "      <td>[{\"name\": \"Blumhouse Productions\", \"id\": 3172}...</td>\n",
       "      <td>[{\"cast_id\": 3, \"character\": \"Katie\", \"credit_...</td>\n",
       "      <td>[{\"credit_id\": \"52fe4477c3a368484e024b01\", \"de...</td>\n",
       "    </tr>\n",
       "    <tr>\n",
       "      <th>3142</th>\n",
       "      <td>The Blair Witch Project</td>\n",
       "      <td>60000</td>\n",
       "      <td>248000000</td>\n",
       "      <td>4132.333333</td>\n",
       "      <td>[{\"name\": \"Artisan Entertainment\", \"id\": 2188}...</td>\n",
       "      <td>[{\"cast_id\": 41, \"character\": \"Mike\", \"credit_...</td>\n",
       "      <td>[{\"credit_id\": \"52fe4364c3a36847f8050c01\", \"de...</td>\n",
       "    </tr>\n",
       "    <tr>\n",
       "      <th>3200</th>\n",
       "      <td>Eraserhead</td>\n",
       "      <td>10000</td>\n",
       "      <td>7000000</td>\n",
       "      <td>699.000000</td>\n",
       "      <td>[{\"name\": \"American Film Institute (AFI)\", \"id...</td>\n",
       "      <td>[{\"cast_id\": 13, \"character\": \"Henry Spencer\",...</td>\n",
       "      <td>[{\"credit_id\": \"52fe4296c3a36847f802a5dd\", \"de...</td>\n",
       "    </tr>\n",
       "    <tr>\n",
       "      <th>3207</th>\n",
       "      <td>Pink Flamingos</td>\n",
       "      <td>12000</td>\n",
       "      <td>6000000</td>\n",
       "      <td>499.000000</td>\n",
       "      <td>[{\"name\": \"Dreamland Productions\", \"id\": 407}]</td>\n",
       "      <td>[{\"cast_id\": 8, \"character\": \"Divine / Babs Jo...</td>\n",
       "      <td>[{\"credit_id\": \"52fe426bc3a36847f801d203\", \"de...</td>\n",
       "    </tr>\n",
       "    <tr>\n",
       "      <th>3202</th>\n",
       "      <td>Super Size Me</td>\n",
       "      <td>65000</td>\n",
       "      <td>28575078</td>\n",
       "      <td>438.616585</td>\n",
       "      <td>[{\"name\": \"Kathbur Pictures\", \"id\": 8735}]</td>\n",
       "      <td>[{\"cast_id\": 1, \"character\": \"Himself\", \"credi...</td>\n",
       "      <td>[{\"credit_id\": \"52fe44efc3a36847f80b2a9d\", \"de...</td>\n",
       "    </tr>\n",
       "  </tbody>\n",
       "</table>\n",
       "</div>"
      ],
      "text/plain": [
       "               original_title  budget    revenue      earnings  \\\n",
       "3158      Paranormal Activity   15000  193355800  12889.386667   \n",
       "3142  The Blair Witch Project   60000  248000000   4132.333333   \n",
       "3200               Eraserhead   10000    7000000    699.000000   \n",
       "3207           Pink Flamingos   12000    6000000    499.000000   \n",
       "3202            Super Size Me   65000   28575078    438.616585   \n",
       "\n",
       "                                   production_companies  \\\n",
       "3158  [{\"name\": \"Blumhouse Productions\", \"id\": 3172}...   \n",
       "3142  [{\"name\": \"Artisan Entertainment\", \"id\": 2188}...   \n",
       "3200  [{\"name\": \"American Film Institute (AFI)\", \"id...   \n",
       "3207     [{\"name\": \"Dreamland Productions\", \"id\": 407}]   \n",
       "3202         [{\"name\": \"Kathbur Pictures\", \"id\": 8735}]   \n",
       "\n",
       "                                                   cast  \\\n",
       "3158  [{\"cast_id\": 3, \"character\": \"Katie\", \"credit_...   \n",
       "3142  [{\"cast_id\": 41, \"character\": \"Mike\", \"credit_...   \n",
       "3200  [{\"cast_id\": 13, \"character\": \"Henry Spencer\",...   \n",
       "3207  [{\"cast_id\": 8, \"character\": \"Divine / Babs Jo...   \n",
       "3202  [{\"cast_id\": 1, \"character\": \"Himself\", \"credi...   \n",
       "\n",
       "                                                   crew  \n",
       "3158  [{\"credit_id\": \"52fe4477c3a368484e024b01\", \"de...  \n",
       "3142  [{\"credit_id\": \"52fe4364c3a36847f8050c01\", \"de...  \n",
       "3200  [{\"credit_id\": \"52fe4296c3a36847f802a5dd\", \"de...  \n",
       "3207  [{\"credit_id\": \"52fe426bc3a36847f801d203\", \"de...  \n",
       "3202  [{\"credit_id\": \"52fe44efc3a36847f80b2a9d\", \"de...  "
      ]
     },
     "execution_count": 12,
     "metadata": {},
     "output_type": "execute_result"
    }
   ],
   "source": [
    "movies.sort_values(by='earnings', ascending=False).head()"
   ]
  },
  {
   "cell_type": "code",
   "execution_count": 13,
   "metadata": {},
   "outputs": [
    {
     "data": {
      "text/html": [
       "<div>\n",
       "<style scoped>\n",
       "    .dataframe tbody tr th:only-of-type {\n",
       "        vertical-align: middle;\n",
       "    }\n",
       "\n",
       "    .dataframe tbody tr th {\n",
       "        vertical-align: top;\n",
       "    }\n",
       "\n",
       "    .dataframe thead th {\n",
       "        text-align: right;\n",
       "    }\n",
       "</style>\n",
       "<table border=\"1\" class=\"dataframe\">\n",
       "  <thead>\n",
       "    <tr style=\"text-align: right;\">\n",
       "      <th></th>\n",
       "      <th>original_title</th>\n",
       "      <th>earnings</th>\n",
       "      <th>production_companies</th>\n",
       "      <th>actors</th>\n",
       "      <th>characters</th>\n",
       "      <th>crew</th>\n",
       "    </tr>\n",
       "  </thead>\n",
       "  <tbody>\n",
       "    <tr>\n",
       "      <th>0</th>\n",
       "      <td>Avatar</td>\n",
       "      <td>10.763566</td>\n",
       "      <td>[Ingenious Film Partners]</td>\n",
       "      <td>[Sam Worthington, Zoe Saldana, Sigourney Weave...</td>\n",
       "      <td>[Jake Sully, Neytiri, Dr. Grace Augustine, Col...</td>\n",
       "      <td>[James Cameron, James Cameron, Jon Landau]</td>\n",
       "    </tr>\n",
       "    <tr>\n",
       "      <th>1</th>\n",
       "      <td>Pirates of the Caribbean: At World's End</td>\n",
       "      <td>2.203333</td>\n",
       "      <td>[Walt Disney Pictures]</td>\n",
       "      <td>[Johnny Depp, Orlando Bloom, Keira Knightley, ...</td>\n",
       "      <td>[Captain Jack Sparrow, Will Turner, Elizabeth ...</td>\n",
       "      <td>[Gore Verbinski, Jerry Bruckheimer, Eric McLeo...</td>\n",
       "    </tr>\n",
       "    <tr>\n",
       "      <th>2</th>\n",
       "      <td>Spectre</td>\n",
       "      <td>2.594590</td>\n",
       "      <td>[Columbia Pictures]</td>\n",
       "      <td>[Daniel Craig, Christoph Waltz, Léa Seydoux, R...</td>\n",
       "      <td>[James Bond, Blofeld, Madeleine, M, Lucia]</td>\n",
       "      <td>[Sam Mendes, Barbara Broccoli, Michael G. Wilson]</td>\n",
       "    </tr>\n",
       "    <tr>\n",
       "      <th>3</th>\n",
       "      <td>The Dark Knight Rises</td>\n",
       "      <td>3.339756</td>\n",
       "      <td>[Legendary Pictures]</td>\n",
       "      <td>[Christian Bale, Michael Caine, Gary Oldman, A...</td>\n",
       "      <td>[Bruce Wayne / Batman, Alfred Pennyworth, Jame...</td>\n",
       "      <td>[Charles Roven, Christopher Nolan, Christopher...</td>\n",
       "    </tr>\n",
       "    <tr>\n",
       "      <th>4</th>\n",
       "      <td>John Carter</td>\n",
       "      <td>0.092843</td>\n",
       "      <td>[Walt Disney Pictures]</td>\n",
       "      <td>[Taylor Kitsch, Lynn Collins, Samantha Morton,...</td>\n",
       "      <td>[John Carter, Dejah Thoris, Sola, Tars Tarkas,...</td>\n",
       "      <td>[Andrew Stanton, Colin Wilson, Jim Morris, Lin...</td>\n",
       "    </tr>\n",
       "  </tbody>\n",
       "</table>\n",
       "</div>"
      ],
      "text/plain": [
       "                             original_title   earnings  \\\n",
       "0                                    Avatar  10.763566   \n",
       "1  Pirates of the Caribbean: At World's End   2.203333   \n",
       "2                                   Spectre   2.594590   \n",
       "3                     The Dark Knight Rises   3.339756   \n",
       "4                               John Carter   0.092843   \n",
       "\n",
       "        production_companies  \\\n",
       "0  [Ingenious Film Partners]   \n",
       "1     [Walt Disney Pictures]   \n",
       "2        [Columbia Pictures]   \n",
       "3       [Legendary Pictures]   \n",
       "4     [Walt Disney Pictures]   \n",
       "\n",
       "                                              actors  \\\n",
       "0  [Sam Worthington, Zoe Saldana, Sigourney Weave...   \n",
       "1  [Johnny Depp, Orlando Bloom, Keira Knightley, ...   \n",
       "2  [Daniel Craig, Christoph Waltz, Léa Seydoux, R...   \n",
       "3  [Christian Bale, Michael Caine, Gary Oldman, A...   \n",
       "4  [Taylor Kitsch, Lynn Collins, Samantha Morton,...   \n",
       "\n",
       "                                          characters  \\\n",
       "0  [Jake Sully, Neytiri, Dr. Grace Augustine, Col...   \n",
       "1  [Captain Jack Sparrow, Will Turner, Elizabeth ...   \n",
       "2         [James Bond, Blofeld, Madeleine, M, Lucia]   \n",
       "3  [Bruce Wayne / Batman, Alfred Pennyworth, Jame...   \n",
       "4  [John Carter, Dejah Thoris, Sola, Tars Tarkas,...   \n",
       "\n",
       "                                                crew  \n",
       "0         [James Cameron, James Cameron, Jon Landau]  \n",
       "1  [Gore Verbinski, Jerry Bruckheimer, Eric McLeo...  \n",
       "2  [Sam Mendes, Barbara Broccoli, Michael G. Wilson]  \n",
       "3  [Charles Roven, Christopher Nolan, Christopher...  \n",
       "4  [Andrew Stanton, Colin Wilson, Jim Morris, Lin...  "
      ]
     },
     "execution_count": 13,
     "metadata": {},
     "output_type": "execute_result"
    }
   ],
   "source": [
    "to_keep = 5\n",
    "\n",
    "movies['actors'] = movies.cast.map(lambda x: list(map(lambda d: d['name'], json.loads(x)))[:to_keep])\n",
    "\n",
    "movies['characters'] = movies.cast.map(lambda x: list(map(lambda d: d['character'], json.loads(x)))[:to_keep])\n",
    "\n",
    "movies['crew'] = movies.crew.map(lambda x: list(filter(None, list(map(lambda d: d['name'] if (d['job'] == 'Director' or d['job'] == 'Producer') else None, json.loads(x))))))\n",
    "\n",
    "movies['production_companies'] = movies.production_companies.map(lambda x: list(map(lambda d: d['name'], json.loads(x)))[:1])\n",
    "\n",
    "movies = movies[['original_title', 'earnings', 'production_companies', 'actors', 'characters', 'crew']]\n",
    "\n",
    "movies.head(5)"
   ]
  },
  {
   "cell_type": "code",
   "execution_count": 14,
   "metadata": {},
   "outputs": [
    {
     "data": {
      "text/html": [
       "<div>\n",
       "<style scoped>\n",
       "    .dataframe tbody tr th:only-of-type {\n",
       "        vertical-align: middle;\n",
       "    }\n",
       "\n",
       "    .dataframe tbody tr th {\n",
       "        vertical-align: top;\n",
       "    }\n",
       "\n",
       "    .dataframe thead th {\n",
       "        text-align: right;\n",
       "    }\n",
       "</style>\n",
       "<table border=\"1\" class=\"dataframe\">\n",
       "  <thead>\n",
       "    <tr style=\"text-align: right;\">\n",
       "      <th></th>\n",
       "      <th>original_title</th>\n",
       "      <th>earnings</th>\n",
       "      <th>features</th>\n",
       "    </tr>\n",
       "  </thead>\n",
       "  <tbody>\n",
       "    <tr>\n",
       "      <th>0</th>\n",
       "      <td>Avatar</td>\n",
       "      <td>10.763566</td>\n",
       "      <td>[Ingenious Film Partners, Sam Worthington, Zoe...</td>\n",
       "    </tr>\n",
       "    <tr>\n",
       "      <th>1</th>\n",
       "      <td>Pirates of the Caribbean: At World's End</td>\n",
       "      <td>2.203333</td>\n",
       "      <td>[Walt Disney Pictures, Johnny Depp, Orlando Bl...</td>\n",
       "    </tr>\n",
       "    <tr>\n",
       "      <th>2</th>\n",
       "      <td>Spectre</td>\n",
       "      <td>2.594590</td>\n",
       "      <td>[Columbia Pictures, Daniel Craig, Christoph Wa...</td>\n",
       "    </tr>\n",
       "    <tr>\n",
       "      <th>3</th>\n",
       "      <td>The Dark Knight Rises</td>\n",
       "      <td>3.339756</td>\n",
       "      <td>[Legendary Pictures, Christian Bale, Michael C...</td>\n",
       "    </tr>\n",
       "    <tr>\n",
       "      <th>4</th>\n",
       "      <td>John Carter</td>\n",
       "      <td>0.092843</td>\n",
       "      <td>[Walt Disney Pictures, Taylor Kitsch, Lynn Col...</td>\n",
       "    </tr>\n",
       "  </tbody>\n",
       "</table>\n",
       "</div>"
      ],
      "text/plain": [
       "                             original_title   earnings  \\\n",
       "0                                    Avatar  10.763566   \n",
       "1  Pirates of the Caribbean: At World's End   2.203333   \n",
       "2                                   Spectre   2.594590   \n",
       "3                     The Dark Knight Rises   3.339756   \n",
       "4                               John Carter   0.092843   \n",
       "\n",
       "                                            features  \n",
       "0  [Ingenious Film Partners, Sam Worthington, Zoe...  \n",
       "1  [Walt Disney Pictures, Johnny Depp, Orlando Bl...  \n",
       "2  [Columbia Pictures, Daniel Craig, Christoph Wa...  \n",
       "3  [Legendary Pictures, Christian Bale, Michael C...  \n",
       "4  [Walt Disney Pictures, Taylor Kitsch, Lynn Col...  "
      ]
     },
     "execution_count": 14,
     "metadata": {},
     "output_type": "execute_result"
    }
   ],
   "source": [
    "movies['features'] = movies['production_companies'] + movies['actors'] + movies['characters'] + movies['crew']\n",
    "movies = movies[['original_title', 'earnings', 'features']]\n",
    "movies.head(5)"
   ]
  },
  {
   "cell_type": "code",
   "execution_count": 15,
   "metadata": {},
   "outputs": [
    {
     "data": {
      "text/plain": [
       "count     3211.000000\n",
       "mean        10.141042\n",
       "std        240.069277\n",
       "min         -0.999744\n",
       "25%          0.030258\n",
       "50%          1.303478\n",
       "75%          3.420937\n",
       "max      12889.386667\n",
       "Name: earnings, dtype: float64"
      ]
     },
     "execution_count": 15,
     "metadata": {},
     "output_type": "execute_result"
    }
   ],
   "source": [
    "movies['earnings'].describe()"
   ]
  },
  {
   "cell_type": "markdown",
   "metadata": {},
   "source": [
    "# Compute weights of features"
   ]
  },
  {
   "cell_type": "code",
   "execution_count": 16,
   "metadata": {},
   "outputs": [],
   "source": [
    "# A DataFrame where each row contains only one feature (actor, character or production company)\n",
    "# Easier for later computations\n",
    "earning_movies = movies.set_index(['original_title', 'earnings'])['features'].apply(pd.Series).stack().reset_index().drop('level_2', axis=1).drop_duplicates()\n",
    "earning_movies.columns = ['original_title', 'earnings', 'feature']"
   ]
  },
  {
   "cell_type": "code",
   "execution_count": 17,
   "metadata": {},
   "outputs": [
    {
     "data": {
      "text/html": [
       "<div>\n",
       "<style scoped>\n",
       "    .dataframe tbody tr th:only-of-type {\n",
       "        vertical-align: middle;\n",
       "    }\n",
       "\n",
       "    .dataframe tbody tr th {\n",
       "        vertical-align: top;\n",
       "    }\n",
       "\n",
       "    .dataframe thead th {\n",
       "        text-align: right;\n",
       "    }\n",
       "</style>\n",
       "<table border=\"1\" class=\"dataframe\">\n",
       "  <thead>\n",
       "    <tr style=\"text-align: right;\">\n",
       "      <th></th>\n",
       "      <th>original_title</th>\n",
       "      <th>earnings</th>\n",
       "      <th>feature</th>\n",
       "    </tr>\n",
       "  </thead>\n",
       "  <tbody>\n",
       "    <tr>\n",
       "      <th>57</th>\n",
       "      <td>The Dark Knight Rises</td>\n",
       "      <td>3.339756</td>\n",
       "      <td>Christopher Nolan</td>\n",
       "    </tr>\n",
       "    <tr>\n",
       "      <th>216</th>\n",
       "      <td>Man of Steel</td>\n",
       "      <td>1.945980</td>\n",
       "      <td>Christopher Nolan</td>\n",
       "    </tr>\n",
       "    <tr>\n",
       "      <th>980</th>\n",
       "      <td>The Dark Knight</td>\n",
       "      <td>4.430046</td>\n",
       "      <td>Christopher Nolan</td>\n",
       "    </tr>\n",
       "    <tr>\n",
       "      <th>1403</th>\n",
       "      <td>Interstellar</td>\n",
       "      <td>3.091636</td>\n",
       "      <td>Christopher Nolan</td>\n",
       "    </tr>\n",
       "    <tr>\n",
       "      <th>1418</th>\n",
       "      <td>Inception</td>\n",
       "      <td>4.159580</td>\n",
       "      <td>Christopher Nolan</td>\n",
       "    </tr>\n",
       "    <tr>\n",
       "      <th>1777</th>\n",
       "      <td>Batman Begins</td>\n",
       "      <td>1.494791</td>\n",
       "      <td>Christopher Nolan</td>\n",
       "    </tr>\n",
       "    <tr>\n",
       "      <th>14396</th>\n",
       "      <td>Insomnia</td>\n",
       "      <td>1.472062</td>\n",
       "      <td>Christopher Nolan</td>\n",
       "    </tr>\n",
       "    <tr>\n",
       "      <th>16538</th>\n",
       "      <td>The Prestige</td>\n",
       "      <td>1.741908</td>\n",
       "      <td>Christopher Nolan</td>\n",
       "    </tr>\n",
       "    <tr>\n",
       "      <th>40256</th>\n",
       "      <td>Memento</td>\n",
       "      <td>3.413677</td>\n",
       "      <td>Christopher Nolan</td>\n",
       "    </tr>\n",
       "  </tbody>\n",
       "</table>\n",
       "</div>"
      ],
      "text/plain": [
       "              original_title  earnings            feature\n",
       "57     The Dark Knight Rises  3.339756  Christopher Nolan\n",
       "216             Man of Steel  1.945980  Christopher Nolan\n",
       "980          The Dark Knight  4.430046  Christopher Nolan\n",
       "1403            Interstellar  3.091636  Christopher Nolan\n",
       "1418               Inception  4.159580  Christopher Nolan\n",
       "1777           Batman Begins  1.494791  Christopher Nolan\n",
       "14396               Insomnia  1.472062  Christopher Nolan\n",
       "16538           The Prestige  1.741908  Christopher Nolan\n",
       "40256                Memento  3.413677  Christopher Nolan"
      ]
     },
     "execution_count": 17,
     "metadata": {},
     "output_type": "execute_result"
    }
   ],
   "source": [
    "earning_movies[earning_movies['feature'] == 'Christopher Nolan']"
   ]
  },
  {
   "cell_type": "code",
   "execution_count": 18,
   "metadata": {},
   "outputs": [],
   "source": [
    "def compute_features_weight(movies, data_type):\n",
    "    try:\n",
    "        features = pd.read_csv('features_' + data_type + '.csv')\n",
    "    except FileNotFoundError: \n",
    "        # Create the features table with their weights associated weights (set to 0).\n",
    "        features = set(movies['features'].sum())\n",
    "        features.discard('')\n",
    "        features = list(features)\n",
    "        features.sort()\n",
    "        features = pd.DataFrame(features, columns=['feature'])\n",
    "        \n",
    "        features['weight'] = 0\n",
    "        for i, feature in enumerate(features['feature']):\n",
    "            in_movie = earning_movies[earning_movies['feature'] == feature]\n",
    "            features.loc[i, 'weight'] = in_movie['earnings'].sum() / len(in_movie)\n",
    "            \n",
    "        features.to_csv(data_path + 'features_' + data_type + '.csv')\n",
    "    return features"
   ]
  },
  {
   "cell_type": "code",
   "execution_count": 19,
   "metadata": {},
   "outputs": [],
   "source": [
    "features = compute_features_weight(movies, 'full')"
   ]
  },
  {
   "cell_type": "markdown",
   "metadata": {},
   "source": [
    "# Compute Adjacency Matrix"
   ]
  },
  {
   "cell_type": "code",
   "execution_count": 20,
   "metadata": {},
   "outputs": [],
   "source": [
    "def compute_adjacency(name, model):\n",
    "    try:\n",
    "        adjacency = np.load(data_path + name)\n",
    "\n",
    "    except FileNotFoundError: \n",
    "        adjacency = np.zeros((n_nodes, n_nodes), dtype=int)\n",
    "        for i in range(n_nodes):\n",
    "                # as the adjacency matrix is symmetric, only the upper triangular is calculated to save time\n",
    "                for j in range(i, n_nodes):\n",
    "                    # create weighted edges as the shared number of actors between movies\n",
    "                    common_actors = set(movies['features'][i]).intersection(set(movies['features'][j]))\n",
    "                    sum_weights = 0.0\n",
    "\n",
    "                    for actor in common_actors :\n",
    "                        if (features['feature'].isin([actor]).any()):\n",
    "                            sum_weights = sum_weights + features[features['feature'] == actor][model].item()\n",
    "\n",
    "\n",
    "                    adjacency[i, j] = sum_weights\n",
    "\n",
    "        # fill the lower triangular \n",
    "        adjacency += np.transpose(adjacency)\n",
    "\n",
    "        np.fill_diagonal(adjacency, 0, wrap=False)\n",
    "        \n",
    "        np.save(data_path + name, adjacency)\n",
    "    return adjacency"
   ]
  },
  {
   "cell_type": "code",
   "execution_count": 21,
   "metadata": {},
   "outputs": [
    {
     "ename": "KeyboardInterrupt",
     "evalue": "",
     "output_type": "error",
     "traceback": [
      "\u001b[0;31m---------------------------------------------------------------------------\u001b[0m",
      "\u001b[0;31mFileNotFoundError\u001b[0m                         Traceback (most recent call last)",
      "\u001b[0;32m<ipython-input-20-c10a8cd05cd3>\u001b[0m in \u001b[0;36mcompute_adjacency\u001b[0;34m(name, model)\u001b[0m\n\u001b[1;32m      2\u001b[0m     \u001b[0;32mtry\u001b[0m\u001b[0;34m:\u001b[0m\u001b[0;34m\u001b[0m\u001b[0m\n\u001b[0;32m----> 3\u001b[0;31m         \u001b[0madjacency\u001b[0m \u001b[0;34m=\u001b[0m \u001b[0mnp\u001b[0m\u001b[0;34m.\u001b[0m\u001b[0mload\u001b[0m\u001b[0;34m(\u001b[0m\u001b[0mdata_path\u001b[0m \u001b[0;34m+\u001b[0m \u001b[0mname\u001b[0m\u001b[0;34m)\u001b[0m\u001b[0;34m\u001b[0m\u001b[0m\n\u001b[0m\u001b[1;32m      4\u001b[0m \u001b[0;34m\u001b[0m\u001b[0m\n",
      "\u001b[0;32m~/anaconda/lib/python3.6/site-packages/numpy/lib/npyio.py\u001b[0m in \u001b[0;36mload\u001b[0;34m(file, mmap_mode, allow_pickle, fix_imports, encoding)\u001b[0m\n\u001b[1;32m    383\u001b[0m     \u001b[0;32mif\u001b[0m \u001b[0misinstance\u001b[0m\u001b[0;34m(\u001b[0m\u001b[0mfile\u001b[0m\u001b[0;34m,\u001b[0m \u001b[0mbasestring\u001b[0m\u001b[0;34m)\u001b[0m\u001b[0;34m:\u001b[0m\u001b[0;34m\u001b[0m\u001b[0m\n\u001b[0;32m--> 384\u001b[0;31m         \u001b[0mfid\u001b[0m \u001b[0;34m=\u001b[0m \u001b[0mopen\u001b[0m\u001b[0;34m(\u001b[0m\u001b[0mfile\u001b[0m\u001b[0;34m,\u001b[0m \u001b[0;34m\"rb\"\u001b[0m\u001b[0;34m)\u001b[0m\u001b[0;34m\u001b[0m\u001b[0m\n\u001b[0m\u001b[1;32m    385\u001b[0m         \u001b[0mown_fid\u001b[0m \u001b[0;34m=\u001b[0m \u001b[0;32mTrue\u001b[0m\u001b[0;34m\u001b[0m\u001b[0m\n",
      "\u001b[0;31mFileNotFoundError\u001b[0m: [Errno 2] No such file or directory: 'data/adjacency'",
      "\nDuring handling of the above exception, another exception occurred:\n",
      "\u001b[0;31mKeyboardInterrupt\u001b[0m                         Traceback (most recent call last)",
      "\u001b[0;32m<ipython-input-21-9652a9f61cb3>\u001b[0m in \u001b[0;36m<module>\u001b[0;34m()\u001b[0m\n\u001b[1;32m      1\u001b[0m \u001b[0mn_nodes\u001b[0m \u001b[0;34m=\u001b[0m \u001b[0mlen\u001b[0m\u001b[0;34m(\u001b[0m\u001b[0mmovies\u001b[0m\u001b[0;34m)\u001b[0m\u001b[0;34m\u001b[0m\u001b[0m\n\u001b[1;32m      2\u001b[0m \u001b[0;34m\u001b[0m\u001b[0m\n\u001b[0;32m----> 3\u001b[0;31m \u001b[0madjacency\u001b[0m \u001b[0;34m=\u001b[0m \u001b[0mcompute_adjacency\u001b[0m\u001b[0;34m(\u001b[0m\u001b[0;34m'adjacency'\u001b[0m\u001b[0;34m,\u001b[0m \u001b[0;34m'weight'\u001b[0m\u001b[0;34m)\u001b[0m\u001b[0;34m\u001b[0m\u001b[0m\n\u001b[0m",
      "\u001b[0;32m<ipython-input-20-c10a8cd05cd3>\u001b[0m in \u001b[0;36mcompute_adjacency\u001b[0;34m(name, model)\u001b[0m\n\u001b[1;32m     13\u001b[0m \u001b[0;34m\u001b[0m\u001b[0m\n\u001b[1;32m     14\u001b[0m                     \u001b[0;32mfor\u001b[0m \u001b[0mactor\u001b[0m \u001b[0;32min\u001b[0m \u001b[0mcommon_actors\u001b[0m \u001b[0;34m:\u001b[0m\u001b[0;34m\u001b[0m\u001b[0m\n\u001b[0;32m---> 15\u001b[0;31m                         \u001b[0;32mif\u001b[0m \u001b[0;34m(\u001b[0m\u001b[0mfeatures\u001b[0m\u001b[0;34m[\u001b[0m\u001b[0;34m'feature'\u001b[0m\u001b[0;34m]\u001b[0m\u001b[0;34m.\u001b[0m\u001b[0misin\u001b[0m\u001b[0;34m(\u001b[0m\u001b[0;34m[\u001b[0m\u001b[0mactor\u001b[0m\u001b[0;34m]\u001b[0m\u001b[0;34m)\u001b[0m\u001b[0;34m.\u001b[0m\u001b[0many\u001b[0m\u001b[0;34m(\u001b[0m\u001b[0;34m)\u001b[0m\u001b[0;34m)\u001b[0m\u001b[0;34m:\u001b[0m\u001b[0;34m\u001b[0m\u001b[0m\n\u001b[0m\u001b[1;32m     16\u001b[0m                             \u001b[0msum_weights\u001b[0m \u001b[0;34m=\u001b[0m \u001b[0msum_weights\u001b[0m \u001b[0;34m+\u001b[0m \u001b[0mfeatures\u001b[0m\u001b[0;34m[\u001b[0m\u001b[0mfeatures\u001b[0m\u001b[0;34m[\u001b[0m\u001b[0;34m'feature'\u001b[0m\u001b[0;34m]\u001b[0m \u001b[0;34m==\u001b[0m \u001b[0mactor\u001b[0m\u001b[0;34m]\u001b[0m\u001b[0;34m[\u001b[0m\u001b[0mmodel\u001b[0m\u001b[0;34m]\u001b[0m\u001b[0;34m.\u001b[0m\u001b[0mitem\u001b[0m\u001b[0;34m(\u001b[0m\u001b[0;34m)\u001b[0m\u001b[0;34m\u001b[0m\u001b[0m\n\u001b[1;32m     17\u001b[0m \u001b[0;34m\u001b[0m\u001b[0m\n",
      "\u001b[0;32m~/anaconda/lib/python3.6/site-packages/pandas/core/series.py\u001b[0m in \u001b[0;36misin\u001b[0;34m(self, values)\u001b[0m\n\u001b[1;32m   3588\u001b[0m         \u001b[0mName\u001b[0m\u001b[0;34m:\u001b[0m \u001b[0manimal\u001b[0m\u001b[0;34m,\u001b[0m \u001b[0mdtype\u001b[0m\u001b[0;34m:\u001b[0m \u001b[0mbool\u001b[0m\u001b[0;34m\u001b[0m\u001b[0m\n\u001b[1;32m   3589\u001b[0m         \"\"\"\n\u001b[0;32m-> 3590\u001b[0;31m         \u001b[0mresult\u001b[0m \u001b[0;34m=\u001b[0m \u001b[0malgorithms\u001b[0m\u001b[0;34m.\u001b[0m\u001b[0misin\u001b[0m\u001b[0;34m(\u001b[0m\u001b[0mself\u001b[0m\u001b[0;34m,\u001b[0m \u001b[0mvalues\u001b[0m\u001b[0;34m)\u001b[0m\u001b[0;34m\u001b[0m\u001b[0m\n\u001b[0m\u001b[1;32m   3591\u001b[0m         \u001b[0;32mreturn\u001b[0m \u001b[0mself\u001b[0m\u001b[0;34m.\u001b[0m\u001b[0m_constructor\u001b[0m\u001b[0;34m(\u001b[0m\u001b[0mresult\u001b[0m\u001b[0;34m,\u001b[0m \u001b[0mindex\u001b[0m\u001b[0;34m=\u001b[0m\u001b[0mself\u001b[0m\u001b[0;34m.\u001b[0m\u001b[0mindex\u001b[0m\u001b[0;34m)\u001b[0m\u001b[0;34m.\u001b[0m\u001b[0m__finalize__\u001b[0m\u001b[0;34m(\u001b[0m\u001b[0mself\u001b[0m\u001b[0;34m)\u001b[0m\u001b[0;34m\u001b[0m\u001b[0m\n\u001b[1;32m   3592\u001b[0m \u001b[0;34m\u001b[0m\u001b[0m\n",
      "\u001b[0;32m~/anaconda/lib/python3.6/site-packages/pandas/core/algorithms.py\u001b[0m in \u001b[0;36misin\u001b[0;34m(comps, values)\u001b[0m\n\u001b[1;32m    444\u001b[0m             \u001b[0mcomps\u001b[0m \u001b[0;34m=\u001b[0m \u001b[0mcomps\u001b[0m\u001b[0;34m.\u001b[0m\u001b[0mastype\u001b[0m\u001b[0;34m(\u001b[0m\u001b[0mobject\u001b[0m\u001b[0;34m)\u001b[0m\u001b[0;34m\u001b[0m\u001b[0m\n\u001b[1;32m    445\u001b[0m \u001b[0;34m\u001b[0m\u001b[0m\n\u001b[0;32m--> 446\u001b[0;31m     \u001b[0;32mreturn\u001b[0m \u001b[0mf\u001b[0m\u001b[0;34m(\u001b[0m\u001b[0mcomps\u001b[0m\u001b[0;34m,\u001b[0m \u001b[0mvalues\u001b[0m\u001b[0;34m)\u001b[0m\u001b[0;34m\u001b[0m\u001b[0m\n\u001b[0m\u001b[1;32m    447\u001b[0m \u001b[0;34m\u001b[0m\u001b[0m\n\u001b[1;32m    448\u001b[0m \u001b[0;34m\u001b[0m\u001b[0m\n",
      "\u001b[0;32m~/anaconda/lib/python3.6/site-packages/pandas/core/algorithms.py\u001b[0m in \u001b[0;36m<lambda>\u001b[0;34m(x, y)\u001b[0m\n\u001b[1;32m    419\u001b[0m \u001b[0;34m\u001b[0m\u001b[0m\n\u001b[1;32m    420\u001b[0m     \u001b[0;31m# faster for larger cases to use np.in1d\u001b[0m\u001b[0;34m\u001b[0m\u001b[0;34m\u001b[0m\u001b[0m\n\u001b[0;32m--> 421\u001b[0;31m     \u001b[0mf\u001b[0m \u001b[0;34m=\u001b[0m \u001b[0;32mlambda\u001b[0m \u001b[0mx\u001b[0m\u001b[0;34m,\u001b[0m \u001b[0my\u001b[0m\u001b[0;34m:\u001b[0m \u001b[0mhtable\u001b[0m\u001b[0;34m.\u001b[0m\u001b[0mismember_object\u001b[0m\u001b[0;34m(\u001b[0m\u001b[0mx\u001b[0m\u001b[0;34m,\u001b[0m \u001b[0mvalues\u001b[0m\u001b[0;34m)\u001b[0m\u001b[0;34m\u001b[0m\u001b[0m\n\u001b[0m\u001b[1;32m    422\u001b[0m \u001b[0;34m\u001b[0m\u001b[0m\n\u001b[1;32m    423\u001b[0m     \u001b[0;31m# GH16012\u001b[0m\u001b[0;34m\u001b[0m\u001b[0;34m\u001b[0m\u001b[0m\n",
      "\u001b[0;31mKeyboardInterrupt\u001b[0m: "
     ]
    }
   ],
   "source": [
    "n_nodes = len(movies)\n",
    "\n",
    "adjacency = compute_adjacency('adjacency', 'weight')"
   ]
  },
  {
   "cell_type": "code",
   "execution_count": null,
   "metadata": {},
   "outputs": [],
   "source": [
    "print('Our graph contains {} movies.'.format(n_nodes))"
   ]
  },
  {
   "cell_type": "code",
   "execution_count": null,
   "metadata": {
    "scrolled": true
   },
   "outputs": [],
   "source": [
    "plt.spy(adjacency, markersize=0.01)\n",
    "plt.title('adjacency matrix');\n",
    "plt.tight_layout()"
   ]
  },
  {
   "cell_type": "code",
   "execution_count": null,
   "metadata": {},
   "outputs": [],
   "source": [
    "# maximum number of Links in our network\n",
    "L_max = n_nodes*(n_nodes-1)/2\n",
    "print('L_max =', L_max)\n",
    "\n",
    "# number of link in our network\n",
    "L = np.count_nonzero(adjacency)\n",
    "print('L =',L)\n",
    "\n",
    "# sparisty\n",
    "sparsity = (L_max-L)/L_max\n",
    "print('Sparsity =', sparsity)\n",
    "\n",
    "# Create the binary version of adjacency matrix as our adjacency is weighted\n",
    "adj_binary = adjacency.astype(bool).astype(int)\n",
    "degree = np.sum(adj_binary, axis=0)\n",
    "\n",
    "#Histogram of degree distribution\n",
    "weights = np.ones_like(degree) / float(n_nodes)\n",
    "plt.hist(degree, weights=weights);\n",
    "plt.title('Degree distribution');"
   ]
  },
  {
   "cell_type": "code",
   "execution_count": null,
   "metadata": {},
   "outputs": [],
   "source": [
    "def adj_matrix_to_list(adj):\n",
    "    \"\"\"Transform adjacency matrix into a dictionnary : each node is linked with all his neighbor nodes\n",
    "    \n",
    "    Parameters\n",
    "    ----------\n",
    "    adjacency matrix \n",
    "    \n",
    "    Returns\n",
    "    -------\n",
    "    adj_list : dictionnary\n",
    "    \"\"\"\n",
    "    \n",
    "    adj_list = {} \n",
    "    for node, nodes in enumerate(adj):\n",
    "        neighbors = []\n",
    "        for next_node, weighted_edge in enumerate(nodes):\n",
    "            if weighted_edge:\n",
    "                neighbors.append(next_node)\n",
    "        adj_list[node] = neighbors\n",
    "    return adj_list"
   ]
  },
  {
   "cell_type": "code",
   "execution_count": null,
   "metadata": {},
   "outputs": [],
   "source": [
    "# The BFS algorithm\n",
    "def bfs(adj_list, start, labels, l=1):\n",
    "    \n",
    "    \"\"\"Apply the BFS algorithm \n",
    "    \n",
    "    Parameters\n",
    "    ----------\n",
    "    adj_list: adjacency matrix transformed to a list (see ajd_matrix_to_list)\n",
    "    start: Starting node\n",
    "    labels : will contain the information whether a node has been visited or not\n",
    "    \n",
    "    Returns\n",
    "    -------\n",
    "    labels : contain the information whether a node has been visited or not\n",
    "    bool connected : true if all the nodes are connected\n",
    "    visited : a list of all the visited nodes\n",
    "        True if the graph is connected, False otherwise.\n",
    "    \"\"\"\n",
    "    \n",
    "    \n",
    "    nodes = list(labels.keys())\n",
    "    #q is a queue, it contains the next node to be inspected (initialized with the starting node)\n",
    "    q = []\n",
    "    q.append(start)\n",
    "    #label contains for each node l (if the node has already been inspected) or 0\n",
    "    labels[start] = l\n",
    "    \n",
    "    #while there is nodes to inspect\n",
    "    while len(q):\n",
    "        node = q.pop(0)\n",
    "        \n",
    "        #inspect all the nodes linked to 'node'\n",
    "        for neighbor in adj_list[node]: \n",
    "            #if it has not already been inspected, add it to the queue, and label it to 1\n",
    "            if labels[neighbor] == 0: \n",
    "                q.append(neighbor)\n",
    "                labels[neighbor] = l\n",
    "    #contains all the connected nodes\n",
    "    visited = {node: label for (node, label) in labels.items() if label !=0} \n",
    "    connected = len(visited) == len(nodes)\n",
    "    return labels, connected, visited"
   ]
  },
  {
   "cell_type": "code",
   "execution_count": null,
   "metadata": {},
   "outputs": [],
   "source": [
    "def find_components(adjacency):\n",
    "    \"\"\"Find the connected components of a graph.\n",
    "    \n",
    "    Parameters\n",
    "    ----------\n",
    "    adjacency: numpy array\n",
    "        The (weighted) adjacency matrix of a graph.\n",
    "    \n",
    "    Returns\n",
    "    -------\n",
    "    list of numpy arrays\n",
    "        A list of adjacency matrices, one per connected component.\n",
    "    \"\"\"\n",
    "    components = list()\n",
    "    # transform the adjacency matrix into an adjacency list where the weights are ignored\n",
    "    adj_list = adj_matrix_to_list(adjacency) \n",
    "    \n",
    "    # l: the label of the components\n",
    "    l = 1\n",
    "    \n",
    "    # select a random node to start exploring the graph\n",
    "    start = np.random.choice(list(adj_list.keys()))\n",
    "    nodes = list(adj_list.keys())\n",
    "    \n",
    "    # apply BFS to label the nodes of the first component and to know if the graph is connected\n",
    "    labels, visited_all, _ = bfs(adj_list, start, {node: 0 for node in nodes})\n",
    "    visited = [node for node, label in labels.items() if label == l]\n",
    "    components.append(adjacency[visited, :][:, visited]) \n",
    "    \n",
    "    # while we did not label every node\n",
    "    while not visited_all:\n",
    "        l += 1\n",
    "        to_visit = [node for node, label in labels.items() if label == 0]\n",
    "        start = np.random.choice(list(to_visit))\n",
    "        # apply new BFS to explore new component\n",
    "        labels, visited_all,_ = bfs(adj_list, start, labels, l)\n",
    "        visited = [node for node, label in labels.items() if label == l]\n",
    "        components.append(adjacency[visited, :][:, visited]) \n",
    "    \n",
    "    # the list of all components sorted by descending size \n",
    "    components.sort(key=lambda mat: mat.shape, reverse=True)    \n",
    "    return components, labels"
   ]
  },
  {
   "cell_type": "code",
   "execution_count": null,
   "metadata": {},
   "outputs": [],
   "source": [
    "def compute_bc(name, adjacency):\n",
    "    try:\n",
    "        bc_nparray = np.load(data_path + name)\n",
    "        nodes_bc = np.load(data_path + 'nodes_' + name)\n",
    "    \n",
    "    except FileNotFoundError:\n",
    "        components, labels = find_components(adjacency)\n",
    "        bc_nparray = components[0]\n",
    "        label_count = np.unique(np.fromiter(labels.values(), dtype=int), return_counts=True)\n",
    "        lab_dict = dict(zip(label_count[0], label_count[1]))\n",
    "        label_bc = max(lab_dict, key=lab_dict.get)\n",
    "        nodes_bc = [node for node, label in labels.items() if label == label_bc]\n",
    "        np.save(data_path + name, bc_nparray)\n",
    "        np.save(data_path + 'nodes_' + name, nodes_bc)\n",
    "\n",
    "    return bc_nparray, nodes_bc"
   ]
  },
  {
   "cell_type": "code",
   "execution_count": null,
   "metadata": {
    "scrolled": true
   },
   "outputs": [],
   "source": [
    "n_nodes_bc = len(nodes_bc)\n",
    "\n",
    "bc_nparray, nodes_bc = compute_bc('bc', adjacency)\n",
    "\n",
    "print('The size of the largest component is {}.'.format(n_nodes_bc))"
   ]
  },
  {
   "cell_type": "code",
   "execution_count": null,
   "metadata": {},
   "outputs": [],
   "source": [
    "G = nx.from_numpy_array(bc_nparray)\n",
    "\n",
    "print('Clustering coefficient of our Biggest Component =' ,nx.average_clustering(G))"
   ]
  },
  {
   "cell_type": "code",
   "execution_count": null,
   "metadata": {},
   "outputs": [],
   "source": [
    "movies_bc = movies.loc[nodes_bc, :]\n",
    "movies_bc['earnings'].describe()"
   ]
  },
  {
   "cell_type": "code",
   "execution_count": null,
   "metadata": {},
   "outputs": [],
   "source": [
    "def compute_gradient_laplacian(name, bc_nparray, degree_biggest_component, N, E):\n",
    "    try:\n",
    "        gradient = scipy.sparse.load_npz(data_path + name)\n",
    "        sparse_gradient = sparse.csr_matrix(gradient)\n",
    "\n",
    "    except FileNotFoundError:\n",
    "        # Let us compute the gradient\n",
    "        gradient = np.zeros((E, N))\n",
    "        eij = 0  # edge index\n",
    "\n",
    "        for i in range(N):\n",
    "            for j in range(N):\n",
    "                wij = bc_nparray[i, j]\n",
    "                if wij > 0:\n",
    "                    gradient[eij,i] = math.sqrt(wij)/math.sqrt(2*degree_biggest_component[i])\n",
    "                    gradient[eij,j] = -math.sqrt(wij)/math.sqrt(2*degree_biggest_component[j])\n",
    "                    eij = eij + 1  # increment the edge index \n",
    "        sparse_gradient = sparse.csr_matrix(gradient)\n",
    "        scipy.sparse.save_npz(data_path + name, sparse_gradient)\n",
    "        \n",
    "    laplacian = (gradient.T@gradient) #Laplacian Normalisé calculé avec le gradient.\n",
    "    sparse_laplacian = sparse.csr_matrix(laplacian)\n",
    "        \n",
    "    return sparse_gradient, sparse_laplacian"
   ]
  },
  {
   "cell_type": "code",
   "execution_count": null,
   "metadata": {},
   "outputs": [],
   "source": [
    "degree_biggest_component= np.sum(bc_nparray, axis=0)\n",
    "\n",
    "N = n_nodes_bc  # number of nodes\n",
    "E = np.sum(bc_nparray > 0)  # number of edges (non-zero entries of A)\n",
    "\n",
    "gradientsparse_gradient, sparse_laplacian = compute_gradient('gradient.npz', bc_nparray, degree_biggest_component, N, E)   "
   ]
  },
  {
   "cell_type": "code",
   "execution_count": null,
   "metadata": {},
   "outputs": [],
   "source": [
    "eigenvalues, eigenvectors = np.linalg.eigh(sparse_laplacian.toarray())\n",
    "e = eigenvalues\n",
    "U = eigenvectors\n",
    "\n",
    "D = np.diag(degree_biggest_component)\n",
    "D_inv = np.divide(1,D)\n",
    "D_inv[D_inv == np.inf] = 0\n",
    "D_sqrtinv = scipy.linalg.sqrtm(D_inv)\n",
    "\n",
    "#Renormalized by the degrees\n",
    "U_norm = D_sqrtinv@U\n",
    "\n",
    "# Normalize the rows of U_norm\n",
    "rows_norm = np.linalg.norm(U_norm, axis=1, ord=2)\n",
    "U_norm = (U_norm.T / rows_norm).T"
   ]
  },
  {
   "cell_type": "code",
   "execution_count": null,
   "metadata": {},
   "outputs": [],
   "source": [
    "plt.figure(figsize=(14,8))\n",
    "coords = U_norm[:,1:3]\n",
    "nx_nodes = nx.draw_networkx_nodes(G, coords,alpha=0.5, node_size=20, node_color=U_norm[:,0])\n",
    "nx.draw_networkx_edges(G, coords, alpha=0.01)\n",
    "plt.title('Eigenvector zero as a signal of our graph', fontsize=20)\n",
    "plt.xlabel('1st eigenvector (of non-null eigenvalue)', fontsize=15)\n",
    "plt.ylabel('2nd eigenvector', fontsize=15)\n",
    "plt.colorbar(nx_nodes);"
   ]
  },
  {
   "cell_type": "code",
   "execution_count": null,
   "metadata": {},
   "outputs": [],
   "source": [
    "def GFT(x,N,U_norm):\n",
    "    gft = np.zeros(N)\n",
    "    for i in range(N):\n",
    "        gft[i] = np.dot(x,U_norm[:,i])\n",
    "    return gft \n",
    "\n",
    "def iGFT(x,N,U_norm):\n",
    "    igft = np.zeros(N)\n",
    "    for i in range(N):\n",
    "            igft[i] += np.dot(x,U_norm[i,:])\n",
    "    return igft"
   ]
  },
  {
   "cell_type": "code",
   "execution_count": null,
   "metadata": {},
   "outputs": [],
   "source": [
    "label_threshold = 2"
   ]
  },
  {
   "cell_type": "code",
   "execution_count": null,
   "metadata": {},
   "outputs": [],
   "source": [
    "#Creation of binary labels, depending on the \"earning threshold\"\n",
    "def labels_creation(threshold):\n",
    "    labels = np.zeros(n_nodes_bc, dtype=float)\n",
    "    labels[movies_bc['earnings'] >= threshold] = 1\n",
    "    labels[movies_bc['earnings'] < threshold] = -1\n",
    "    return labels"
   ]
  },
  {
   "cell_type": "code",
   "execution_count": null,
   "metadata": {},
   "outputs": [],
   "source": [
    "labels_bc = labels_creation(label_threshold)\n",
    "lab_bc_count = np.unique(labels_bc, return_counts=True)\n",
    "dict(zip(lab_bc_count[0], lab_bc_count[1]))"
   ]
  },
  {
   "cell_type": "code",
   "execution_count": null,
   "metadata": {},
   "outputs": [],
   "source": [
    "gft = GFT(labels_bc,N,U_norm)\n",
    "\n",
    "gft_abs = abs(gft)\n",
    "plt.figure(figsize=(20,10))\n",
    "plt.title('GFT of our labels as a function of the graph eigenvalues', fontsize=20)\n",
    "plt.xlabel('Eigenvectors/Eigenvalues', fontsize=15)\n",
    "plt.ylabel('Absolute values of the GFT', fontsize=15)\n",
    "\n",
    "plt.stem(gft_abs)\n",
    "#plt.arrow(1000, 10, -860, 12, color ='r', head_width = 0.5, head_length = 25)"
   ]
  },
  {
   "cell_type": "code",
   "execution_count": null,
   "metadata": {},
   "outputs": [],
   "source": [
    "index_eig = gft.argsort()[-10:][::-1]"
   ]
  },
  {
   "cell_type": "code",
   "execution_count": null,
   "metadata": {
    "scrolled": false
   },
   "outputs": [],
   "source": [
    "for i in range(4):\n",
    "    for j in range(i+1,4):\n",
    "        plt.figure(figsize=(12,8))\n",
    "        coords = U_norm[:,[index_eig[i], index_eig[j]]]\n",
    "        nx_nodes = nx.draw_networkx_nodes(G, coords,alpha=0.5 ,node_size=29, node_color=labels_bc)\n",
    "        nx.draw_networkx_edges(G, coords, alpha=0.01)\n",
    "        plt.title('Graph with the smallest eigenvectors')\n",
    "        plt.xlabel(' eigenvector', fontsize=15);\n",
    "        plt.ylabel(' eigenvector', fontsize=15);\n",
    "        plt.colorbar(nx_nodes);"
   ]
  },
  {
   "cell_type": "markdown",
   "metadata": {},
   "source": [
    "Mettre plusieurs graph avec des differents tresholds et dire que on peut rien voir. Expliquer des possibles raisons, etc etc... BULLSHIT\n",
    "\n",
    "\n",
    "\n"
   ]
  },
  {
   "cell_type": "markdown",
   "metadata": {},
   "source": [
    "# 2. Second Graph Construction: BRH Model"
   ]
  },
  {
   "cell_type": "markdown",
   "metadata": {},
   "source": [
    "As we could see in the previous section, we were not able to extract any remarkable information using the `weights` obtained with the previously introduced mathematical model. Therefore, we decided to create a novel way of computing an index that represents somehow the economical impact that an actor/character/director/company has when participating in a movie production. \n",
    "\n",
    "In order to do so, we were inspired by the mathematical model \"h-index\" used in the scientific community to measure the impact of the creations (papers) of a scientist. \n",
    "\n",
    "We named our model: BRH-Index. This one attempts to better represent the \n",
    "\n"
   ]
  },
  {
   "cell_type": "markdown",
   "metadata": {},
   "source": [
    "## 2.1 Compute BRH Index"
   ]
  },
  {
   "cell_type": "code",
   "execution_count": null,
   "metadata": {},
   "outputs": [],
   "source": [
    "# BRH_index created and owned by BRH Index Corp. MIT License. For business inquires, please contact our secretary Romain le BG\n",
    "def brh_index_calculator(name):\n",
    "    \n",
    "    \n",
    "    \"\"\"Apply the BRH index algorithm \n",
    "    \n",
    "    Parameters\n",
    "    ----------\n",
    "    name: name of the actor/character/production company\n",
    "    \n",
    "    Returns\n",
    "    -------\n",
    "    brh_index : quantify the impact of a feature as a function of the revenue of the films in which it was involved\n",
    " \n",
    "    \"\"\"\n",
    "    \n",
    "    \n",
    "    brh_index = 0\n",
    "    brh_index_p = 0\n",
    "    brh_index_n = 0\n",
    "    \n",
    "    earnings_feature = pd.DataFrame(earning_movies[earning_movies['feature'] == name]['earnings'])\n",
    "    \n",
    "    positive_earnings = earnings_feature[earnings_feature > 0].dropna().sort_values(['earnings'], ascending = False)\n",
    "    positive_earnings = 100*positive_earnings.reset_index(drop=True)\n",
    "\n",
    "\n",
    "\n",
    "    if (len(positive_earnings['earnings']) == 1):\n",
    "        if (positive_earnings['earnings'][0] >= 1):\n",
    "            brh_index_p = 1\n",
    "        else:\n",
    "            brh_index_p = round(positive_earnings['earnings'][0])\n",
    "    else:\n",
    "        for i in range(len(positive_earnings['earnings'])) :\n",
    "            if len(positive_earnings[positive_earnings['earnings'] >= positive_earnings['earnings'][i]]) >= round(positive_earnings['earnings'][i]) :\n",
    "                brh_index_p = i\n",
    "                break\n",
    "        \n",
    "\n",
    "    negative_earnings = earnings_feature[earnings_feature < 0].dropna().sort_values(['earnings'], ascending = True)\n",
    "    negative_earnings = negative_earnings.reset_index(drop=True)\n",
    "    negative_earnings = 100* abs(negative_earnings)\n",
    "\n",
    "    if (len(negative_earnings['earnings']) == 1):\n",
    "        if (negative_earnings['earnings'][0] >= 1):\n",
    "            brh_index_n = 1\n",
    "        else:\n",
    "            brh_index_n = round(negative_earnings['earnings'][0])\n",
    "    else:\n",
    "        for i in range(len(negative_earnings['earnings'])) :\n",
    "            if len(negative_earnings[negative_earnings['earnings'] >= negative_earnings['earnings'][i]]) >= round(negative_earnings['earnings'][i]) :\n",
    "                brh_index_n = i\n",
    "                break\n",
    "        \n",
    "\n",
    "    brh_index = brh_index_p - brh_index_n\n",
    "    return brh_index"
   ]
  },
  {
   "cell_type": "code",
   "execution_count": null,
   "metadata": {},
   "outputs": [],
   "source": [
    "def compute_features_brh(movies, data_type):\n",
    "    try:\n",
    "        features = pd.read_csv('features_brh_' + data_type + '.csv')\n",
    "    except FileNotFoundError: \n",
    "        # Create the features table with their weights associated weights (set to 0).\n",
    "        features = set(movies['features'].sum())\n",
    "        features.discard('')\n",
    "        features = list(features)\n",
    "        features.sort()\n",
    "        features = pd.DataFrame(features, columns=['feature'])\n",
    "        \n",
    "        features['brh_index'] = features['feature'].apply(lambda f: brh_index_calculator(f))\n",
    "        features['brh_index'] = features['brh_index'] + abs(min(features['brh_index']))\n",
    "        \n",
    "        features.to_csv(data_path + 'features_brh_' + data_type + '.csv')\n",
    "    return features"
   ]
  },
  {
   "cell_type": "code",
   "execution_count": null,
   "metadata": {},
   "outputs": [],
   "source": [
    "features = features.merge(compute_features_brh(movies, 'full'), on='feature')"
   ]
  },
  {
   "cell_type": "code",
   "execution_count": null,
   "metadata": {},
   "outputs": [],
   "source": [
    "features.sort_values(by='brh_index', ascending=False)\n",
    "features[features['feature'] == 'James Bond']"
   ]
  },
  {
   "cell_type": "code",
   "execution_count": null,
   "metadata": {},
   "outputs": [],
   "source": [
    "features.sort_values(by='brh_index', ascending=False).head(10)"
   ]
  },
  {
   "cell_type": "code",
   "execution_count": null,
   "metadata": {},
   "outputs": [],
   "source": [
    "features.sort_values(by='brh_index', ascending=False).tail(10)"
   ]
  },
  {
   "cell_type": "markdown",
   "metadata": {},
   "source": [
    "# Compute Adjacency Matrix"
   ]
  },
  {
   "cell_type": "code",
   "execution_count": null,
   "metadata": {},
   "outputs": [],
   "source": [
    "adjacency_brh = compute_adjacency(name, 'brh_index')"
   ]
  },
  {
   "cell_type": "code",
   "execution_count": null,
   "metadata": {},
   "outputs": [],
   "source": [
    "\n",
    "\n",
    "\"\"\"try:\n",
    "    adjacency_brh = np.load(data_path + 'adjacency_brh_' + type_data + '.npy')\n",
    "\n",
    "except FileNotFoundError: \n",
    "    adjacency_brh = np.zeros((n_nodes, n_nodes), dtype=int)\n",
    "    for i in range(n_nodes):\n",
    "            # as the adjacency matrix is symmetric, only the upper triangular is calculated to save time\n",
    "            for j in range(i, n_nodes):\n",
    "                # create weighted edges as the shared number of actors between movies\n",
    "                common_actors = set(movies['features'][i]).intersection(set(movies['features'][j]))\n",
    "                sum_brh_indexes = 0.0\n",
    "\n",
    "                for name in common_actors :\n",
    "                    if (features['feature'].isin([name]).any()):\n",
    "                        sum_brh_indexes = sum_brh_indexes + features[features['feature'] == name]['brh_index'].item()\n",
    "                \n",
    "\n",
    "                adjacency_brh[i, j] = sum_brh_indexes\n",
    "      \n",
    "    # fill the lower triangular \n",
    "    adjacency_brh += np.transpose(adjacency_brh)\n",
    "\n",
    "    np.fill_diagonal(adjacency_brh, 0, wrap=False)\n",
    "    np.save(data_path + 'adjacency_brh_' + type_data + '.npy', adjacency_brh)\"\"\""
   ]
  },
  {
   "cell_type": "code",
   "execution_count": null,
   "metadata": {},
   "outputs": [],
   "source": [
    "# maximum number of Links in our network\n",
    "L_max_brh = n_nodes*(n_nodes-1)/2\n",
    "print('L_max =', L_max_brh)\n",
    "\n",
    "# number of link in our network\n",
    "L_brh = np.count_nonzero(adjacency_brh)\n",
    "print('L =',L)\n",
    "\n",
    "# sparisty\n",
    "sparsity_brh = (L_max_brh-L_brh)/L_max_brh\n",
    "print('Sparsity =', sparsity_brh)\n",
    "\n",
    "# Create the binary version of adjacency matrix as our adjacency is weighted\n",
    "adj_binary_brh = adjacency_brh.astype(bool).astype(int)\n",
    "degree_brh =  np.sum(adj_binary_brh, axis=0)\n",
    "\n",
    "#Histogram of degree distribution\n",
    "weights_brh = np.ones_like(degree_brh) / float(n_nodes)\n",
    "plt.hist(degree_brh, weights=weights_brh);\n",
    "plt.title('Degree distribution');"
   ]
  },
  {
   "cell_type": "code",
   "execution_count": null,
   "metadata": {
    "scrolled": true
   },
   "outputs": [],
   "source": [
    "plt.spy(adjacency_brh, markersize=0.01)\n",
    "plt.title('BRH-index adjacency matrix');\n",
    "plt.tight_layout()"
   ]
  },
  {
   "cell_type": "code",
   "execution_count": null,
   "metadata": {},
   "outputs": [],
   "source": [
    "bc_nparray_brh, nodes_bc_brh = compute_bc('nodes_bc_brh_', adjacency,)"
   ]
  },
  {
   "cell_type": "code",
   "execution_count": null,
   "metadata": {
    "scrolled": true
   },
   "outputs": [],
   "source": [
    "\"\"\"try:\n",
    "    bc_nparray_brh = np.load(data_path + 'BC_brh_' + type_data + '.npy')\n",
    "    nodes_bc_brh = np.load(data_path + 'nodes_BC_brh_' + type_data + '.npy')\n",
    "    \n",
    "except FileNotFoundError:\n",
    "    components_brh, labels_brh = find_components(adjacency_brh)\n",
    "    bc_nparray_brh = components_brh[0]\n",
    "    label_count_brh = np.unique(np.fromiter(labels_brh.values(), dtype=int), return_counts=True)\n",
    "    lab_dict_brh = dict(zip(label_count_brh[0], label_count_brh[1]))\n",
    "    label_bc_brh = max(lab_dict_brh, key=lab_dict_brh.get)\n",
    "    nodes_bc_brh = [node for node, label in labels_brh.items() if label == label_bc_brh]\n",
    "    np.save(data_path + 'BC_brh_' + type_data + '.npy', bc_nparray_brh)\n",
    "    np.save(data_path + 'nodes_bc_brh_' + type_data + '.npy', nodes_bc_brh)\n",
    "\"\"\"\n",
    "n_nodes_bc_brh = len(nodes_bc_brh)\n",
    "print('The size of the largest component is {}.'.format(n_nodes_bc_brh))"
   ]
  },
  {
   "cell_type": "code",
   "execution_count": null,
   "metadata": {},
   "outputs": [],
   "source": [
    "G_brh = nx.from_numpy_array(bc_nparray_brh)\n",
    "\n",
    "print('Clustering coefficient of our Biggest Component =' ,nx.average_clustering(G_brh))"
   ]
  },
  {
   "cell_type": "code",
   "execution_count": null,
   "metadata": {},
   "outputs": [],
   "source": [
    "movies_bc_brh = movies.loc[nodes_bc_brh, :]\n",
    "movies_bc_brh['earnings'].describe()"
   ]
  },
  {
   "cell_type": "code",
   "execution_count": null,
   "metadata": {},
   "outputs": [],
   "source": [
    "degree_biggest_component_brh= np.sum(bc_nparray_brh, axis=0)\n",
    "\n",
    "degree_biggest_component_brh"
   ]
  },
  {
   "cell_type": "code",
   "execution_count": null,
   "metadata": {},
   "outputs": [],
   "source": [
    "degree_biggest_component_brh= np.sum(bc_nparray_brh, axis=0)\n",
    "\n",
    "N_brh = n_nodes_bc_brh  # number of nodes\n",
    "E_brh = np.sum(bc_nparray_brh > 0)  # number of edges (non-zero entries of A)\n",
    "\n",
    "sparse_gradient_brh, sparse_laplacian_brh = compute_gradient_laplacian('gradient_brh', bc_nparray_brh, degree_biggest_component_brh, N_brh, E_brh)\n",
    "\n",
    "\"\"\"try:\n",
    "    gradient_brh = scipy.sparse.load_npz(data_path + 'gradient_brh_' + type_data + '.npz')\n",
    "    sparse_gradient_brh = sparse.csr_matrix(gradient_brh)\n",
    "    \n",
    "except FileNotFoundError:\n",
    "    # Let us compute the gradient\n",
    "    gradient_brh = np.zeros((E_brh, N_brh))\n",
    "    eij_brh = 0  # edge index\n",
    "\n",
    "    for i in range(N_brh):\n",
    "        for j in range(N_brh):\n",
    "            wij_brh = bc_nparray_brh[i, j]\n",
    "            if wij_brh > 0:\n",
    "                gradient_brh[eij_brh,i] = math.sqrt(wij_brh)/math.sqrt(2*degree_biggest_component_brh[i])\n",
    "                gradient_brh[eij_brh,j] = -math.sqrt(wij_brh)/math.sqrt(2*degree_biggest_component_brh[j])\n",
    "                eij_brh = eij_brh + 1  # increment the edge index \n",
    "    sparse_gradient_brh = sparse.csr_matrix(gradient_brh)\n",
    "    scipy.sparse.save_npz(data_path + 'gradient_brh_' + type_data + '.npz', sparse_gradient_brh)\n",
    "    \n",
    "laplacian_brh = (gradient_brh.T@gradient_brh) #Laplacian Normalisé calculé avec le gradient.\n",
    "\n",
    "sparse_laplacian_brh = sparse.csr_matrix(laplacian_brh)\"\"\""
   ]
  },
  {
   "cell_type": "code",
   "execution_count": null,
   "metadata": {},
   "outputs": [],
   "source": [
    "sum(laplacian_brh)"
   ]
  },
  {
   "cell_type": "code",
   "execution_count": null,
   "metadata": {},
   "outputs": [],
   "source": [
    "eigenvalues_brh, eigenvectors_brh = np.linalg.eigh(sparse_laplacian_brh.toarray())\n",
    "e_brh = eigenvalues_brh\n",
    "U_brh = eigenvectors_brh\n",
    "\n",
    "D_brh = np.diag(degree_biggest_component_brh)\n",
    "D_inv_brh = np.divide(1,D_brh)\n",
    "D_inv_brh[D_inv_brh == np.inf] = 0\n",
    "D_sqrtinv_brh = scipy.linalg.sqrtm(D_inv_brh)\n",
    "\n",
    "#Renormalized by the degrees\n",
    "U_norm_brh = D_sqrtinv_brh@U_brh\n",
    "\n",
    "# Normalize the rows of U_norm\n",
    "rows_norm_brh = np.linalg.norm(U_norm_brh, axis=1, ord=2)\n",
    "U_norm_brh = (U_norm_brh.T / rows_norm_brh).T"
   ]
  },
  {
   "cell_type": "code",
   "execution_count": null,
   "metadata": {},
   "outputs": [],
   "source": [
    "plt.plot(eigenvectors_brh[0])"
   ]
  },
  {
   "cell_type": "code",
   "execution_count": null,
   "metadata": {},
   "outputs": [],
   "source": [
    "plt.figure(figsize=(14,8))\n",
    "coords = U_norm_brh[:,1:3]\n",
    "nx_nodes = nx.draw_networkx_nodes(G_brh, coords,alpha=0.5, node_size=20, node_color=U_norm_brh[:,0])\n",
    "nx.draw_networkx_edges(G_brh, coords, alpha=0.0001)\n",
    "plt.title('Eigenvector zero as a signal of our graph', fontsize=20)\n",
    "plt.xlabel('1st eigenvector (of non-null eigenvalue)', fontsize=15)\n",
    "plt.ylabel('2nd eigenvector', fontsize=15)\n",
    "plt.colorbar(nx_nodes);"
   ]
  },
  {
   "cell_type": "code",
   "execution_count": null,
   "metadata": {},
   "outputs": [],
   "source": [
    "plt.figure(figsize=(14,8))\n",
    "coords = U_norm_brh[:,1:3]\n",
    "nx_nodes = nx.draw_networkx_nodes(G_brh, coords,alpha=0.5, node_size=20, node_color=U_norm_brh[:,1])\n",
    "nx.draw_networkx_edges(G_brh, coords, alpha=0.0001)\n",
    "plt.title('Eigenvector one as a signal of our graph', fontsize=20)\n",
    "plt.xlabel('1st eigenvector (of non-null eigenvalue)', fontsize=15)\n",
    "plt.ylabel('2nd eigenvector', fontsize=15)\n",
    "plt.colorbar(nx_nodes);"
   ]
  },
  {
   "cell_type": "code",
   "execution_count": null,
   "metadata": {},
   "outputs": [],
   "source": [
    "plt.figure(figsize=(14,8))\n",
    "coords = U_norm_brh[:,1:3]\n",
    "nx_nodes = nx.draw_networkx_nodes(G_brh, coords,alpha=0.5, node_size=20, node_color=U_norm_brh[:,2])\n",
    "nx.draw_networkx_edges(G_brh, coords, alpha=0.0001)\n",
    "plt.title('Eigenvector two as a signal of our graph', fontsize=20)\n",
    "plt.xlabel('1st eigenvector (of non-null eigenvalue)', fontsize=15)\n",
    "plt.ylabel('2nd eigenvector', fontsize=15)\n",
    "plt.colorbar(nx_nodes);"
   ]
  },
  {
   "cell_type": "code",
   "execution_count": null,
   "metadata": {},
   "outputs": [],
   "source": [
    "label_threshold = 5"
   ]
  },
  {
   "cell_type": "code",
   "execution_count": null,
   "metadata": {},
   "outputs": [],
   "source": []
  },
  {
   "cell_type": "code",
   "execution_count": null,
   "metadata": {},
   "outputs": [],
   "source": [
    "#Creation of binary labels, depending on the \"earning threshold\"\n",
    "def labels_creation_brh(threshold):\n",
    "    labels = np.zeros(n_nodes_bc_brh, dtype=float)\n",
    "    labels[movies_bc_brh['earnings'] >= threshold] = 1\n",
    "    labels[movies_bc_brh['earnings'] < threshold] = -1\n",
    "    return labels"
   ]
  },
  {
   "cell_type": "code",
   "execution_count": null,
   "metadata": {},
   "outputs": [],
   "source": [
    "labels_bc_brh = labels_creation_brh(label_threshold)\n",
    "lab_bc_count_brh = np.unique(labels_bc_brh, return_counts=True)\n",
    "dict(zip(lab_bc_count_brh[0], lab_bc_count_brh[1]))"
   ]
  },
  {
   "cell_type": "code",
   "execution_count": null,
   "metadata": {},
   "outputs": [],
   "source": [
    "gft = GFT(labels_bc_brh, N_brh, U_norm_brh)\n",
    "\n",
    "gft_abs = abs(gft)\n",
    "plt.figure(figsize=(20,10))\n",
    "plt.title('GFT of our labels as a function of the graph eigenvalues', fontsize=20)\n",
    "plt.xlabel('Eigenvectors/Eigenvalues', fontsize=15)\n",
    "plt.ylabel('Absolute values of the GFT', fontsize=15)\n",
    "\n",
    "plt.stem(gft_abs)\n",
    "#plt.arrow(1000, 10, -860, 12, color ='r', head_width = 0.5, head_length = 25)"
   ]
  },
  {
   "cell_type": "code",
   "execution_count": null,
   "metadata": {},
   "outputs": [],
   "source": [
    "index_eig = gft_abs.argsort()[-10:][::-1]\n",
    "index_eig"
   ]
  },
  {
   "cell_type": "code",
   "execution_count": null,
   "metadata": {},
   "outputs": [],
   "source": [
    "plt.figure(figsize=(14,8))\n",
    "coords = U_norm_brh[:,1:3]\n",
    "nx_nodes = nx.draw_networkx_nodes(G_brh, coords,alpha=0.5, node_size=20, node_color=labels_bc_brh)\n",
    "nx.draw_networkx_edges(G_brh, coords, alpha=0.0001)\n",
    "plt.title('Eigenvector zero as a signal of our graph', fontsize=20)\n",
    "plt.xlabel('1st eigenvector (of non-null eigenvalue)', fontsize=15)\n",
    "plt.ylabel('2nd eigenvector', fontsize=15)\n",
    "plt.colorbar(nx_nodes);"
   ]
  },
  {
   "cell_type": "code",
   "execution_count": null,
   "metadata": {
    "scrolled": false
   },
   "outputs": [],
   "source": [
    "for i in range(5):\n",
    "    for j in range(i+1,5):\n",
    "        plt.figure(figsize=(12,8))\n",
    "        coords = U_norm_brh[:,[index_eig[i], index_eig[j]]]\n",
    "        nx_nodes = nx.draw_networkx_nodes(G_brh, coords,alpha=0.5 ,node_size=29, node_color=labels_bc_brh)\n",
    "        nx.draw_networkx_edges(G_brh, coords, alpha=0.0001)\n",
    "        plt.title('Graph with the smallest eigenvectors')\n",
    "        plt.xlabel(' eigenvector', fontsize=15);\n",
    "        plt.ylabel(' eigenvector', fontsize=15);\n",
    "        plt.colorbar(nx_nodes);"
   ]
  },
  {
   "cell_type": "code",
   "execution_count": null,
   "metadata": {},
   "outputs": [],
   "source": []
  },
  {
   "cell_type": "code",
   "execution_count": null,
   "metadata": {},
   "outputs": [],
   "source": []
  },
  {
   "cell_type": "code",
   "execution_count": null,
   "metadata": {},
   "outputs": [],
   "source": []
  }
 ],
 "metadata": {
  "kernelspec": {
   "display_name": "Python 3",
   "language": "python",
   "name": "python3"
  },
  "language_info": {
   "codemirror_mode": {
    "name": "ipython",
    "version": 3
   },
   "file_extension": ".py",
   "mimetype": "text/x-python",
   "name": "python",
   "nbconvert_exporter": "python",
   "pygments_lexer": "ipython3",
   "version": "3.6.3"
  }
 },
 "nbformat": 4,
 "nbformat_minor": 2
}
