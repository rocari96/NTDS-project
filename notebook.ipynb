{
 "cells": [
  {
   "cell_type": "code",
   "execution_count": 50,
   "metadata": {},
   "outputs": [],
   "source": [
    "import numpy as np\n",
    "import json\n",
    "import pandas as pd\n",
    "import matplotlib.pyplot as plt\n",
    "import scipy\n",
    "import networkx as nx\n",
    "\n",
    "from sklearn.model_selection import train_test_split"
   ]
  },
  {
   "cell_type": "code",
   "execution_count": 15,
   "metadata": {},
   "outputs": [],
   "source": [
    "%matplotlib inline"
   ]
  },
  {
   "cell_type": "code",
   "execution_count": 16,
   "metadata": {},
   "outputs": [],
   "source": [
    "seed = 3"
   ]
  },
  {
   "cell_type": "markdown",
   "metadata": {},
   "source": [
    "# Load the data"
   ]
  },
  {
   "cell_type": "code",
   "execution_count": 17,
   "metadata": {},
   "outputs": [
    {
     "data": {
      "text/html": [
       "<div>\n",
       "<style scoped>\n",
       "    .dataframe tbody tr th:only-of-type {\n",
       "        vertical-align: middle;\n",
       "    }\n",
       "\n",
       "    .dataframe tbody tr th {\n",
       "        vertical-align: top;\n",
       "    }\n",
       "\n",
       "    .dataframe thead th {\n",
       "        text-align: right;\n",
       "    }\n",
       "</style>\n",
       "<table border=\"1\" class=\"dataframe\">\n",
       "  <thead>\n",
       "    <tr style=\"text-align: right;\">\n",
       "      <th></th>\n",
       "      <th>budget</th>\n",
       "      <th>genres</th>\n",
       "      <th>homepage</th>\n",
       "      <th>id</th>\n",
       "      <th>keywords</th>\n",
       "      <th>original_language</th>\n",
       "      <th>original_title</th>\n",
       "      <th>overview</th>\n",
       "      <th>popularity</th>\n",
       "      <th>production_companies</th>\n",
       "      <th>...</th>\n",
       "      <th>runtime</th>\n",
       "      <th>spoken_languages</th>\n",
       "      <th>status</th>\n",
       "      <th>tagline</th>\n",
       "      <th>title_x</th>\n",
       "      <th>vote_average</th>\n",
       "      <th>vote_count</th>\n",
       "      <th>title_y</th>\n",
       "      <th>cast</th>\n",
       "      <th>crew</th>\n",
       "    </tr>\n",
       "  </thead>\n",
       "  <tbody>\n",
       "    <tr>\n",
       "      <th>0</th>\n",
       "      <td>237000000</td>\n",
       "      <td>[{\"id\": 28, \"name\": \"Action\"}, {\"id\": 12, \"nam...</td>\n",
       "      <td>http://www.avatarmovie.com/</td>\n",
       "      <td>19995</td>\n",
       "      <td>[{\"id\": 1463, \"name\": \"culture clash\"}, {\"id\":...</td>\n",
       "      <td>en</td>\n",
       "      <td>Avatar</td>\n",
       "      <td>In the 22nd century, a paraplegic Marine is di...</td>\n",
       "      <td>150.437577</td>\n",
       "      <td>[{\"name\": \"Ingenious Film Partners\", \"id\": 289...</td>\n",
       "      <td>...</td>\n",
       "      <td>162.0</td>\n",
       "      <td>[{\"iso_639_1\": \"en\", \"name\": \"English\"}, {\"iso...</td>\n",
       "      <td>Released</td>\n",
       "      <td>Enter the World of Pandora.</td>\n",
       "      <td>Avatar</td>\n",
       "      <td>7.2</td>\n",
       "      <td>11800</td>\n",
       "      <td>Avatar</td>\n",
       "      <td>[{\"cast_id\": 242, \"character\": \"Jake Sully\", \"...</td>\n",
       "      <td>[{\"credit_id\": \"52fe48009251416c750aca23\", \"de...</td>\n",
       "    </tr>\n",
       "  </tbody>\n",
       "</table>\n",
       "<p>1 rows × 23 columns</p>\n",
       "</div>"
      ],
      "text/plain": [
       "      budget                                             genres  \\\n",
       "0  237000000  [{\"id\": 28, \"name\": \"Action\"}, {\"id\": 12, \"nam...   \n",
       "\n",
       "                      homepage     id  \\\n",
       "0  http://www.avatarmovie.com/  19995   \n",
       "\n",
       "                                            keywords original_language  \\\n",
       "0  [{\"id\": 1463, \"name\": \"culture clash\"}, {\"id\":...                en   \n",
       "\n",
       "  original_title                                           overview  \\\n",
       "0         Avatar  In the 22nd century, a paraplegic Marine is di...   \n",
       "\n",
       "   popularity                               production_companies  \\\n",
       "0  150.437577  [{\"name\": \"Ingenious Film Partners\", \"id\": 289...   \n",
       "\n",
       "                         ...                         runtime  \\\n",
       "0                        ...                           162.0   \n",
       "\n",
       "                                    spoken_languages    status  \\\n",
       "0  [{\"iso_639_1\": \"en\", \"name\": \"English\"}, {\"iso...  Released   \n",
       "\n",
       "                       tagline title_x vote_average vote_count title_y  \\\n",
       "0  Enter the World of Pandora.  Avatar          7.2      11800  Avatar   \n",
       "\n",
       "                                                cast  \\\n",
       "0  [{\"cast_id\": 242, \"character\": \"Jake Sully\", \"...   \n",
       "\n",
       "                                                crew  \n",
       "0  [{\"credit_id\": \"52fe48009251416c750aca23\", \"de...  \n",
       "\n",
       "[1 rows x 23 columns]"
      ]
     },
     "execution_count": 17,
     "metadata": {},
     "output_type": "execute_result"
    }
   ],
   "source": [
    "# Kaggle data\n",
    "path = 'data/tmdb-5000-movie-dataset/'\n",
    "credits = pd.read_csv(path + 'tmdb_5000_credits.csv')\n",
    "movies = pd.read_csv(path + 'tmdb_5000_movies.csv')\n",
    "\n",
    "credits = credits.rename(columns={'movie_id': 'id'})\n",
    "\n",
    "# merge the two data set credit and movies\n",
    "movies = movies.merge(credits, how='inner', on='id')\n",
    "\n",
    "movies.head(1)"
   ]
  },
  {
   "cell_type": "markdown",
   "metadata": {},
   "source": [
    "# Clean and prepare the data"
   ]
  },
  {
   "cell_type": "code",
   "execution_count": 18,
   "metadata": {},
   "outputs": [
    {
     "data": {
      "text/plain": [
       "Index(['budget', 'genres', 'homepage', 'id', 'keywords', 'original_language',\n",
       "       'original_title', 'overview', 'popularity', 'production_companies',\n",
       "       'production_countries', 'release_date', 'revenue', 'runtime',\n",
       "       'spoken_languages', 'status', 'tagline', 'title_x', 'vote_average',\n",
       "       'vote_count', 'title_y', 'cast', 'crew'],\n",
       "      dtype='object')"
      ]
     },
     "execution_count": 18,
     "metadata": {},
     "output_type": "execute_result"
    }
   ],
   "source": [
    "movies.columns"
   ]
  },
  {
   "cell_type": "code",
   "execution_count": 19,
   "metadata": {},
   "outputs": [],
   "source": [
    "movies['earnings'] = (movies['revenue'] - movies['budget']) / movies['budget']"
   ]
  },
  {
   "cell_type": "code",
   "execution_count": 20,
   "metadata": {},
   "outputs": [],
   "source": [
    "# keep only useful movies\n",
    "movies = movies[['original_title', 'budget', 'revenue', 'earnings', 'production_companies', 'cast', 'crew']]"
   ]
  },
  {
   "cell_type": "code",
   "execution_count": 21,
   "metadata": {},
   "outputs": [],
   "source": [
    "# keep only movies that have non zero budgets and revenue\n",
    "movies = movies[movies['budget'] != 0]\n",
    "movies = movies[movies['revenue'] != 0]"
   ]
  },
  {
   "cell_type": "code",
   "execution_count": 22,
   "metadata": {},
   "outputs": [
    {
     "data": {
      "text/html": [
       "<div>\n",
       "<style scoped>\n",
       "    .dataframe tbody tr th:only-of-type {\n",
       "        vertical-align: middle;\n",
       "    }\n",
       "\n",
       "    .dataframe tbody tr th {\n",
       "        vertical-align: top;\n",
       "    }\n",
       "\n",
       "    .dataframe thead th {\n",
       "        text-align: right;\n",
       "    }\n",
       "</style>\n",
       "<table border=\"1\" class=\"dataframe\">\n",
       "  <thead>\n",
       "    <tr style=\"text-align: right;\">\n",
       "      <th></th>\n",
       "      <th>original_title</th>\n",
       "      <th>budget</th>\n",
       "      <th>revenue</th>\n",
       "      <th>earnings</th>\n",
       "      <th>production_companies</th>\n",
       "      <th>cast</th>\n",
       "      <th>crew</th>\n",
       "    </tr>\n",
       "  </thead>\n",
       "  <tbody>\n",
       "    <tr>\n",
       "      <th>1655</th>\n",
       "      <td>Chasing Liberty</td>\n",
       "      <td>23000000</td>\n",
       "      <td>12</td>\n",
       "      <td>-0.999999</td>\n",
       "      <td>[{\"name\": \"Alcon Entertainment\", \"id\": 1088}, ...</td>\n",
       "      <td>[{\"cast_id\": 1, \"character\": \"Anna Foster\", \"c...</td>\n",
       "      <td>[{\"credit_id\": \"563c813992514150af00414f\", \"de...</td>\n",
       "    </tr>\n",
       "    <tr>\n",
       "      <th>2485</th>\n",
       "      <td>The Cookout</td>\n",
       "      <td>16000000</td>\n",
       "      <td>12</td>\n",
       "      <td>-0.999999</td>\n",
       "      <td>[{\"name\": \"Cookout Productions\", \"id\": 3494}]</td>\n",
       "      <td>[{\"cast_id\": 1, \"character\": \"blin bling\", \"cr...</td>\n",
       "      <td>[{\"credit_id\": \"52fe477f9251416c7509b8ed\", \"de...</td>\n",
       "    </tr>\n",
       "    <tr>\n",
       "      <th>2874</th>\n",
       "      <td>In the Cut</td>\n",
       "      <td>12000000</td>\n",
       "      <td>23</td>\n",
       "      <td>-0.999998</td>\n",
       "      <td>[{\"name\": \"Pathe Productions\", \"id\": 21126}, {...</td>\n",
       "      <td>[{\"cast_id\": 1, \"character\": \"Frannie\", \"credi...</td>\n",
       "      <td>[{\"credit_id\": \"5628abae9251414cd8001453\", \"de...</td>\n",
       "    </tr>\n",
       "    <tr>\n",
       "      <th>3875</th>\n",
       "      <td>Dreaming of Joseph Lees</td>\n",
       "      <td>2000000</td>\n",
       "      <td>7</td>\n",
       "      <td>-0.999996</td>\n",
       "      <td>[{\"name\": \"Fox Entertainment Group\", \"id\": 857...</td>\n",
       "      <td>[{\"cast_id\": 5, \"character\": \"Joseph Lees\", \"c...</td>\n",
       "      <td>[{\"credit_id\": \"52fe4a98c3a36847f81d7345\", \"de...</td>\n",
       "    </tr>\n",
       "    <tr>\n",
       "      <th>2068</th>\n",
       "      <td>Death at a Funeral</td>\n",
       "      <td>9000000</td>\n",
       "      <td>46</td>\n",
       "      <td>-0.999995</td>\n",
       "      <td>[{\"name\": \"Sidney Kimmel Entertainment\", \"id\":...</td>\n",
       "      <td>[{\"cast_id\": 4, \"character\": \"Daniel\", \"credit...</td>\n",
       "      <td>[{\"credit_id\": \"52fe4340c3a36847f8045d0d\", \"de...</td>\n",
       "    </tr>\n",
       "  </tbody>\n",
       "</table>\n",
       "</div>"
      ],
      "text/plain": [
       "               original_title    budget  revenue  earnings  \\\n",
       "1655          Chasing Liberty  23000000       12 -0.999999   \n",
       "2485              The Cookout  16000000       12 -0.999999   \n",
       "2874               In the Cut  12000000       23 -0.999998   \n",
       "3875  Dreaming of Joseph Lees   2000000        7 -0.999996   \n",
       "2068       Death at a Funeral   9000000       46 -0.999995   \n",
       "\n",
       "                                   production_companies  \\\n",
       "1655  [{\"name\": \"Alcon Entertainment\", \"id\": 1088}, ...   \n",
       "2485      [{\"name\": \"Cookout Productions\", \"id\": 3494}]   \n",
       "2874  [{\"name\": \"Pathe Productions\", \"id\": 21126}, {...   \n",
       "3875  [{\"name\": \"Fox Entertainment Group\", \"id\": 857...   \n",
       "2068  [{\"name\": \"Sidney Kimmel Entertainment\", \"id\":...   \n",
       "\n",
       "                                                   cast  \\\n",
       "1655  [{\"cast_id\": 1, \"character\": \"Anna Foster\", \"c...   \n",
       "2485  [{\"cast_id\": 1, \"character\": \"blin bling\", \"cr...   \n",
       "2874  [{\"cast_id\": 1, \"character\": \"Frannie\", \"credi...   \n",
       "3875  [{\"cast_id\": 5, \"character\": \"Joseph Lees\", \"c...   \n",
       "2068  [{\"cast_id\": 4, \"character\": \"Daniel\", \"credit...   \n",
       "\n",
       "                                                   crew  \n",
       "1655  [{\"credit_id\": \"563c813992514150af00414f\", \"de...  \n",
       "2485  [{\"credit_id\": \"52fe477f9251416c7509b8ed\", \"de...  \n",
       "2874  [{\"credit_id\": \"5628abae9251414cd8001453\", \"de...  \n",
       "3875  [{\"credit_id\": \"52fe4a98c3a36847f81d7345\", \"de...  \n",
       "2068  [{\"credit_id\": \"52fe4340c3a36847f8045d0d\", \"de...  "
      ]
     },
     "execution_count": 22,
     "metadata": {},
     "output_type": "execute_result"
    }
   ],
   "source": [
    "movies.sort_values(by='earnings').head()"
   ]
  },
  {
   "cell_type": "code",
   "execution_count": 23,
   "metadata": {},
   "outputs": [
    {
     "data": {
      "text/html": [
       "<div>\n",
       "<style scoped>\n",
       "    .dataframe tbody tr th:only-of-type {\n",
       "        vertical-align: middle;\n",
       "    }\n",
       "\n",
       "    .dataframe tbody tr th {\n",
       "        vertical-align: top;\n",
       "    }\n",
       "\n",
       "    .dataframe thead th {\n",
       "        text-align: right;\n",
       "    }\n",
       "</style>\n",
       "<table border=\"1\" class=\"dataframe\">\n",
       "  <thead>\n",
       "    <tr style=\"text-align: right;\">\n",
       "      <th></th>\n",
       "      <th>original_title</th>\n",
       "      <th>budget</th>\n",
       "      <th>revenue</th>\n",
       "      <th>earnings</th>\n",
       "      <th>production_companies</th>\n",
       "      <th>cast</th>\n",
       "      <th>crew</th>\n",
       "    </tr>\n",
       "  </thead>\n",
       "  <tbody>\n",
       "    <tr>\n",
       "      <th>4238</th>\n",
       "      <td>Modern Times</td>\n",
       "      <td>1</td>\n",
       "      <td>8500000</td>\n",
       "      <td>8.499999e+06</td>\n",
       "      <td>[{\"name\": \"United Artists\", \"id\": 60}, {\"name\"...</td>\n",
       "      <td>[{\"cast_id\": 8, \"character\": \"A factory worker...</td>\n",
       "      <td>[{\"credit_id\": \"5621aeadc3a3680e1d00a09a\", \"de...</td>\n",
       "    </tr>\n",
       "    <tr>\n",
       "      <th>3137</th>\n",
       "      <td>Nurse 3-D</td>\n",
       "      <td>10</td>\n",
       "      <td>10000000</td>\n",
       "      <td>9.999990e+05</td>\n",
       "      <td>[{\"name\": \"Lions Gate\", \"id\": 6644}, {\"name\": ...</td>\n",
       "      <td>[{\"cast_id\": 5, \"character\": \"Abby Russell\", \"...</td>\n",
       "      <td>[{\"credit_id\": \"52fe499cc3a368484e1346b1\", \"de...</td>\n",
       "    </tr>\n",
       "    <tr>\n",
       "      <th>4577</th>\n",
       "      <td>Paranormal Activity</td>\n",
       "      <td>15000</td>\n",
       "      <td>193355800</td>\n",
       "      <td>1.288939e+04</td>\n",
       "      <td>[{\"name\": \"Blumhouse Productions\", \"id\": 3172}...</td>\n",
       "      <td>[{\"cast_id\": 3, \"character\": \"Katie\", \"credit_...</td>\n",
       "      <td>[{\"credit_id\": \"52fe4477c3a368484e024b01\", \"de...</td>\n",
       "    </tr>\n",
       "    <tr>\n",
       "      <th>4582</th>\n",
       "      <td>Tarnation</td>\n",
       "      <td>218</td>\n",
       "      <td>1162014</td>\n",
       "      <td>5.329339e+03</td>\n",
       "      <td>[]</td>\n",
       "      <td>[{\"cast_id\": 2, \"character\": \"Herself\", \"credi...</td>\n",
       "      <td>[{\"credit_id\": \"52fe42f7c3a36847f8030443\", \"de...</td>\n",
       "    </tr>\n",
       "    <tr>\n",
       "      <th>4496</th>\n",
       "      <td>The Blair Witch Project</td>\n",
       "      <td>60000</td>\n",
       "      <td>248000000</td>\n",
       "      <td>4.132333e+03</td>\n",
       "      <td>[{\"name\": \"Artisan Entertainment\", \"id\": 2188}...</td>\n",
       "      <td>[{\"cast_id\": 41, \"character\": \"Mike\", \"credit_...</td>\n",
       "      <td>[{\"credit_id\": \"52fe4364c3a36847f8050c01\", \"de...</td>\n",
       "    </tr>\n",
       "  </tbody>\n",
       "</table>\n",
       "</div>"
      ],
      "text/plain": [
       "               original_title  budget    revenue      earnings  \\\n",
       "4238             Modern Times       1    8500000  8.499999e+06   \n",
       "3137                Nurse 3-D      10   10000000  9.999990e+05   \n",
       "4577      Paranormal Activity   15000  193355800  1.288939e+04   \n",
       "4582                Tarnation     218    1162014  5.329339e+03   \n",
       "4496  The Blair Witch Project   60000  248000000  4.132333e+03   \n",
       "\n",
       "                                   production_companies  \\\n",
       "4238  [{\"name\": \"United Artists\", \"id\": 60}, {\"name\"...   \n",
       "3137  [{\"name\": \"Lions Gate\", \"id\": 6644}, {\"name\": ...   \n",
       "4577  [{\"name\": \"Blumhouse Productions\", \"id\": 3172}...   \n",
       "4582                                                 []   \n",
       "4496  [{\"name\": \"Artisan Entertainment\", \"id\": 2188}...   \n",
       "\n",
       "                                                   cast  \\\n",
       "4238  [{\"cast_id\": 8, \"character\": \"A factory worker...   \n",
       "3137  [{\"cast_id\": 5, \"character\": \"Abby Russell\", \"...   \n",
       "4577  [{\"cast_id\": 3, \"character\": \"Katie\", \"credit_...   \n",
       "4582  [{\"cast_id\": 2, \"character\": \"Herself\", \"credi...   \n",
       "4496  [{\"cast_id\": 41, \"character\": \"Mike\", \"credit_...   \n",
       "\n",
       "                                                   crew  \n",
       "4238  [{\"credit_id\": \"5621aeadc3a3680e1d00a09a\", \"de...  \n",
       "3137  [{\"credit_id\": \"52fe499cc3a368484e1346b1\", \"de...  \n",
       "4577  [{\"credit_id\": \"52fe4477c3a368484e024b01\", \"de...  \n",
       "4582  [{\"credit_id\": \"52fe42f7c3a36847f8030443\", \"de...  \n",
       "4496  [{\"credit_id\": \"52fe4364c3a36847f8050c01\", \"de...  "
      ]
     },
     "execution_count": 23,
     "metadata": {},
     "output_type": "execute_result"
    }
   ],
   "source": [
    "movies.sort_values(by='earnings', ascending=False).head()"
   ]
  },
  {
   "cell_type": "markdown",
   "metadata": {},
   "source": [
    "After checking some of the data, we ca see that some of the values in the budget and revenue columns are expressed in millions wheras most of the values are raw numbers. We then choose to remove the values expressed in millions for more consistency of the future results. This is done by selecting only the movies that have a budget and revenue bigger than 1000 (it is unlikely that a movie will have a buget or a revenue more than a billion dollars)."
   ]
  },
  {
   "cell_type": "code",
   "execution_count": 24,
   "metadata": {},
   "outputs": [
    {
     "name": "stdout",
     "output_type": "stream",
     "text": [
      "18 0.5574481263549086\n"
     ]
    }
   ],
   "source": [
    "prev_len = len(movies)\n",
    "movies = movies[(movies['budget'] > 1000) & (movies['revenue'] > 1000)]\n",
    "n_movies = len(movies)\n",
    "print(prev_len - n_movies, 100*(prev_len - n_movies)/prev_len)"
   ]
  },
  {
   "cell_type": "markdown",
   "metadata": {},
   "source": [
    "This deletion represents 18 movies (~0.6% of the data), which is an acceptable value."
   ]
  },
  {
   "cell_type": "code",
   "execution_count": 25,
   "metadata": {},
   "outputs": [
    {
     "ename": "TypeError",
     "evalue": "'numpy.int32' object is not callable",
     "output_type": "error",
     "traceback": [
      "\u001b[1;31m---------------------------------------------------------------------------\u001b[0m",
      "\u001b[1;31mTypeError\u001b[0m                                 Traceback (most recent call last)",
      "\u001b[1;32m<ipython-input-25-66665cca6be7>\u001b[0m in \u001b[0;36m<module>\u001b[1;34m()\u001b[0m\n\u001b[0;32m      1\u001b[0m \u001b[0mmovies\u001b[0m\u001b[1;33m.\u001b[0m\u001b[0msort_values\u001b[0m\u001b[1;33m(\u001b[0m\u001b[0mby\u001b[0m\u001b[1;33m=\u001b[0m\u001b[1;34m'earnings'\u001b[0m\u001b[1;33m,\u001b[0m \u001b[0mascending\u001b[0m\u001b[1;33m=\u001b[0m\u001b[1;32mFalse\u001b[0m\u001b[1;33m)\u001b[0m\u001b[1;33m.\u001b[0m\u001b[0mhead\u001b[0m\u001b[1;33m(\u001b[0m\u001b[1;33m)\u001b[0m\u001b[1;33m\u001b[0m\u001b[0m\n\u001b[0;32m      2\u001b[0m \u001b[1;33m\u001b[0m\u001b[0m\n\u001b[1;32m----> 3\u001b[1;33m \u001b[0mmovies\u001b[0m\u001b[1;33m.\u001b[0m\u001b[0msize\u001b[0m\u001b[1;33m(\u001b[0m\u001b[1;33m)\u001b[0m\u001b[1;33m\u001b[0m\u001b[0m\n\u001b[0m",
      "\u001b[1;31mTypeError\u001b[0m: 'numpy.int32' object is not callable"
     ]
    }
   ],
   "source": [
    "movies.sort_values(by='earnings', ascending=False).head()\n",
    "\n",
    "movies.size()"
   ]
  },
  {
   "cell_type": "code",
   "execution_count": 26,
   "metadata": {},
   "outputs": [
    {
     "data": {
      "text/html": [
       "<div>\n",
       "<style scoped>\n",
       "    .dataframe tbody tr th:only-of-type {\n",
       "        vertical-align: middle;\n",
       "    }\n",
       "\n",
       "    .dataframe tbody tr th {\n",
       "        vertical-align: top;\n",
       "    }\n",
       "\n",
       "    .dataframe thead th {\n",
       "        text-align: right;\n",
       "    }\n",
       "</style>\n",
       "<table border=\"1\" class=\"dataframe\">\n",
       "  <thead>\n",
       "    <tr style=\"text-align: right;\">\n",
       "      <th></th>\n",
       "      <th>original_title</th>\n",
       "      <th>earnings</th>\n",
       "      <th>production_companies</th>\n",
       "      <th>actors</th>\n",
       "      <th>characters</th>\n",
       "    </tr>\n",
       "  </thead>\n",
       "  <tbody>\n",
       "    <tr>\n",
       "      <th>0</th>\n",
       "      <td>Avatar</td>\n",
       "      <td>10.763566</td>\n",
       "      <td>[Ingenious Film Partners]</td>\n",
       "      <td>[Sam Worthington, Zoe Saldana, Sigourney Weave...</td>\n",
       "      <td>[Jake Sully, Neytiri, Dr. Grace Augustine, Col...</td>\n",
       "    </tr>\n",
       "    <tr>\n",
       "      <th>1</th>\n",
       "      <td>Pirates of the Caribbean: At World's End</td>\n",
       "      <td>2.203333</td>\n",
       "      <td>[Walt Disney Pictures]</td>\n",
       "      <td>[Johnny Depp, Orlando Bloom, Keira Knightley, ...</td>\n",
       "      <td>[Captain Jack Sparrow, Will Turner, Elizabeth ...</td>\n",
       "    </tr>\n",
       "    <tr>\n",
       "      <th>2</th>\n",
       "      <td>Spectre</td>\n",
       "      <td>2.594590</td>\n",
       "      <td>[Columbia Pictures]</td>\n",
       "      <td>[Daniel Craig, Christoph Waltz, Léa Seydoux, R...</td>\n",
       "      <td>[James Bond, Blofeld, Madeleine, M, Lucia]</td>\n",
       "    </tr>\n",
       "    <tr>\n",
       "      <th>3</th>\n",
       "      <td>The Dark Knight Rises</td>\n",
       "      <td>3.339756</td>\n",
       "      <td>[Legendary Pictures]</td>\n",
       "      <td>[Christian Bale, Michael Caine, Gary Oldman, A...</td>\n",
       "      <td>[Bruce Wayne / Batman, Alfred Pennyworth, Jame...</td>\n",
       "    </tr>\n",
       "    <tr>\n",
       "      <th>4</th>\n",
       "      <td>John Carter</td>\n",
       "      <td>0.092843</td>\n",
       "      <td>[Walt Disney Pictures]</td>\n",
       "      <td>[Taylor Kitsch, Lynn Collins, Samantha Morton,...</td>\n",
       "      <td>[John Carter, Dejah Thoris, Sola, Tars Tarkas,...</td>\n",
       "    </tr>\n",
       "  </tbody>\n",
       "</table>\n",
       "</div>"
      ],
      "text/plain": [
       "                             original_title   earnings  \\\n",
       "0                                    Avatar  10.763566   \n",
       "1  Pirates of the Caribbean: At World's End   2.203333   \n",
       "2                                   Spectre   2.594590   \n",
       "3                     The Dark Knight Rises   3.339756   \n",
       "4                               John Carter   0.092843   \n",
       "\n",
       "        production_companies  \\\n",
       "0  [Ingenious Film Partners]   \n",
       "1     [Walt Disney Pictures]   \n",
       "2        [Columbia Pictures]   \n",
       "3       [Legendary Pictures]   \n",
       "4     [Walt Disney Pictures]   \n",
       "\n",
       "                                              actors  \\\n",
       "0  [Sam Worthington, Zoe Saldana, Sigourney Weave...   \n",
       "1  [Johnny Depp, Orlando Bloom, Keira Knightley, ...   \n",
       "2  [Daniel Craig, Christoph Waltz, Léa Seydoux, R...   \n",
       "3  [Christian Bale, Michael Caine, Gary Oldman, A...   \n",
       "4  [Taylor Kitsch, Lynn Collins, Samantha Morton,...   \n",
       "\n",
       "                                          characters  \n",
       "0  [Jake Sully, Neytiri, Dr. Grace Augustine, Col...  \n",
       "1  [Captain Jack Sparrow, Will Turner, Elizabeth ...  \n",
       "2         [James Bond, Blofeld, Madeleine, M, Lucia]  \n",
       "3  [Bruce Wayne / Batman, Alfred Pennyworth, Jame...  \n",
       "4  [John Carter, Dejah Thoris, Sola, Tars Tarkas,...  "
      ]
     },
     "execution_count": 26,
     "metadata": {},
     "output_type": "execute_result"
    }
   ],
   "source": [
    "to_keep = 5\n",
    "\n",
    "movies['actors'] = movies.cast.map(lambda x: list(map(lambda d: d['name'], json.loads(x)))[:to_keep])\n",
    "\n",
    "movies['characters'] = movies.cast.map(lambda x: list(map(lambda d: d['character'], json.loads(x)))[:to_keep])\n",
    "\n",
    "#movies['crew'] = movies.crew.map(lambda x: list(map(lambda d: d['name'], json.loads(x)))[:to_keep])\n",
    "\n",
    "movies['production_companies'] = movies.production_companies.map(lambda x: list(map(lambda d: d['name'], json.loads(x)))[:1])\n",
    "\n",
    "#movies = movies[['original_title', 'earnings', 'production_companies', 'actors', 'characters', 'crew']]\n",
    "movies = movies[['original_title', 'earnings', 'production_companies', 'actors', 'characters']]\n",
    "\n",
    "movies.head()"
   ]
  },
  {
   "cell_type": "code",
   "execution_count": 27,
   "metadata": {},
   "outputs": [
    {
     "data": {
      "text/html": [
       "<div>\n",
       "<style scoped>\n",
       "    .dataframe tbody tr th:only-of-type {\n",
       "        vertical-align: middle;\n",
       "    }\n",
       "\n",
       "    .dataframe tbody tr th {\n",
       "        vertical-align: top;\n",
       "    }\n",
       "\n",
       "    .dataframe thead th {\n",
       "        text-align: right;\n",
       "    }\n",
       "</style>\n",
       "<table border=\"1\" class=\"dataframe\">\n",
       "  <thead>\n",
       "    <tr style=\"text-align: right;\">\n",
       "      <th></th>\n",
       "      <th>original_title</th>\n",
       "      <th>earnings</th>\n",
       "      <th>features</th>\n",
       "    </tr>\n",
       "  </thead>\n",
       "  <tbody>\n",
       "    <tr>\n",
       "      <th>0</th>\n",
       "      <td>Avatar</td>\n",
       "      <td>10.763566</td>\n",
       "      <td>[Ingenious Film Partners, Sam Worthington, Zoe...</td>\n",
       "    </tr>\n",
       "    <tr>\n",
       "      <th>1</th>\n",
       "      <td>Pirates of the Caribbean: At World's End</td>\n",
       "      <td>2.203333</td>\n",
       "      <td>[Walt Disney Pictures, Johnny Depp, Orlando Bl...</td>\n",
       "    </tr>\n",
       "    <tr>\n",
       "      <th>2</th>\n",
       "      <td>Spectre</td>\n",
       "      <td>2.594590</td>\n",
       "      <td>[Columbia Pictures, Daniel Craig, Christoph Wa...</td>\n",
       "    </tr>\n",
       "    <tr>\n",
       "      <th>3</th>\n",
       "      <td>The Dark Knight Rises</td>\n",
       "      <td>3.339756</td>\n",
       "      <td>[Legendary Pictures, Christian Bale, Michael C...</td>\n",
       "    </tr>\n",
       "    <tr>\n",
       "      <th>4</th>\n",
       "      <td>John Carter</td>\n",
       "      <td>0.092843</td>\n",
       "      <td>[Walt Disney Pictures, Taylor Kitsch, Lynn Col...</td>\n",
       "    </tr>\n",
       "  </tbody>\n",
       "</table>\n",
       "</div>"
      ],
      "text/plain": [
       "                             original_title   earnings  \\\n",
       "0                                    Avatar  10.763566   \n",
       "1  Pirates of the Caribbean: At World's End   2.203333   \n",
       "2                                   Spectre   2.594590   \n",
       "3                     The Dark Knight Rises   3.339756   \n",
       "4                               John Carter   0.092843   \n",
       "\n",
       "                                            features  \n",
       "0  [Ingenious Film Partners, Sam Worthington, Zoe...  \n",
       "1  [Walt Disney Pictures, Johnny Depp, Orlando Bl...  \n",
       "2  [Columbia Pictures, Daniel Craig, Christoph Wa...  \n",
       "3  [Legendary Pictures, Christian Bale, Michael C...  \n",
       "4  [Walt Disney Pictures, Taylor Kitsch, Lynn Col...  "
      ]
     },
     "execution_count": 27,
     "metadata": {},
     "output_type": "execute_result"
    }
   ],
   "source": [
    "movies['features'] = movies['production_companies'] + movies['actors'] + movies['characters']\n",
    "movies = movies[['original_title', 'earnings', 'features']]\n",
    "movies.head()"
   ]
  },
  {
   "cell_type": "markdown",
   "metadata": {},
   "source": [
    "# Split the data"
   ]
  },
  {
   "cell_type": "markdown",
   "metadata": {},
   "source": [
    "We split the data into a training and testing set to make the future prediction on the movies in the testing set."
   ]
  },
  {
   "cell_type": "code",
   "execution_count": 28,
   "metadata": {},
   "outputs": [],
   "source": [
    "train, test = train_test_split(movies, test_size=0.25, random_state=seed)"
   ]
  },
  {
   "cell_type": "markdown",
   "metadata": {},
   "source": [
    "# Compute weights of features"
   ]
  },
  {
   "cell_type": "code",
   "execution_count": 29,
   "metadata": {},
   "outputs": [
    {
     "data": {
      "text/html": [
       "<div>\n",
       "<style scoped>\n",
       "    .dataframe tbody tr th:only-of-type {\n",
       "        vertical-align: middle;\n",
       "    }\n",
       "\n",
       "    .dataframe tbody tr th {\n",
       "        vertical-align: top;\n",
       "    }\n",
       "\n",
       "    .dataframe thead th {\n",
       "        text-align: right;\n",
       "    }\n",
       "</style>\n",
       "<table border=\"1\" class=\"dataframe\">\n",
       "  <thead>\n",
       "    <tr style=\"text-align: right;\">\n",
       "      <th></th>\n",
       "      <th>feature</th>\n",
       "      <th>weight</th>\n",
       "    </tr>\n",
       "  </thead>\n",
       "  <tbody>\n",
       "    <tr>\n",
       "      <th>0</th>\n",
       "      <td>Larry Mullen Jr.</td>\n",
       "      <td>0</td>\n",
       "    </tr>\n",
       "    <tr>\n",
       "      <th>1</th>\n",
       "      <td>\"Hickory\" / The Tin Man</td>\n",
       "      <td>0</td>\n",
       "    </tr>\n",
       "    <tr>\n",
       "      <th>2</th>\n",
       "      <td>\"Hunk\" / The Scarecrow</td>\n",
       "      <td>0</td>\n",
       "    </tr>\n",
       "    <tr>\n",
       "      <th>3</th>\n",
       "      <td>\"Whistling\" John Shaw</td>\n",
       "      <td>0</td>\n",
       "    </tr>\n",
       "    <tr>\n",
       "      <th>4</th>\n",
       "      <td>\"Zeke\" / The Cowardly Lion</td>\n",
       "      <td>0</td>\n",
       "    </tr>\n",
       "  </tbody>\n",
       "</table>\n",
       "</div>"
      ],
      "text/plain": [
       "                      feature  weight\n",
       "0            Larry Mullen Jr.       0\n",
       "1     \"Hickory\" / The Tin Man       0\n",
       "2      \"Hunk\" / The Scarecrow       0\n",
       "3       \"Whistling\" John Shaw       0\n",
       "4  \"Zeke\" / The Cowardly Lion       0"
      ]
     },
     "execution_count": 29,
     "metadata": {},
     "output_type": "execute_result"
    }
   ],
   "source": [
    "# Create the features table with their weights associated weights (set to 0).\n",
    "features = set(train['features'].sum())\n",
    "features.discard('')\n",
    "features = list(features)\n",
    "features.sort()\n",
    "features = pd.DataFrame(features, columns=['feature'])\n",
    "features['weight'] = 0\n",
    "features.head()"
   ]
  },
  {
   "cell_type": "code",
   "execution_count": 30,
   "metadata": {},
   "outputs": [
    {
     "data": {
      "text/html": [
       "<div>\n",
       "<style scoped>\n",
       "    .dataframe tbody tr th:only-of-type {\n",
       "        vertical-align: middle;\n",
       "    }\n",
       "\n",
       "    .dataframe tbody tr th {\n",
       "        vertical-align: top;\n",
       "    }\n",
       "\n",
       "    .dataframe thead th {\n",
       "        text-align: right;\n",
       "    }\n",
       "</style>\n",
       "<table border=\"1\" class=\"dataframe\">\n",
       "  <thead>\n",
       "    <tr style=\"text-align: right;\">\n",
       "      <th></th>\n",
       "      <th>original_title</th>\n",
       "      <th>earnings</th>\n",
       "      <th>feature</th>\n",
       "    </tr>\n",
       "  </thead>\n",
       "  <tbody>\n",
       "    <tr>\n",
       "      <th>0</th>\n",
       "      <td>You've Got Mail</td>\n",
       "      <td>2.858792</td>\n",
       "      <td>Warner Bros.</td>\n",
       "    </tr>\n",
       "    <tr>\n",
       "      <th>1</th>\n",
       "      <td>You've Got Mail</td>\n",
       "      <td>2.858792</td>\n",
       "      <td>Tom Hanks</td>\n",
       "    </tr>\n",
       "    <tr>\n",
       "      <th>2</th>\n",
       "      <td>You've Got Mail</td>\n",
       "      <td>2.858792</td>\n",
       "      <td>Meg Ryan</td>\n",
       "    </tr>\n",
       "    <tr>\n",
       "      <th>3</th>\n",
       "      <td>You've Got Mail</td>\n",
       "      <td>2.858792</td>\n",
       "      <td>Katie Sagona</td>\n",
       "    </tr>\n",
       "    <tr>\n",
       "      <th>4</th>\n",
       "      <td>You've Got Mail</td>\n",
       "      <td>2.858792</td>\n",
       "      <td>Greg Kinnear</td>\n",
       "    </tr>\n",
       "  </tbody>\n",
       "</table>\n",
       "</div>"
      ],
      "text/plain": [
       "    original_title  earnings       feature\n",
       "0  You've Got Mail  2.858792  Warner Bros.\n",
       "1  You've Got Mail  2.858792     Tom Hanks\n",
       "2  You've Got Mail  2.858792      Meg Ryan\n",
       "3  You've Got Mail  2.858792  Katie Sagona\n",
       "4  You've Got Mail  2.858792  Greg Kinnear"
      ]
     },
     "execution_count": 30,
     "metadata": {},
     "output_type": "execute_result"
    }
   ],
   "source": [
    "# A DataFrame where each row contains only one feature (actor, character or production company)\n",
    "# Easier for later computations\n",
    "df = train.set_index(['original_title', 'earnings'])['features'].apply(pd.Series).stack().reset_index().drop('level_2', axis=1)\n",
    "df.columns = ['original_title', 'earnings', 'feature']\n",
    "df.head()"
   ]
  },
  {
   "cell_type": "code",
   "execution_count": 31,
   "metadata": {},
   "outputs": [],
   "source": [
    "for i, feature in enumerate(features['feature']):\n",
    "    in_movie = df[df['feature'] == feature]\n",
    "    features.loc[i, 'weight'] = in_movie['earnings'].sum() / len(in_movie)"
   ]
  },
  {
   "cell_type": "code",
   "execution_count": 32,
   "metadata": {},
   "outputs": [
    {
     "data": {
      "text/html": [
       "<div>\n",
       "<style scoped>\n",
       "    .dataframe tbody tr th:only-of-type {\n",
       "        vertical-align: middle;\n",
       "    }\n",
       "\n",
       "    .dataframe tbody tr th {\n",
       "        vertical-align: top;\n",
       "    }\n",
       "\n",
       "    .dataframe thead th {\n",
       "        text-align: right;\n",
       "    }\n",
       "</style>\n",
       "<table border=\"1\" class=\"dataframe\">\n",
       "  <thead>\n",
       "    <tr style=\"text-align: right;\">\n",
       "      <th></th>\n",
       "      <th>feature</th>\n",
       "      <th>weight</th>\n",
       "    </tr>\n",
       "  </thead>\n",
       "  <tbody>\n",
       "    <tr>\n",
       "      <th>6781</th>\n",
       "      <td>James Bond</td>\n",
       "      <td>12.879888</td>\n",
       "    </tr>\n",
       "  </tbody>\n",
       "</table>\n",
       "</div>"
      ],
      "text/plain": [
       "         feature     weight\n",
       "6781  James Bond  12.879888"
      ]
     },
     "execution_count": 32,
     "metadata": {},
     "output_type": "execute_result"
    }
   ],
   "source": [
    "features.sort_values(by='weight', ascending=False)\n",
    "features[features['feature'] == 'James Bond']"
   ]
  },
  {
   "cell_type": "code",
   "execution_count": 33,
   "metadata": {},
   "outputs": [
    {
     "data": {
      "text/html": [
       "<div>\n",
       "<style scoped>\n",
       "    .dataframe tbody tr th:only-of-type {\n",
       "        vertical-align: middle;\n",
       "    }\n",
       "\n",
       "    .dataframe tbody tr th {\n",
       "        vertical-align: top;\n",
       "    }\n",
       "\n",
       "    .dataframe thead th {\n",
       "        text-align: right;\n",
       "    }\n",
       "</style>\n",
       "<table border=\"1\" class=\"dataframe\">\n",
       "  <thead>\n",
       "    <tr style=\"text-align: right;\">\n",
       "      <th></th>\n",
       "      <th>original_title</th>\n",
       "      <th>earnings</th>\n",
       "      <th>feature</th>\n",
       "    </tr>\n",
       "  </thead>\n",
       "  <tbody>\n",
       "    <tr>\n",
       "      <th>4280</th>\n",
       "      <td>Quantum of Solace</td>\n",
       "      <td>1.930454</td>\n",
       "      <td>Daniel Craig</td>\n",
       "    </tr>\n",
       "    <tr>\n",
       "      <th>6296</th>\n",
       "      <td>Spectre</td>\n",
       "      <td>2.594590</td>\n",
       "      <td>Daniel Craig</td>\n",
       "    </tr>\n",
       "    <tr>\n",
       "      <th>8851</th>\n",
       "      <td>Munich</td>\n",
       "      <td>0.862270</td>\n",
       "      <td>Daniel Craig</td>\n",
       "    </tr>\n",
       "    <tr>\n",
       "      <th>10061</th>\n",
       "      <td>The Golden Compass</td>\n",
       "      <td>1.067971</td>\n",
       "      <td>Daniel Craig</td>\n",
       "    </tr>\n",
       "    <tr>\n",
       "      <th>11125</th>\n",
       "      <td>The Adventures of Tintin</td>\n",
       "      <td>1.861077</td>\n",
       "      <td>Daniel Craig</td>\n",
       "    </tr>\n",
       "    <tr>\n",
       "      <th>11907</th>\n",
       "      <td>Lara Croft: Tomb Raider</td>\n",
       "      <td>1.388725</td>\n",
       "      <td>Daniel Craig</td>\n",
       "    </tr>\n",
       "    <tr>\n",
       "      <th>14075</th>\n",
       "      <td>Renaissance</td>\n",
       "      <td>-0.898258</td>\n",
       "      <td>Daniel Craig</td>\n",
       "    </tr>\n",
       "    <tr>\n",
       "      <th>21009</th>\n",
       "      <td>Skyfall</td>\n",
       "      <td>4.542805</td>\n",
       "      <td>Daniel Craig</td>\n",
       "    </tr>\n",
       "    <tr>\n",
       "      <th>25352</th>\n",
       "      <td>The Invasion</td>\n",
       "      <td>-0.811606</td>\n",
       "      <td>Daniel Craig</td>\n",
       "    </tr>\n",
       "    <tr>\n",
       "      <th>25799</th>\n",
       "      <td>Casino Royale</td>\n",
       "      <td>2.993640</td>\n",
       "      <td>Daniel Craig</td>\n",
       "    </tr>\n",
       "  </tbody>\n",
       "</table>\n",
       "</div>"
      ],
      "text/plain": [
       "                 original_title  earnings       feature\n",
       "4280          Quantum of Solace  1.930454  Daniel Craig\n",
       "6296                    Spectre  2.594590  Daniel Craig\n",
       "8851                     Munich  0.862270  Daniel Craig\n",
       "10061        The Golden Compass  1.067971  Daniel Craig\n",
       "11125  The Adventures of Tintin  1.861077  Daniel Craig\n",
       "11907   Lara Croft: Tomb Raider  1.388725  Daniel Craig\n",
       "14075               Renaissance -0.898258  Daniel Craig\n",
       "21009                   Skyfall  4.542805  Daniel Craig\n",
       "25352              The Invasion -0.811606  Daniel Craig\n",
       "25799             Casino Royale  2.993640  Daniel Craig"
      ]
     },
     "execution_count": 33,
     "metadata": {},
     "output_type": "execute_result"
    }
   ],
   "source": [
    "df[df['feature'] == 'Daniel Craig']"
   ]
  },
  {
   "cell_type": "code",
   "execution_count": 34,
   "metadata": {},
   "outputs": [
    {
     "data": {
      "text/html": [
       "<div>\n",
       "<style scoped>\n",
       "    .dataframe tbody tr th:only-of-type {\n",
       "        vertical-align: middle;\n",
       "    }\n",
       "\n",
       "    .dataframe tbody tr th {\n",
       "        vertical-align: top;\n",
       "    }\n",
       "\n",
       "    .dataframe thead th {\n",
       "        text-align: right;\n",
       "    }\n",
       "</style>\n",
       "<table border=\"1\" class=\"dataframe\">\n",
       "  <thead>\n",
       "    <tr style=\"text-align: right;\">\n",
       "      <th></th>\n",
       "      <th>original_title</th>\n",
       "      <th>earnings</th>\n",
       "      <th>feature</th>\n",
       "    </tr>\n",
       "  </thead>\n",
       "  <tbody>\n",
       "    <tr>\n",
       "      <th>0</th>\n",
       "      <td>You've Got Mail</td>\n",
       "      <td>2.858792</td>\n",
       "      <td>Warner Bros.</td>\n",
       "    </tr>\n",
       "    <tr>\n",
       "      <th>1</th>\n",
       "      <td>You've Got Mail</td>\n",
       "      <td>2.858792</td>\n",
       "      <td>Tom Hanks</td>\n",
       "    </tr>\n",
       "    <tr>\n",
       "      <th>2</th>\n",
       "      <td>You've Got Mail</td>\n",
       "      <td>2.858792</td>\n",
       "      <td>Meg Ryan</td>\n",
       "    </tr>\n",
       "    <tr>\n",
       "      <th>3</th>\n",
       "      <td>You've Got Mail</td>\n",
       "      <td>2.858792</td>\n",
       "      <td>Katie Sagona</td>\n",
       "    </tr>\n",
       "    <tr>\n",
       "      <th>4</th>\n",
       "      <td>You've Got Mail</td>\n",
       "      <td>2.858792</td>\n",
       "      <td>Greg Kinnear</td>\n",
       "    </tr>\n",
       "  </tbody>\n",
       "</table>\n",
       "</div>"
      ],
      "text/plain": [
       "    original_title  earnings       feature\n",
       "0  You've Got Mail  2.858792  Warner Bros.\n",
       "1  You've Got Mail  2.858792     Tom Hanks\n",
       "2  You've Got Mail  2.858792      Meg Ryan\n",
       "3  You've Got Mail  2.858792  Katie Sagona\n",
       "4  You've Got Mail  2.858792  Greg Kinnear"
      ]
     },
     "execution_count": 34,
     "metadata": {},
     "output_type": "execute_result"
    }
   ],
   "source": [
    "df.head()"
   ]
  },
  {
   "cell_type": "markdown",
   "metadata": {},
   "source": [
    "# Compute Adjacency Matrix"
   ]
  },
  {
   "cell_type": "code",
   "execution_count": 47,
   "metadata": {},
   "outputs": [
    {
     "data": {
      "text/plain": [
       "2.990540604912281"
      ]
     },
     "execution_count": 47,
     "metadata": {},
     "output_type": "execute_result"
    }
   ],
   "source": [
    "weigths = set(movies['features'][1]).intersection(set(movies['features'][1]))\n",
    "features[features['feature'] == 'Captain Jack Sparrow']['weight'].item()"
   ]
  },
  {
   "cell_type": "code",
   "execution_count": null,
   "metadata": {},
   "outputs": [],
   "source": [
    "n_nodes = len(movies)\n",
    "\n",
    "try:\n",
    "    adjacency = np.load('adjacency.npy')\n",
    "\n",
    "except FileNotFoundError: \n",
    "    adjacency = np.zeros((n_nodes, n_nodes), dtype=int)\n",
    "    for i in range(n_nodes):\n",
    "            # as the adjacency matrix is symmetric, only the upper triangular is calculated to save time\n",
    "            for j in range(i, n_nodes):\n",
    "                # create weighted edges as the shared number of actors between movies\n",
    "                common_actors = set(movies['features'][2]).intersection(set(movies['features'][2]))\n",
    "                sum_weights = 0\n",
    "\n",
    "                for name in common_actors :\n",
    "                    sum_weights = sum_weights + features[features['feature'] == name]['weight'].item()\n",
    "\n",
    "                adjacency[i, j] = sum_weights\n",
    "      \n",
    "    # fill the lower triangular \n",
    "    adjacency += np.transpose(adjacency)\n",
    "\n",
    "    np.fill_diagonal(adjacency, 0, wrap=False)\n",
    "    np.save(\"adjacency.npy\", adjacency)"
   ]
  },
  {
   "cell_type": "code",
   "execution_count": null,
   "metadata": {},
   "outputs": [],
   "source": [
    "# maximum number of Links in our network\n",
    "L_max = n_nodes*(n_nodes-1)/2\n",
    "print('L_max =', L_max)\n",
    "\n",
    "# number of link in our network\n",
    "L = np.count_nonzero(adjacency)\n",
    "print('L =',L)\n",
    "\n",
    "# sparisty\n",
    "sparsity = (L_max-L)/L_max\n",
    "print('Sparsity =', sparsity)\n",
    "\n",
    "# Create the binary version of adjacency matrix as our adjacency is weighted\n",
    "adj_binary = adjacency.astype(bool).astype(int)\n",
    "degree =  np.sum(adj_binary, axis=0)\n",
    "\n",
    "#Histogram of degree distribution\n",
    "weights = np.ones_like(degree) / float(n_nodes)\n",
    "plt.hist(degree, weights=weights);"
   ]
  },
  {
   "cell_type": "code",
   "execution_count": null,
   "metadata": {},
   "outputs": [],
   "source": [
    "G_adjacency = nx.from_numpy_array(adjacency)\n",
    "G_BC = max(nx.connected_components_subgraphs(G_adjacency), key=len)\n",
    "\n",
    "try:\n",
    "    BC_nparray = np.load('BC.npy')\n",
    "\n",
    "except FileNotFoundError: \n",
    "   \n",
    "    BC_nparray = nx.to_numpy_array(G_BC)\n",
    "    #Save biggest component into a NPY array\n",
    "    np.save(\"BC.npy\", BC_nparray)\n",
    "    \n",
    "print('N° of connected components =',nx.number_connected_components(G_adjacency))\n",
    "print('Clustering coefficient of our Biggest Component =' ,nx.average_clustering(G_BC))"
   ]
  },
  {
   "cell_type": "code",
   "execution_count": null,
   "metadata": {},
   "outputs": [],
   "source": [
    "BC = np.load('biggest_component.npy')\n",
    "\n",
    "\n",
    "# Labels are 1 if the movie contains 'Comedy' in its genres and 0 if it does not\n",
    "nodes_bc = np.load('nodes_bc.npy')\n",
    "labels = np.load('labels.npy')[nodes_bc]\n",
    "labels = np.array([label if label == 1 else -1 for label in labels])\n",
    "labels = labels.astype(float)\n",
    "\n",
    "n_nodes = len(BC)\n",
    "\n",
    "degree_biggest_component= np.sum(BC_nparray, axis=0)\n",
    "\n",
    "#Gradient calculation:\n",
    "\n",
    "# Let us compute the gradient\n",
    "N = BC.shape[0]  # number of nodes\n",
    "E = np.sum(BC>0)  # number of edges (non-zero entries of A)\n",
    "gradient = np.zeros((E, N))\n",
    "eij = 0  # edge index\n",
    "\n",
    "for i in range(N):\n",
    "    for j in range(N):\n",
    "        wij = BC[i, j]\n",
    "        if wij > 0:\n",
    "            gradient[eij,i] = math.sqrt(wij)/math.sqrt(2*degree_biggest_component[i])\n",
    "            gradient[eij,j] = -math.sqrt(wij)/math.sqrt(2*degree_biggest_component[j])\n",
    "            eij = eij + 1  # increment the edge index\n",
    "            \n",
    "laplacian = (gradient.T@gradient) #Laplacian Normalisé calculé avec le gradient.\n",
    "\n",
    "sparse_gradient = sparse.csr_matrix(gradient)\n",
    "sparse_laplacian = sparse.csr_matrix(laplacian)"
   ]
  },
  {
   "cell_type": "code",
   "execution_count": null,
   "metadata": {},
   "outputs": [],
   "source": []
  },
  {
   "cell_type": "code",
   "execution_count": null,
   "metadata": {},
   "outputs": [],
   "source": []
  },
  {
   "cell_type": "code",
   "execution_count": null,
   "metadata": {},
   "outputs": [],
   "source": []
  },
  {
   "cell_type": "code",
   "execution_count": null,
   "metadata": {},
   "outputs": [],
   "source": []
  },
  {
   "cell_type": "code",
   "execution_count": null,
   "metadata": {},
   "outputs": [],
   "source": []
  },
  {
   "cell_type": "code",
   "execution_count": null,
   "metadata": {},
   "outputs": [],
   "source": []
  },
  {
   "cell_type": "code",
   "execution_count": null,
   "metadata": {},
   "outputs": [],
   "source": []
  },
  {
   "cell_type": "code",
   "execution_count": null,
   "metadata": {},
   "outputs": [],
   "source": []
  },
  {
   "cell_type": "code",
   "execution_count": null,
   "metadata": {},
   "outputs": [],
   "source": []
  },
  {
   "cell_type": "code",
   "execution_count": null,
   "metadata": {},
   "outputs": [],
   "source": []
  },
  {
   "cell_type": "code",
   "execution_count": null,
   "metadata": {},
   "outputs": [],
   "source": []
  },
  {
   "cell_type": "code",
   "execution_count": null,
   "metadata": {},
   "outputs": [],
   "source": []
  },
  {
   "cell_type": "code",
   "execution_count": null,
   "metadata": {},
   "outputs": [],
   "source": []
  },
  {
   "cell_type": "code",
   "execution_count": null,
   "metadata": {},
   "outputs": [],
   "source": []
  },
  {
   "cell_type": "code",
   "execution_count": null,
   "metadata": {},
   "outputs": [],
   "source": []
  },
  {
   "cell_type": "code",
   "execution_count": null,
   "metadata": {},
   "outputs": [],
   "source": []
  }
 ],
 "metadata": {
  "kernelspec": {
   "display_name": "Python 3",
   "language": "python",
   "name": "python3"
  },
  "language_info": {
   "codemirror_mode": {
    "name": "ipython",
    "version": 3
   },
   "file_extension": ".py",
   "mimetype": "text/x-python",
   "name": "python",
   "nbconvert_exporter": "python",
   "pygments_lexer": "ipython3",
   "version": "3.6.6"
  }
 },
 "nbformat": 4,
 "nbformat_minor": 2
}
