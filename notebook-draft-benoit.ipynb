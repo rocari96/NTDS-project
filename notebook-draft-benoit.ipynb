{
 "cells": [
  {
   "cell_type": "code",
   "execution_count": 42,
   "metadata": {},
   "outputs": [],
   "source": [
    "import numpy as np\n",
    "import json\n",
    "import pandas as pd\n",
    "import matplotlib.pyplot as plt\n",
    "import scipy.sparse.linalg\n",
    "import networkx as nx\n",
    "import math\n",
    "from scipy import sparse\n"
   ]
  },
  {
   "cell_type": "code",
   "execution_count": 43,
   "metadata": {},
   "outputs": [],
   "source": [
    "%matplotlib inline"
   ]
  },
  {
   "cell_type": "code",
   "execution_count": 44,
   "metadata": {},
   "outputs": [],
   "source": [
    "seed = 3"
   ]
  },
  {
   "cell_type": "markdown",
   "metadata": {},
   "source": [
    "# Load the data"
   ]
  },
  {
   "cell_type": "code",
   "execution_count": 45,
   "metadata": {},
   "outputs": [],
   "source": [
    "data_path = 'data/'"
   ]
  },
  {
   "cell_type": "code",
   "execution_count": 46,
   "metadata": {},
   "outputs": [
    {
     "data": {
      "text/html": [
       "<div>\n",
       "<style scoped>\n",
       "    .dataframe tbody tr th:only-of-type {\n",
       "        vertical-align: middle;\n",
       "    }\n",
       "\n",
       "    .dataframe tbody tr th {\n",
       "        vertical-align: top;\n",
       "    }\n",
       "\n",
       "    .dataframe thead th {\n",
       "        text-align: right;\n",
       "    }\n",
       "</style>\n",
       "<table border=\"1\" class=\"dataframe\">\n",
       "  <thead>\n",
       "    <tr style=\"text-align: right;\">\n",
       "      <th></th>\n",
       "      <th>budget</th>\n",
       "      <th>genres</th>\n",
       "      <th>homepage</th>\n",
       "      <th>id</th>\n",
       "      <th>keywords</th>\n",
       "      <th>original_language</th>\n",
       "      <th>original_title</th>\n",
       "      <th>overview</th>\n",
       "      <th>popularity</th>\n",
       "      <th>production_companies</th>\n",
       "      <th>...</th>\n",
       "      <th>runtime</th>\n",
       "      <th>spoken_languages</th>\n",
       "      <th>status</th>\n",
       "      <th>tagline</th>\n",
       "      <th>title_x</th>\n",
       "      <th>vote_average</th>\n",
       "      <th>vote_count</th>\n",
       "      <th>title_y</th>\n",
       "      <th>cast</th>\n",
       "      <th>crew</th>\n",
       "    </tr>\n",
       "  </thead>\n",
       "  <tbody>\n",
       "    <tr>\n",
       "      <th>0</th>\n",
       "      <td>237000000</td>\n",
       "      <td>[{\"id\": 28, \"name\": \"Action\"}, {\"id\": 12, \"nam...</td>\n",
       "      <td>http://www.avatarmovie.com/</td>\n",
       "      <td>19995</td>\n",
       "      <td>[{\"id\": 1463, \"name\": \"culture clash\"}, {\"id\":...</td>\n",
       "      <td>en</td>\n",
       "      <td>Avatar</td>\n",
       "      <td>In the 22nd century, a paraplegic Marine is di...</td>\n",
       "      <td>150.437577</td>\n",
       "      <td>[{\"name\": \"Ingenious Film Partners\", \"id\": 289...</td>\n",
       "      <td>...</td>\n",
       "      <td>162.0</td>\n",
       "      <td>[{\"iso_639_1\": \"en\", \"name\": \"English\"}, {\"iso...</td>\n",
       "      <td>Released</td>\n",
       "      <td>Enter the World of Pandora.</td>\n",
       "      <td>Avatar</td>\n",
       "      <td>7.2</td>\n",
       "      <td>11800</td>\n",
       "      <td>Avatar</td>\n",
       "      <td>[{\"cast_id\": 242, \"character\": \"Jake Sully\", \"...</td>\n",
       "      <td>[{\"credit_id\": \"52fe48009251416c750aca23\", \"de...</td>\n",
       "    </tr>\n",
       "  </tbody>\n",
       "</table>\n",
       "<p>1 rows × 23 columns</p>\n",
       "</div>"
      ],
      "text/plain": [
       "      budget                                             genres  \\\n",
       "0  237000000  [{\"id\": 28, \"name\": \"Action\"}, {\"id\": 12, \"nam...   \n",
       "\n",
       "                      homepage     id  \\\n",
       "0  http://www.avatarmovie.com/  19995   \n",
       "\n",
       "                                            keywords original_language  \\\n",
       "0  [{\"id\": 1463, \"name\": \"culture clash\"}, {\"id\":...                en   \n",
       "\n",
       "  original_title                                           overview  \\\n",
       "0         Avatar  In the 22nd century, a paraplegic Marine is di...   \n",
       "\n",
       "   popularity                               production_companies  \\\n",
       "0  150.437577  [{\"name\": \"Ingenious Film Partners\", \"id\": 289...   \n",
       "\n",
       "                         ...                         runtime  \\\n",
       "0                        ...                           162.0   \n",
       "\n",
       "                                    spoken_languages    status  \\\n",
       "0  [{\"iso_639_1\": \"en\", \"name\": \"English\"}, {\"iso...  Released   \n",
       "\n",
       "                       tagline title_x vote_average vote_count title_y  \\\n",
       "0  Enter the World of Pandora.  Avatar          7.2      11800  Avatar   \n",
       "\n",
       "                                                cast  \\\n",
       "0  [{\"cast_id\": 242, \"character\": \"Jake Sully\", \"...   \n",
       "\n",
       "                                                crew  \n",
       "0  [{\"credit_id\": \"52fe48009251416c750aca23\", \"de...  \n",
       "\n",
       "[1 rows x 23 columns]"
      ]
     },
     "execution_count": 46,
     "metadata": {},
     "output_type": "execute_result"
    }
   ],
   "source": [
    "# Kaggle data\n",
    "movies_path = data_path + 'tmdb-5000-movie-dataset/'\n",
    "credits = pd.read_csv(movies_path + 'tmdb_5000_credits.csv')\n",
    "movies = pd.read_csv(movies_path + 'tmdb_5000_movies.csv')\n",
    "\n",
    "credits = credits.rename(columns={'movie_id': 'id'})\n",
    "\n",
    "# merge the two data set credit and movies\n",
    "movies = movies.merge(credits, how='inner', on='id')\n",
    "\n",
    "movies.head(1)"
   ]
  },
  {
   "cell_type": "markdown",
   "metadata": {},
   "source": [
    "# Clean and prepare the data"
   ]
  },
  {
   "cell_type": "code",
   "execution_count": 47,
   "metadata": {},
   "outputs": [
    {
     "data": {
      "text/plain": [
       "Index(['budget', 'genres', 'homepage', 'id', 'keywords', 'original_language',\n",
       "       'original_title', 'overview', 'popularity', 'production_companies',\n",
       "       'production_countries', 'release_date', 'revenue', 'runtime',\n",
       "       'spoken_languages', 'status', 'tagline', 'title_x', 'vote_average',\n",
       "       'vote_count', 'title_y', 'cast', 'crew'],\n",
       "      dtype='object')"
      ]
     },
     "execution_count": 47,
     "metadata": {},
     "output_type": "execute_result"
    }
   ],
   "source": [
    "movies.columns"
   ]
  },
  {
   "cell_type": "code",
   "execution_count": 48,
   "metadata": {},
   "outputs": [],
   "source": [
    "movies['earnings'] = (movies['revenue'] - movies['budget']) / movies['budget']"
   ]
  },
  {
   "cell_type": "code",
   "execution_count": 49,
   "metadata": {},
   "outputs": [
    {
     "data": {
      "text/html": [
       "<div>\n",
       "<style scoped>\n",
       "    .dataframe tbody tr th:only-of-type {\n",
       "        vertical-align: middle;\n",
       "    }\n",
       "\n",
       "    .dataframe tbody tr th {\n",
       "        vertical-align: top;\n",
       "    }\n",
       "\n",
       "    .dataframe thead th {\n",
       "        text-align: right;\n",
       "    }\n",
       "</style>\n",
       "<table border=\"1\" class=\"dataframe\">\n",
       "  <thead>\n",
       "    <tr style=\"text-align: right;\">\n",
       "      <th></th>\n",
       "      <th>original_title</th>\n",
       "      <th>budget</th>\n",
       "      <th>revenue</th>\n",
       "      <th>earnings</th>\n",
       "      <th>production_companies</th>\n",
       "      <th>cast</th>\n",
       "      <th>crew</th>\n",
       "    </tr>\n",
       "  </thead>\n",
       "  <tbody>\n",
       "    <tr>\n",
       "      <th>0</th>\n",
       "      <td>Avatar</td>\n",
       "      <td>237000000</td>\n",
       "      <td>2787965087</td>\n",
       "      <td>10.763566</td>\n",
       "      <td>[{\"name\": \"Ingenious Film Partners\", \"id\": 289...</td>\n",
       "      <td>[{\"cast_id\": 242, \"character\": \"Jake Sully\", \"...</td>\n",
       "      <td>[{\"credit_id\": \"52fe48009251416c750aca23\", \"de...</td>\n",
       "    </tr>\n",
       "    <tr>\n",
       "      <th>1</th>\n",
       "      <td>Pirates of the Caribbean: At World's End</td>\n",
       "      <td>300000000</td>\n",
       "      <td>961000000</td>\n",
       "      <td>2.203333</td>\n",
       "      <td>[{\"name\": \"Walt Disney Pictures\", \"id\": 2}, {\"...</td>\n",
       "      <td>[{\"cast_id\": 4, \"character\": \"Captain Jack Spa...</td>\n",
       "      <td>[{\"credit_id\": \"52fe4232c3a36847f800b579\", \"de...</td>\n",
       "    </tr>\n",
       "    <tr>\n",
       "      <th>2</th>\n",
       "      <td>Spectre</td>\n",
       "      <td>245000000</td>\n",
       "      <td>880674609</td>\n",
       "      <td>2.594590</td>\n",
       "      <td>[{\"name\": \"Columbia Pictures\", \"id\": 5}, {\"nam...</td>\n",
       "      <td>[{\"cast_id\": 1, \"character\": \"James Bond\", \"cr...</td>\n",
       "      <td>[{\"credit_id\": \"54805967c3a36829b5002c41\", \"de...</td>\n",
       "    </tr>\n",
       "    <tr>\n",
       "      <th>3</th>\n",
       "      <td>The Dark Knight Rises</td>\n",
       "      <td>250000000</td>\n",
       "      <td>1084939099</td>\n",
       "      <td>3.339756</td>\n",
       "      <td>[{\"name\": \"Legendary Pictures\", \"id\": 923}, {\"...</td>\n",
       "      <td>[{\"cast_id\": 2, \"character\": \"Bruce Wayne / Ba...</td>\n",
       "      <td>[{\"credit_id\": \"52fe4781c3a36847f81398c3\", \"de...</td>\n",
       "    </tr>\n",
       "    <tr>\n",
       "      <th>4</th>\n",
       "      <td>John Carter</td>\n",
       "      <td>260000000</td>\n",
       "      <td>284139100</td>\n",
       "      <td>0.092843</td>\n",
       "      <td>[{\"name\": \"Walt Disney Pictures\", \"id\": 2}]</td>\n",
       "      <td>[{\"cast_id\": 5, \"character\": \"John Carter\", \"c...</td>\n",
       "      <td>[{\"credit_id\": \"52fe479ac3a36847f813eaa3\", \"de...</td>\n",
       "    </tr>\n",
       "  </tbody>\n",
       "</table>\n",
       "</div>"
      ],
      "text/plain": [
       "                             original_title     budget     revenue   earnings  \\\n",
       "0                                    Avatar  237000000  2787965087  10.763566   \n",
       "1  Pirates of the Caribbean: At World's End  300000000   961000000   2.203333   \n",
       "2                                   Spectre  245000000   880674609   2.594590   \n",
       "3                     The Dark Knight Rises  250000000  1084939099   3.339756   \n",
       "4                               John Carter  260000000   284139100   0.092843   \n",
       "\n",
       "                                production_companies  \\\n",
       "0  [{\"name\": \"Ingenious Film Partners\", \"id\": 289...   \n",
       "1  [{\"name\": \"Walt Disney Pictures\", \"id\": 2}, {\"...   \n",
       "2  [{\"name\": \"Columbia Pictures\", \"id\": 5}, {\"nam...   \n",
       "3  [{\"name\": \"Legendary Pictures\", \"id\": 923}, {\"...   \n",
       "4        [{\"name\": \"Walt Disney Pictures\", \"id\": 2}]   \n",
       "\n",
       "                                                cast  \\\n",
       "0  [{\"cast_id\": 242, \"character\": \"Jake Sully\", \"...   \n",
       "1  [{\"cast_id\": 4, \"character\": \"Captain Jack Spa...   \n",
       "2  [{\"cast_id\": 1, \"character\": \"James Bond\", \"cr...   \n",
       "3  [{\"cast_id\": 2, \"character\": \"Bruce Wayne / Ba...   \n",
       "4  [{\"cast_id\": 5, \"character\": \"John Carter\", \"c...   \n",
       "\n",
       "                                                crew  \n",
       "0  [{\"credit_id\": \"52fe48009251416c750aca23\", \"de...  \n",
       "1  [{\"credit_id\": \"52fe4232c3a36847f800b579\", \"de...  \n",
       "2  [{\"credit_id\": \"54805967c3a36829b5002c41\", \"de...  \n",
       "3  [{\"credit_id\": \"52fe4781c3a36847f81398c3\", \"de...  \n",
       "4  [{\"credit_id\": \"52fe479ac3a36847f813eaa3\", \"de...  "
      ]
     },
     "execution_count": 49,
     "metadata": {},
     "output_type": "execute_result"
    }
   ],
   "source": [
    "# keep only useful movies\n",
    "movies = movies[['original_title', 'budget', 'revenue', 'earnings', 'production_companies', 'cast', 'crew']]\n",
    "movies.head(5)"
   ]
  },
  {
   "cell_type": "code",
   "execution_count": 50,
   "metadata": {},
   "outputs": [
    {
     "data": {
      "text/html": [
       "<div>\n",
       "<style scoped>\n",
       "    .dataframe tbody tr th:only-of-type {\n",
       "        vertical-align: middle;\n",
       "    }\n",
       "\n",
       "    .dataframe tbody tr th {\n",
       "        vertical-align: top;\n",
       "    }\n",
       "\n",
       "    .dataframe thead th {\n",
       "        text-align: right;\n",
       "    }\n",
       "</style>\n",
       "<table border=\"1\" class=\"dataframe\">\n",
       "  <thead>\n",
       "    <tr style=\"text-align: right;\">\n",
       "      <th></th>\n",
       "      <th>original_title</th>\n",
       "      <th>budget</th>\n",
       "      <th>revenue</th>\n",
       "      <th>earnings</th>\n",
       "      <th>production_companies</th>\n",
       "      <th>cast</th>\n",
       "      <th>crew</th>\n",
       "    </tr>\n",
       "  </thead>\n",
       "  <tbody>\n",
       "    <tr>\n",
       "      <th>4014</th>\n",
       "      <td>Kevin Hart: Let Me Explain</td>\n",
       "      <td>0</td>\n",
       "      <td>32230907</td>\n",
       "      <td>inf</td>\n",
       "      <td>[{\"name\": \"Hartbeat Productions\", \"id\": 40268}]</td>\n",
       "      <td>[{\"cast_id\": 2, \"character\": \"Himself\", \"credi...</td>\n",
       "      <td>[{\"credit_id\": \"58c6a9d2c3a368413001627a\", \"de...</td>\n",
       "    </tr>\n",
       "    <tr>\n",
       "      <th>2393</th>\n",
       "      <td>Madea Goes to Jail</td>\n",
       "      <td>0</td>\n",
       "      <td>90508336</td>\n",
       "      <td>inf</td>\n",
       "      <td>[{\"name\": \"Lions Gate Films\", \"id\": 35}, {\"nam...</td>\n",
       "      <td>[{\"cast_id\": 5, \"character\": \"Madea / Joe / Br...</td>\n",
       "      <td>[{\"credit_id\": \"52fe46709251416c7507868d\", \"de...</td>\n",
       "    </tr>\n",
       "    <tr>\n",
       "      <th>3778</th>\n",
       "      <td>The Art of Getting By</td>\n",
       "      <td>0</td>\n",
       "      <td>1406224</td>\n",
       "      <td>inf</td>\n",
       "      <td>[{\"name\": \"Goldcrest Films International\", \"id...</td>\n",
       "      <td>[{\"cast_id\": 2, \"character\": \"George Zinavoy\",...</td>\n",
       "      <td>[{\"credit_id\": \"593c6b79c3a3680f590129a9\", \"de...</td>\n",
       "    </tr>\n",
       "    <tr>\n",
       "      <th>3782</th>\n",
       "      <td>Holy Motors</td>\n",
       "      <td>0</td>\n",
       "      <td>641100</td>\n",
       "      <td>inf</td>\n",
       "      <td>[{\"name\": \"Pandora Filmproduktion\", \"id\": 254}...</td>\n",
       "      <td>[{\"cast_id\": 3, \"character\": \"Kay M\", \"credit_...</td>\n",
       "      <td>[{\"credit_id\": \"52fe4a1cc3a36847f81ba1cb\", \"de...</td>\n",
       "    </tr>\n",
       "    <tr>\n",
       "      <th>1922</th>\n",
       "      <td>Gettysburg</td>\n",
       "      <td>0</td>\n",
       "      <td>25000000</td>\n",
       "      <td>inf</td>\n",
       "      <td>[{\"name\": \"TriStar Television\", \"id\": 8609}, {...</td>\n",
       "      <td>[{\"cast_id\": 1, \"character\": \"Col. Joshua Cham...</td>\n",
       "      <td>[{\"credit_id\": \"52fe439d9251416c750173fd\", \"de...</td>\n",
       "    </tr>\n",
       "  </tbody>\n",
       "</table>\n",
       "</div>"
      ],
      "text/plain": [
       "                  original_title  budget   revenue  earnings  \\\n",
       "4014  Kevin Hart: Let Me Explain       0  32230907       inf   \n",
       "2393          Madea Goes to Jail       0  90508336       inf   \n",
       "3778       The Art of Getting By       0   1406224       inf   \n",
       "3782                 Holy Motors       0    641100       inf   \n",
       "1922                  Gettysburg       0  25000000       inf   \n",
       "\n",
       "                                   production_companies  \\\n",
       "4014    [{\"name\": \"Hartbeat Productions\", \"id\": 40268}]   \n",
       "2393  [{\"name\": \"Lions Gate Films\", \"id\": 35}, {\"nam...   \n",
       "3778  [{\"name\": \"Goldcrest Films International\", \"id...   \n",
       "3782  [{\"name\": \"Pandora Filmproduktion\", \"id\": 254}...   \n",
       "1922  [{\"name\": \"TriStar Television\", \"id\": 8609}, {...   \n",
       "\n",
       "                                                   cast  \\\n",
       "4014  [{\"cast_id\": 2, \"character\": \"Himself\", \"credi...   \n",
       "2393  [{\"cast_id\": 5, \"character\": \"Madea / Joe / Br...   \n",
       "3778  [{\"cast_id\": 2, \"character\": \"George Zinavoy\",...   \n",
       "3782  [{\"cast_id\": 3, \"character\": \"Kay M\", \"credit_...   \n",
       "1922  [{\"cast_id\": 1, \"character\": \"Col. Joshua Cham...   \n",
       "\n",
       "                                                   crew  \n",
       "4014  [{\"credit_id\": \"58c6a9d2c3a368413001627a\", \"de...  \n",
       "2393  [{\"credit_id\": \"52fe46709251416c7507868d\", \"de...  \n",
       "3778  [{\"credit_id\": \"593c6b79c3a3680f590129a9\", \"de...  \n",
       "3782  [{\"credit_id\": \"52fe4a1cc3a36847f81ba1cb\", \"de...  \n",
       "1922  [{\"credit_id\": \"52fe439d9251416c750173fd\", \"de...  "
      ]
     },
     "execution_count": 50,
     "metadata": {},
     "output_type": "execute_result"
    }
   ],
   "source": [
    "movies.sort_values(by='earnings', ascending=False).head()"
   ]
  },
  {
   "cell_type": "markdown",
   "metadata": {},
   "source": [
    "After checking some of the data, we ca see that some of the values in the budget and revenue columns are expressed in millions wheras most of the values are raw numbers. We then choose to remove the values expressed in millions for more consistency of the future results. This is done by selecting only the movies that have a budget and revenue bigger than 1000 (it is unlikely that a movie will have a buget or a revenue more than a billion dollars)."
   ]
  },
  {
   "cell_type": "code",
   "execution_count": 51,
   "metadata": {},
   "outputs": [
    {
     "name": "stdout",
     "output_type": "stream",
     "text": [
      "1592 33.14595044763689\n"
     ]
    }
   ],
   "source": [
    "prev_len = len(movies)\n",
    "movies = movies[(movies['budget'] > 1000) & (movies['revenue'] > 1000)].reset_index(drop=True)\n",
    "n_movies = len(movies)\n",
    "print(prev_len - n_movies, 100*(prev_len - n_movies)/prev_len)"
   ]
  },
  {
   "cell_type": "markdown",
   "metadata": {},
   "source": [
    "This deletion represents 18 movies (~0.6% of the data), which is an acceptable value."
   ]
  },
  {
   "cell_type": "code",
   "execution_count": null,
   "metadata": {},
   "outputs": [],
   "source": [
    "\n",
    "\n",
    "\n",
    "\n",
    "\n",
    "\n",
    "\n",
    "\n",
    "\n",
    "\n",
    "\n"
   ]
  },
  {
   "cell_type": "code",
   "execution_count": 52,
   "metadata": {},
   "outputs": [
    {
     "data": {
      "text/plain": [
       "original_title                                                     Avatar\n",
       "budget                                                          237000000\n",
       "revenue                                                        2787965087\n",
       "earnings                                                          10.7636\n",
       "production_companies    [{\"name\": \"Ingenious Film Partners\", \"id\": 289...\n",
       "cast                    [{\"cast_id\": 242, \"character\": \"Jake Sully\", \"...\n",
       "crew                    [{\"credit_id\": \"52fe48009251416c750aca23\", \"de...\n",
       "Name: 0, dtype: object"
      ]
     },
     "execution_count": 52,
     "metadata": {},
     "output_type": "execute_result"
    }
   ],
   "source": [
    "movies.loc[movies['revenue'].idxmax()]"
   ]
  },
  {
   "cell_type": "code",
   "execution_count": 53,
   "metadata": {},
   "outputs": [
    {
     "data": {
      "image/png": "[encoded data removed]",
      "text/plain": [
       "<Figure size 1152x360 with 1 Axes>"
      ]
     },
     "metadata": {},
     "output_type": "display_data"
    }
   ],
   "source": [
    "plt.figure(figsize=(16,5))\n",
    "plt.title('histogram of budget')\n",
    "plt.hist(movies.budget, bins = 100);"
   ]
  },
  {
   "cell_type": "code",
   "execution_count": 54,
   "metadata": {},
   "outputs": [
    {
     "data": {
      "image/png": "[encoded data removed]",
      "text/plain": [
       "<Figure size 1152x360 with 1 Axes>"
      ]
     },
     "metadata": {},
     "output_type": "display_data"
    }
   ],
   "source": [
    "plt.figure(figsize=(16,5))\n",
    "plt.title('histogram of revenue')\n",
    "plt.hist(movies.revenue, bins = 100);"
   ]
  },
  {
   "cell_type": "code",
   "execution_count": 55,
   "metadata": {},
   "outputs": [
    {
     "data": {
      "image/png": "[encoded data removed]",
      "text/plain": [
       "<Figure size 1152x360 with 1 Axes>"
      ]
     },
     "metadata": {},
     "output_type": "display_data"
    }
   ],
   "source": [
    "plt.figure(figsize=(16,5))\n",
    "plt.title('histogram of earnings')\n",
    "plt.hist(movies.earnings, bins = np.linspace(0, 11,100).tolist());"
   ]
  },
  {
   "cell_type": "code",
   "execution_count": 56,
   "metadata": {},
   "outputs": [
    {
     "data": {
      "text/plain": [
       "<matplotlib.collections.PathCollection at 0x7fb905d3d400>"
      ]
     },
     "execution_count": 56,
     "metadata": {},
     "output_type": "execute_result"
    },
    {
     "data": {
      "image/png": "[encoded data removed]",
      "text/plain": [
       "<Figure size 432x288 with 1 Axes>"
      ]
     },
     "metadata": {},
     "output_type": "display_data"
    }
   ],
   "source": [
    "plt.scatter(movies.budget,movies.earnings)"
   ]
  },
  {
   "cell_type": "code",
   "execution_count": 57,
   "metadata": {},
   "outputs": [
    {
     "data": {
      "text/html": [
       "<div>\n",
       "<style scoped>\n",
       "    .dataframe tbody tr th:only-of-type {\n",
       "        vertical-align: middle;\n",
       "    }\n",
       "\n",
       "    .dataframe tbody tr th {\n",
       "        vertical-align: top;\n",
       "    }\n",
       "\n",
       "    .dataframe thead th {\n",
       "        text-align: right;\n",
       "    }\n",
       "</style>\n",
       "<table border=\"1\" class=\"dataframe\">\n",
       "  <thead>\n",
       "    <tr style=\"text-align: right;\">\n",
       "      <th></th>\n",
       "      <th>original_title</th>\n",
       "      <th>budget</th>\n",
       "      <th>revenue</th>\n",
       "      <th>earnings</th>\n",
       "      <th>production_companies</th>\n",
       "      <th>cast</th>\n",
       "      <th>crew</th>\n",
       "    </tr>\n",
       "  </thead>\n",
       "  <tbody>\n",
       "    <tr>\n",
       "      <th>3158</th>\n",
       "      <td>Paranormal Activity</td>\n",
       "      <td>15000</td>\n",
       "      <td>193355800</td>\n",
       "      <td>12889.386667</td>\n",
       "      <td>[{\"name\": \"Blumhouse Productions\", \"id\": 3172}...</td>\n",
       "      <td>[{\"cast_id\": 3, \"character\": \"Katie\", \"credit_...</td>\n",
       "      <td>[{\"credit_id\": \"52fe4477c3a368484e024b01\", \"de...</td>\n",
       "    </tr>\n",
       "    <tr>\n",
       "      <th>3142</th>\n",
       "      <td>The Blair Witch Project</td>\n",
       "      <td>60000</td>\n",
       "      <td>248000000</td>\n",
       "      <td>4132.333333</td>\n",
       "      <td>[{\"name\": \"Artisan Entertainment\", \"id\": 2188}...</td>\n",
       "      <td>[{\"cast_id\": 41, \"character\": \"Mike\", \"credit_...</td>\n",
       "      <td>[{\"credit_id\": \"52fe4364c3a36847f8050c01\", \"de...</td>\n",
       "    </tr>\n",
       "    <tr>\n",
       "      <th>3200</th>\n",
       "      <td>Eraserhead</td>\n",
       "      <td>10000</td>\n",
       "      <td>7000000</td>\n",
       "      <td>699.000000</td>\n",
       "      <td>[{\"name\": \"American Film Institute (AFI)\", \"id...</td>\n",
       "      <td>[{\"cast_id\": 13, \"character\": \"Henry Spencer\",...</td>\n",
       "      <td>[{\"credit_id\": \"52fe4296c3a36847f802a5dd\", \"de...</td>\n",
       "    </tr>\n",
       "    <tr>\n",
       "      <th>3207</th>\n",
       "      <td>Pink Flamingos</td>\n",
       "      <td>12000</td>\n",
       "      <td>6000000</td>\n",
       "      <td>499.000000</td>\n",
       "      <td>[{\"name\": \"Dreamland Productions\", \"id\": 407}]</td>\n",
       "      <td>[{\"cast_id\": 8, \"character\": \"Divine / Babs Jo...</td>\n",
       "      <td>[{\"credit_id\": \"52fe426bc3a36847f801d203\", \"de...</td>\n",
       "    </tr>\n",
       "    <tr>\n",
       "      <th>3202</th>\n",
       "      <td>Super Size Me</td>\n",
       "      <td>65000</td>\n",
       "      <td>28575078</td>\n",
       "      <td>438.616585</td>\n",
       "      <td>[{\"name\": \"Kathbur Pictures\", \"id\": 8735}]</td>\n",
       "      <td>[{\"cast_id\": 1, \"character\": \"Himself\", \"credi...</td>\n",
       "      <td>[{\"credit_id\": \"52fe44efc3a36847f80b2a9d\", \"de...</td>\n",
       "    </tr>\n",
       "  </tbody>\n",
       "</table>\n",
       "</div>"
      ],
      "text/plain": [
       "               original_title  budget    revenue      earnings  \\\n",
       "3158      Paranormal Activity   15000  193355800  12889.386667   \n",
       "3142  The Blair Witch Project   60000  248000000   4132.333333   \n",
       "3200               Eraserhead   10000    7000000    699.000000   \n",
       "3207           Pink Flamingos   12000    6000000    499.000000   \n",
       "3202            Super Size Me   65000   28575078    438.616585   \n",
       "\n",
       "                                   production_companies  \\\n",
       "3158  [{\"name\": \"Blumhouse Productions\", \"id\": 3172}...   \n",
       "3142  [{\"name\": \"Artisan Entertainment\", \"id\": 2188}...   \n",
       "3200  [{\"name\": \"American Film Institute (AFI)\", \"id...   \n",
       "3207     [{\"name\": \"Dreamland Productions\", \"id\": 407}]   \n",
       "3202         [{\"name\": \"Kathbur Pictures\", \"id\": 8735}]   \n",
       "\n",
       "                                                   cast  \\\n",
       "3158  [{\"cast_id\": 3, \"character\": \"Katie\", \"credit_...   \n",
       "3142  [{\"cast_id\": 41, \"character\": \"Mike\", \"credit_...   \n",
       "3200  [{\"cast_id\": 13, \"character\": \"Henry Spencer\",...   \n",
       "3207  [{\"cast_id\": 8, \"character\": \"Divine / Babs Jo...   \n",
       "3202  [{\"cast_id\": 1, \"character\": \"Himself\", \"credi...   \n",
       "\n",
       "                                                   crew  \n",
       "3158  [{\"credit_id\": \"52fe4477c3a368484e024b01\", \"de...  \n",
       "3142  [{\"credit_id\": \"52fe4364c3a36847f8050c01\", \"de...  \n",
       "3200  [{\"credit_id\": \"52fe4296c3a36847f802a5dd\", \"de...  \n",
       "3207  [{\"credit_id\": \"52fe426bc3a36847f801d203\", \"de...  \n",
       "3202  [{\"credit_id\": \"52fe44efc3a36847f80b2a9d\", \"de...  "
      ]
     },
     "execution_count": 57,
     "metadata": {},
     "output_type": "execute_result"
    }
   ],
   "source": [
    "movies.sort_values(by='earnings', ascending=False).head()"
   ]
  },
  {
   "cell_type": "code",
   "execution_count": 58,
   "metadata": {},
   "outputs": [
    {
     "data": {
      "text/html": [
       "<div>\n",
       "<style scoped>\n",
       "    .dataframe tbody tr th:only-of-type {\n",
       "        vertical-align: middle;\n",
       "    }\n",
       "\n",
       "    .dataframe tbody tr th {\n",
       "        vertical-align: top;\n",
       "    }\n",
       "\n",
       "    .dataframe thead th {\n",
       "        text-align: right;\n",
       "    }\n",
       "</style>\n",
       "<table border=\"1\" class=\"dataframe\">\n",
       "  <thead>\n",
       "    <tr style=\"text-align: right;\">\n",
       "      <th></th>\n",
       "      <th>original_title</th>\n",
       "      <th>earnings</th>\n",
       "      <th>production_companies</th>\n",
       "      <th>actors</th>\n",
       "      <th>characters</th>\n",
       "      <th>crew</th>\n",
       "    </tr>\n",
       "  </thead>\n",
       "  <tbody>\n",
       "    <tr>\n",
       "      <th>0</th>\n",
       "      <td>Avatar</td>\n",
       "      <td>10.763566</td>\n",
       "      <td>[Ingenious Film Partners]</td>\n",
       "      <td>[Sam Worthington, Zoe Saldana, Sigourney Weave...</td>\n",
       "      <td>[Jake Sully, Neytiri, Dr. Grace Augustine, Col...</td>\n",
       "      <td>[James Cameron, James Cameron, Jon Landau]</td>\n",
       "    </tr>\n",
       "    <tr>\n",
       "      <th>1</th>\n",
       "      <td>Pirates of the Caribbean: At World's End</td>\n",
       "      <td>2.203333</td>\n",
       "      <td>[Walt Disney Pictures]</td>\n",
       "      <td>[Johnny Depp, Orlando Bloom, Keira Knightley, ...</td>\n",
       "      <td>[Captain Jack Sparrow, Will Turner, Elizabeth ...</td>\n",
       "      <td>[Gore Verbinski, Jerry Bruckheimer, Eric McLeo...</td>\n",
       "    </tr>\n",
       "    <tr>\n",
       "      <th>2</th>\n",
       "      <td>Spectre</td>\n",
       "      <td>2.594590</td>\n",
       "      <td>[Columbia Pictures]</td>\n",
       "      <td>[Daniel Craig, Christoph Waltz, Léa Seydoux, R...</td>\n",
       "      <td>[James Bond, Blofeld, Madeleine, M, Lucia]</td>\n",
       "      <td>[Sam Mendes, Barbara Broccoli, Michael G. Wilson]</td>\n",
       "    </tr>\n",
       "    <tr>\n",
       "      <th>3</th>\n",
       "      <td>The Dark Knight Rises</td>\n",
       "      <td>3.339756</td>\n",
       "      <td>[Legendary Pictures]</td>\n",
       "      <td>[Christian Bale, Michael Caine, Gary Oldman, A...</td>\n",
       "      <td>[Bruce Wayne / Batman, Alfred Pennyworth, Jame...</td>\n",
       "      <td>[Charles Roven, Christopher Nolan, Christopher...</td>\n",
       "    </tr>\n",
       "    <tr>\n",
       "      <th>4</th>\n",
       "      <td>John Carter</td>\n",
       "      <td>0.092843</td>\n",
       "      <td>[Walt Disney Pictures]</td>\n",
       "      <td>[Taylor Kitsch, Lynn Collins, Samantha Morton,...</td>\n",
       "      <td>[John Carter, Dejah Thoris, Sola, Tars Tarkas,...</td>\n",
       "      <td>[Andrew Stanton, Colin Wilson, Jim Morris, Lin...</td>\n",
       "    </tr>\n",
       "  </tbody>\n",
       "</table>\n",
       "</div>"
      ],
      "text/plain": [
       "                             original_title   earnings  \\\n",
       "0                                    Avatar  10.763566   \n",
       "1  Pirates of the Caribbean: At World's End   2.203333   \n",
       "2                                   Spectre   2.594590   \n",
       "3                     The Dark Knight Rises   3.339756   \n",
       "4                               John Carter   0.092843   \n",
       "\n",
       "        production_companies  \\\n",
       "0  [Ingenious Film Partners]   \n",
       "1     [Walt Disney Pictures]   \n",
       "2        [Columbia Pictures]   \n",
       "3       [Legendary Pictures]   \n",
       "4     [Walt Disney Pictures]   \n",
       "\n",
       "                                              actors  \\\n",
       "0  [Sam Worthington, Zoe Saldana, Sigourney Weave...   \n",
       "1  [Johnny Depp, Orlando Bloom, Keira Knightley, ...   \n",
       "2  [Daniel Craig, Christoph Waltz, Léa Seydoux, R...   \n",
       "3  [Christian Bale, Michael Caine, Gary Oldman, A...   \n",
       "4  [Taylor Kitsch, Lynn Collins, Samantha Morton,...   \n",
       "\n",
       "                                          characters  \\\n",
       "0  [Jake Sully, Neytiri, Dr. Grace Augustine, Col...   \n",
       "1  [Captain Jack Sparrow, Will Turner, Elizabeth ...   \n",
       "2         [James Bond, Blofeld, Madeleine, M, Lucia]   \n",
       "3  [Bruce Wayne / Batman, Alfred Pennyworth, Jame...   \n",
       "4  [John Carter, Dejah Thoris, Sola, Tars Tarkas,...   \n",
       "\n",
       "                                                crew  \n",
       "0         [James Cameron, James Cameron, Jon Landau]  \n",
       "1  [Gore Verbinski, Jerry Bruckheimer, Eric McLeo...  \n",
       "2  [Sam Mendes, Barbara Broccoli, Michael G. Wilson]  \n",
       "3  [Charles Roven, Christopher Nolan, Christopher...  \n",
       "4  [Andrew Stanton, Colin Wilson, Jim Morris, Lin...  "
      ]
     },
     "execution_count": 58,
     "metadata": {},
     "output_type": "execute_result"
    }
   ],
   "source": [
    "to_keep = 5\n",
    "\n",
    "movies['actors'] = movies.cast.map(lambda x: list(map(lambda d: d['name'], json.loads(x)))[:to_keep])\n",
    "\n",
    "movies['characters'] = movies.cast.map(lambda x: list(map(lambda d: d['character'], json.loads(x)))[:to_keep])\n",
    "\n",
    "movies['crew'] = movies.crew.map(lambda x: list(filter(None, list(map(lambda d: d['name'] if (d['job'] == 'Director' or d['job'] == 'Producer') else None, json.loads(x))))))\n",
    "\n",
    "movies['production_companies'] = movies.production_companies.map(lambda x: list(map(lambda d: d['name'], json.loads(x)))[:1])\n",
    "\n",
    "movies = movies[['original_title', 'earnings', 'production_companies', 'actors', 'characters', 'crew']]\n",
    "\n",
    "movies.head(5)"
   ]
  },
  {
   "cell_type": "code",
   "execution_count": 59,
   "metadata": {},
   "outputs": [
    {
     "data": {
      "text/html": [
       "<div>\n",
       "<style scoped>\n",
       "    .dataframe tbody tr th:only-of-type {\n",
       "        vertical-align: middle;\n",
       "    }\n",
       "\n",
       "    .dataframe tbody tr th {\n",
       "        vertical-align: top;\n",
       "    }\n",
       "\n",
       "    .dataframe thead th {\n",
       "        text-align: right;\n",
       "    }\n",
       "</style>\n",
       "<table border=\"1\" class=\"dataframe\">\n",
       "  <thead>\n",
       "    <tr style=\"text-align: right;\">\n",
       "      <th></th>\n",
       "      <th>original_title</th>\n",
       "      <th>earnings</th>\n",
       "      <th>features</th>\n",
       "    </tr>\n",
       "  </thead>\n",
       "  <tbody>\n",
       "    <tr>\n",
       "      <th>0</th>\n",
       "      <td>Avatar</td>\n",
       "      <td>10.763566</td>\n",
       "      <td>[Ingenious Film Partners, Sam Worthington, Zoe...</td>\n",
       "    </tr>\n",
       "    <tr>\n",
       "      <th>1</th>\n",
       "      <td>Pirates of the Caribbean: At World's End</td>\n",
       "      <td>2.203333</td>\n",
       "      <td>[Walt Disney Pictures, Johnny Depp, Orlando Bl...</td>\n",
       "    </tr>\n",
       "    <tr>\n",
       "      <th>2</th>\n",
       "      <td>Spectre</td>\n",
       "      <td>2.594590</td>\n",
       "      <td>[Columbia Pictures, Daniel Craig, Christoph Wa...</td>\n",
       "    </tr>\n",
       "    <tr>\n",
       "      <th>3</th>\n",
       "      <td>The Dark Knight Rises</td>\n",
       "      <td>3.339756</td>\n",
       "      <td>[Legendary Pictures, Christian Bale, Michael C...</td>\n",
       "    </tr>\n",
       "    <tr>\n",
       "      <th>4</th>\n",
       "      <td>John Carter</td>\n",
       "      <td>0.092843</td>\n",
       "      <td>[Walt Disney Pictures, Taylor Kitsch, Lynn Col...</td>\n",
       "    </tr>\n",
       "  </tbody>\n",
       "</table>\n",
       "</div>"
      ],
      "text/plain": [
       "                             original_title   earnings  \\\n",
       "0                                    Avatar  10.763566   \n",
       "1  Pirates of the Caribbean: At World's End   2.203333   \n",
       "2                                   Spectre   2.594590   \n",
       "3                     The Dark Knight Rises   3.339756   \n",
       "4                               John Carter   0.092843   \n",
       "\n",
       "                                            features  \n",
       "0  [Ingenious Film Partners, Sam Worthington, Zoe...  \n",
       "1  [Walt Disney Pictures, Johnny Depp, Orlando Bl...  \n",
       "2  [Columbia Pictures, Daniel Craig, Christoph Wa...  \n",
       "3  [Legendary Pictures, Christian Bale, Michael C...  \n",
       "4  [Walt Disney Pictures, Taylor Kitsch, Lynn Col...  "
      ]
     },
     "execution_count": 59,
     "metadata": {},
     "output_type": "execute_result"
    }
   ],
   "source": [
    "movies['features'] = movies['production_companies'] + movies['actors'] + movies['characters']\n",
    "movies = movies[['original_title', 'earnings', 'features']]\n",
    "movies.head(5)"
   ]
  },
  {
   "cell_type": "code",
   "execution_count": 60,
   "metadata": {},
   "outputs": [
    {
     "data": {
      "text/plain": [
       "count     3211.000000\n",
       "mean        10.141042\n",
       "std        240.069277\n",
       "min         -0.999744\n",
       "25%          0.030258\n",
       "50%          1.303478\n",
       "75%          3.420937\n",
       "max      12889.386667\n",
       "Name: earnings, dtype: float64"
      ]
     },
     "execution_count": 60,
     "metadata": {},
     "output_type": "execute_result"
    }
   ],
   "source": [
    "movies['earnings'].describe()"
   ]
  },
  {
   "cell_type": "code",
   "execution_count": 61,
   "metadata": {},
   "outputs": [
    {
     "data": {
      "text/plain": [
       "original_title                                  Paranormal Activity\n",
       "earnings                                                    12889.4\n",
       "features          [Blumhouse Productions, Katie Featherston, Mic...\n",
       "Name: 3158, dtype: object"
      ]
     },
     "execution_count": 61,
     "metadata": {},
     "output_type": "execute_result"
    }
   ],
   "source": [
    "movies.loc[movies['earnings'].idxmax()]"
   ]
  },
  {
   "cell_type": "code",
   "execution_count": 62,
   "metadata": {},
   "outputs": [
    {
     "data": {
      "text/html": [
       "<div>\n",
       "<style scoped>\n",
       "    .dataframe tbody tr th:only-of-type {\n",
       "        vertical-align: middle;\n",
       "    }\n",
       "\n",
       "    .dataframe tbody tr th {\n",
       "        vertical-align: top;\n",
       "    }\n",
       "\n",
       "    .dataframe thead th {\n",
       "        text-align: right;\n",
       "    }\n",
       "</style>\n",
       "<table border=\"1\" class=\"dataframe\">\n",
       "  <thead>\n",
       "    <tr style=\"text-align: right;\">\n",
       "      <th></th>\n",
       "      <th>original_title</th>\n",
       "      <th>earnings</th>\n",
       "      <th>features</th>\n",
       "    </tr>\n",
       "  </thead>\n",
       "  <tbody>\n",
       "    <tr>\n",
       "      <th>3158</th>\n",
       "      <td>Paranormal Activity</td>\n",
       "      <td>12889.386667</td>\n",
       "      <td>[Blumhouse Productions, Katie Featherston, Mic...</td>\n",
       "    </tr>\n",
       "    <tr>\n",
       "      <th>3142</th>\n",
       "      <td>The Blair Witch Project</td>\n",
       "      <td>4132.333333</td>\n",
       "      <td>[Artisan Entertainment, Michael C. Williams, H...</td>\n",
       "    </tr>\n",
       "    <tr>\n",
       "      <th>3200</th>\n",
       "      <td>Eraserhead</td>\n",
       "      <td>699.000000</td>\n",
       "      <td>[American Film Institute (AFI), Jack Nance, Ch...</td>\n",
       "    </tr>\n",
       "    <tr>\n",
       "      <th>3207</th>\n",
       "      <td>Pink Flamingos</td>\n",
       "      <td>499.000000</td>\n",
       "      <td>[Dreamland Productions, Divine, David Lochary,...</td>\n",
       "    </tr>\n",
       "    <tr>\n",
       "      <th>3202</th>\n",
       "      <td>Super Size Me</td>\n",
       "      <td>438.616585</td>\n",
       "      <td>[Kathbur Pictures, Morgan Spurlock, Daryl Isaa...</td>\n",
       "    </tr>\n",
       "  </tbody>\n",
       "</table>\n",
       "</div>"
      ],
      "text/plain": [
       "               original_title      earnings  \\\n",
       "3158      Paranormal Activity  12889.386667   \n",
       "3142  The Blair Witch Project   4132.333333   \n",
       "3200               Eraserhead    699.000000   \n",
       "3207           Pink Flamingos    499.000000   \n",
       "3202            Super Size Me    438.616585   \n",
       "\n",
       "                                               features  \n",
       "3158  [Blumhouse Productions, Katie Featherston, Mic...  \n",
       "3142  [Artisan Entertainment, Michael C. Williams, H...  \n",
       "3200  [American Film Institute (AFI), Jack Nance, Ch...  \n",
       "3207  [Dreamland Productions, Divine, David Lochary,...  \n",
       "3202  [Kathbur Pictures, Morgan Spurlock, Daryl Isaa...  "
      ]
     },
     "execution_count": 62,
     "metadata": {},
     "output_type": "execute_result"
    }
   ],
   "source": [
    "movies.sort_values(by='earnings', ascending=False).head()"
   ]
  },
  {
   "cell_type": "markdown",
   "metadata": {},
   "source": [
    "# Compute weights of features"
   ]
  },
  {
   "cell_type": "code",
   "execution_count": 63,
   "metadata": {},
   "outputs": [
    {
     "data": {
      "text/html": [
       "<div>\n",
       "<style scoped>\n",
       "    .dataframe tbody tr th:only-of-type {\n",
       "        vertical-align: middle;\n",
       "    }\n",
       "\n",
       "    .dataframe tbody tr th {\n",
       "        vertical-align: top;\n",
       "    }\n",
       "\n",
       "    .dataframe thead th {\n",
       "        text-align: right;\n",
       "    }\n",
       "</style>\n",
       "<table border=\"1\" class=\"dataframe\">\n",
       "  <thead>\n",
       "    <tr style=\"text-align: right;\">\n",
       "      <th></th>\n",
       "      <th>feature</th>\n",
       "      <th>weight</th>\n",
       "    </tr>\n",
       "  </thead>\n",
       "  <tbody>\n",
       "    <tr>\n",
       "      <th>0</th>\n",
       "      <td>Larry Mullen Jr.</td>\n",
       "      <td>0</td>\n",
       "    </tr>\n",
       "    <tr>\n",
       "      <th>1</th>\n",
       "      <td>\"Drugs\" Delaney</td>\n",
       "      <td>0</td>\n",
       "    </tr>\n",
       "    <tr>\n",
       "      <th>2</th>\n",
       "      <td>\"Hickory\" / The Tin Man</td>\n",
       "      <td>0</td>\n",
       "    </tr>\n",
       "    <tr>\n",
       "      <th>3</th>\n",
       "      <td>\"Hunk\" / The Scarecrow</td>\n",
       "      <td>0</td>\n",
       "    </tr>\n",
       "    <tr>\n",
       "      <th>4</th>\n",
       "      <td>\"Whistling\" John Shaw</td>\n",
       "      <td>0</td>\n",
       "    </tr>\n",
       "  </tbody>\n",
       "</table>\n",
       "</div>"
      ],
      "text/plain": [
       "                   feature  weight\n",
       "0         Larry Mullen Jr.       0\n",
       "1          \"Drugs\" Delaney       0\n",
       "2  \"Hickory\" / The Tin Man       0\n",
       "3   \"Hunk\" / The Scarecrow       0\n",
       "4    \"Whistling\" John Shaw       0"
      ]
     },
     "execution_count": 63,
     "metadata": {},
     "output_type": "execute_result"
    }
   ],
   "source": [
    "# Create the features table with their weights associated weights (set to 0).\n",
    "features = set(movies['features'].sum())\n",
    "features.discard('')\n",
    "features = list(features)\n",
    "features.sort()\n",
    "features = pd.DataFrame(features, columns=['feature'])\n",
    "features['weight'] = 0\n",
    "features.head()"
   ]
  },
  {
   "cell_type": "code",
   "execution_count": 64,
   "metadata": {},
   "outputs": [
    {
     "data": {
      "text/html": [
       "<div>\n",
       "<style scoped>\n",
       "    .dataframe tbody tr th:only-of-type {\n",
       "        vertical-align: middle;\n",
       "    }\n",
       "\n",
       "    .dataframe tbody tr th {\n",
       "        vertical-align: top;\n",
       "    }\n",
       "\n",
       "    .dataframe thead th {\n",
       "        text-align: right;\n",
       "    }\n",
       "</style>\n",
       "<table border=\"1\" class=\"dataframe\">\n",
       "  <thead>\n",
       "    <tr style=\"text-align: right;\">\n",
       "      <th></th>\n",
       "      <th>original_title</th>\n",
       "      <th>earnings</th>\n",
       "      <th>feature</th>\n",
       "    </tr>\n",
       "  </thead>\n",
       "  <tbody>\n",
       "    <tr>\n",
       "      <th>0</th>\n",
       "      <td>Avatar</td>\n",
       "      <td>10.763566</td>\n",
       "      <td>Ingenious Film Partners</td>\n",
       "    </tr>\n",
       "    <tr>\n",
       "      <th>1</th>\n",
       "      <td>Avatar</td>\n",
       "      <td>10.763566</td>\n",
       "      <td>Sam Worthington</td>\n",
       "    </tr>\n",
       "    <tr>\n",
       "      <th>2</th>\n",
       "      <td>Avatar</td>\n",
       "      <td>10.763566</td>\n",
       "      <td>Zoe Saldana</td>\n",
       "    </tr>\n",
       "    <tr>\n",
       "      <th>3</th>\n",
       "      <td>Avatar</td>\n",
       "      <td>10.763566</td>\n",
       "      <td>Sigourney Weaver</td>\n",
       "    </tr>\n",
       "    <tr>\n",
       "      <th>4</th>\n",
       "      <td>Avatar</td>\n",
       "      <td>10.763566</td>\n",
       "      <td>Stephen Lang</td>\n",
       "    </tr>\n",
       "  </tbody>\n",
       "</table>\n",
       "</div>"
      ],
      "text/plain": [
       "  original_title   earnings                  feature\n",
       "0         Avatar  10.763566  Ingenious Film Partners\n",
       "1         Avatar  10.763566          Sam Worthington\n",
       "2         Avatar  10.763566              Zoe Saldana\n",
       "3         Avatar  10.763566         Sigourney Weaver\n",
       "4         Avatar  10.763566             Stephen Lang"
      ]
     },
     "execution_count": 64,
     "metadata": {},
     "output_type": "execute_result"
    }
   ],
   "source": [
    "# A DataFrame where each row contains only one feature (actor, character or production company)\n",
    "# Easier for later computations\n",
    "df = movies.set_index(['original_title', 'earnings'])['features'].apply(pd.Series).stack().reset_index().drop('level_2', axis=1)\n",
    "df.columns = ['original_title', 'earnings', 'feature']\n",
    "df.head()"
   ]
  },
  {
   "cell_type": "code",
   "execution_count": 65,
   "metadata": {},
   "outputs": [],
   "source": [
    "for i, feature in enumerate(features['feature']):\n",
    "    in_movie = df[df['feature'] == feature]\n",
    "    features.loc[i, 'weight'] = in_movie['earnings'].sum() / len(in_movie)"
   ]
  },
  {
   "cell_type": "code",
   "execution_count": null,
   "metadata": {},
   "outputs": [],
   "source": [
    "features.sort_values(by='weight', ascending=False)\n",
    "features[features['feature'] == 'James Bond']"
   ]
  },
  {
   "cell_type": "code",
   "execution_count": null,
   "metadata": {},
   "outputs": [],
   "source": [
    "feature.head()"
   ]
  },
  {
   "cell_type": "markdown",
   "metadata": {},
   "source": [
    "# Compute Adjacency Matrix"
   ]
  },
  {
   "cell_type": "code",
   "execution_count": 27,
   "metadata": {},
   "outputs": [],
   "source": [
    "n_nodes = len(movies)\n",
    "\n",
    "try:\n",
    "    adjacency = np.load(data_path + 'adjacency.npy')\n",
    "\n",
    "except FileNotFoundError: \n",
    "    adjacency = np.zeros((n_nodes, n_nodes), dtype=int)\n",
    "    for i in range(n_nodes):\n",
    "            # as the adjacency matrix is symmetric, only the upper triangular is calculated to save time\n",
    "            for j in range(i, n_nodes):\n",
    "                # create weighted edges as the shared number of actors between movies\n",
    "                common_actors = set(movies['features'][i]).intersection(set(movies['features'][j]))\n",
    "                sum_weights = 0.0\n",
    "\n",
    "                for name in common_actors :\n",
    "                    if (features['feature'].isin([name]).any()):\n",
    "                        sum_weights = sum_weights + features[features['feature'] == name]['weight'].item()\n",
    "                \n",
    "\n",
    "                adjacency[i, j] = sum_weights\n",
    "      \n",
    "    # fill the lower triangular \n",
    "    adjacency += np.transpose(adjacency)\n",
    "\n",
    "    np.fill_diagonal(adjacency, 0, wrap=False)\n",
    "    np.save(data_path + 'adjacency.npy', adjacency)"
   ]
  },
  {
   "cell_type": "code",
   "execution_count": 28,
   "metadata": {},
   "outputs": [
    {
     "name": "stdout",
     "output_type": "stream",
     "text": [
      "Our graph contains 3211 movies.\n"
     ]
    }
   ],
   "source": [
    "print('Our graph contains {} movies.'.format(n_nodes))"
   ]
  },
  {
   "cell_type": "code",
   "execution_count": 29,
   "metadata": {},
   "outputs": [
    {
     "data": {
      "image/png": "[encoded data removed]",
      "text/plain": [
       "<Figure size 432x288 with 1 Axes>"
      ]
     },
     "metadata": {},
     "output_type": "display_data"
    }
   ],
   "source": [
    "plt.spy(adjacency, markersize=0.01)\n",
    "plt.title('adjacency matrix');\n",
    "plt.tight_layout()"
   ]
  },
  {
   "cell_type": "code",
   "execution_count": 30,
   "metadata": {},
   "outputs": [
    {
     "name": "stdout",
     "output_type": "stream",
     "text": [
      "L_max = 5153655.0\n",
      "L = 321554\n",
      "Sparsity = 0.9376066112302822\n"
     ]
    },
    {
     "data": {
      "image/png": "[encoded data removed]",
      "text/plain": [
       "<Figure size 432x288 with 1 Axes>"
      ]
     },
     "metadata": {},
     "output_type": "display_data"
    }
   ],
   "source": [
    "# maximum number of Links in our network\n",
    "L_max = n_nodes*(n_nodes-1)/2\n",
    "print('L_max =', L_max)\n",
    "\n",
    "# number of link in our network\n",
    "L = np.count_nonzero(adjacency)\n",
    "print('L =',L)\n",
    "\n",
    "# sparisty\n",
    "sparsity = (L_max-L)/L_max\n",
    "print('Sparsity =', sparsity)\n",
    "\n",
    "# Create the binary version of adjacency matrix as our adjacency is weighted\n",
    "adj_binary = adjacency.astype(bool).astype(int)\n",
    "degree =  np.sum(adj_binary, axis=0)\n",
    "\n",
    "#Histogram of degree distribution\n",
    "weights = np.ones_like(degree) / float(n_nodes)\n",
    "plt.hist(degree, weights=weights);\n",
    "plt.title('Degree distribution');"
   ]
  },
  {
   "cell_type": "code",
   "execution_count": 31,
   "metadata": {},
   "outputs": [],
   "source": [
    "def adj_matrix_to_list(adj):\n",
    "    \"\"\"Transform adjacency matrix into a dictionnary : each node is linked with all his neighbor nodes\n",
    "    \n",
    "    Parameters\n",
    "    ----------\n",
    "    adjacency matrix \n",
    "    \n",
    "    Returns\n",
    "    -------\n",
    "    adj_list : dictionnary\n",
    "    \"\"\"\n",
    "    \n",
    "    adj_list = {} \n",
    "    for node, nodes in enumerate(adj):\n",
    "        neighbors = []\n",
    "        for next_node, weighted_edge in enumerate(nodes):\n",
    "            if weighted_edge:\n",
    "                neighbors.append(next_node)\n",
    "        adj_list[node] = neighbors\n",
    "    return adj_list"
   ]
  },
  {
   "cell_type": "code",
   "execution_count": 32,
   "metadata": {},
   "outputs": [],
   "source": [
    "# The BFS algorithm\n",
    "def bfs(adj_list, start, labels, l=1):\n",
    "    \n",
    "    \"\"\"Apply the BFS algorithm \n",
    "    \n",
    "    Parameters\n",
    "    ----------\n",
    "    adj_list: adjacency matrix transformed to a list (see ajd_matrix_to_list)\n",
    "    start: Starting node\n",
    "    labels : will contain the information whether a node has been visited or not\n",
    "    \n",
    "    Returns\n",
    "    -------\n",
    "    labels : contain the information whether a node has been visited or not\n",
    "    bool connected : true if all the nodes are connected\n",
    "    visited : a list of all the visited nodes\n",
    "        True if the graph is connected, False otherwise.\n",
    "    \"\"\"\n",
    "    \n",
    "    \n",
    "    nodes = list(labels.keys())\n",
    "    #q is a queue, it contains the next node to be inspected (initialized with the starting node)\n",
    "    q = []\n",
    "    q.append(start)\n",
    "    #label contains for each node l (if the node has already been inspected) or 0\n",
    "    labels[start] = l\n",
    "    \n",
    "    #while there is nodes to inspect\n",
    "    while len(q):\n",
    "        node = q.pop(0)\n",
    "        \n",
    "        #inspect all the nodes linked to 'node'\n",
    "        for neighbor in adj_list[node]: \n",
    "            #if it has not already been inspected, add it to the queue, and label it to 1\n",
    "            if labels[neighbor] == 0: \n",
    "                q.append(neighbor)\n",
    "                labels[neighbor] = l\n",
    "    #contains all the connected nodes\n",
    "    visited = {node: label for (node, label) in labels.items() if label !=0} \n",
    "    connected = len(visited) == len(nodes)\n",
    "    return labels, connected, visited"
   ]
  },
  {
   "cell_type": "code",
   "execution_count": 33,
   "metadata": {},
   "outputs": [],
   "source": [
    "def find_components(adjacency):\n",
    "    \"\"\"Find the connected components of a graph.\n",
    "    \n",
    "    Parameters\n",
    "    ----------\n",
    "    adjacency: numpy array\n",
    "        The (weighted) adjacency matrix of a graph.\n",
    "    \n",
    "    Returns\n",
    "    -------\n",
    "    list of numpy arrays\n",
    "        A list of adjacency matrices, one per connected component.\n",
    "    \"\"\"\n",
    "    components = list()\n",
    "    # transform the adjacency matrix into an adjacency list where the weights are ignored\n",
    "    adj_list = adj_matrix_to_list(adjacency) \n",
    "    \n",
    "    # l: the label of the components\n",
    "    l = 1\n",
    "    \n",
    "    # select a random node to start exploring the graph\n",
    "    start = np.random.choice(list(adj_list.keys()))\n",
    "    nodes = list(adj_list.keys())\n",
    "    \n",
    "    # apply BFS to label the nodes of the first component and to know if the graph is connected\n",
    "    labels, visited_all, _ = bfs(adj_list, start, {node: 0 for node in nodes})\n",
    "    visited = [node for node, label in labels.items() if label == l]\n",
    "    components.append(adjacency[visited, :][:, visited]) \n",
    "    \n",
    "    # while we did not label every node\n",
    "    while not visited_all:\n",
    "        l += 1\n",
    "        to_visit = [node for node, label in labels.items() if label == 0]\n",
    "        start = np.random.choice(list(to_visit))\n",
    "        # apply new BFS to explore new component\n",
    "        labels, visited_all,_ = bfs(adj_list, start, labels, l)\n",
    "        visited = [node for node, label in labels.items() if label == l]\n",
    "        components.append(adjacency[visited, :][:, visited]) \n",
    "    \n",
    "    # the list of all components sorted by descending size \n",
    "    components.sort(key=lambda mat: mat.shape, reverse=True)    \n",
    "    return components, labels"
   ]
  },
  {
   "cell_type": "code",
   "execution_count": 35,
   "metadata": {},
   "outputs": [
    {
     "name": "stdout",
     "output_type": "stream",
     "text": [
      "The size of the largest component is 3145.\n"
     ]
    }
   ],
   "source": [
    "try:\n",
    "    bc_nparray = np.load(data_path + 'BC.npy')\n",
    "    nodes_bc = np.load(data_path + 'nodes_BC.npy')\n",
    "    \n",
    "except FileNotFoundError:\n",
    "    components, labels = find_components(adjacency)\n",
    "    bc_nparray = components[0]\n",
    "    label_count = np.unique(np.fromiter(labels.values(), dtype=int), return_counts=True)\n",
    "    lab_dict = dict(zip(label_count[0], label_count[1]))\n",
    "    label_bc = max(lab_dict, key=lab_dict.get)\n",
    "    nodes_bc = [node for node, label in labels.items() if label == label_bc]\n",
    "    np.save(data_path + 'BC.npy', bc_nparray)\n",
    "    np.save(data_path + 'nodes_bc.npy', nodes_bc)\n",
    "\n",
    "n_nodes_bc = len(nodes_bc)\n",
    "print('The size of the largest component is {}.'.format(n_nodes_bc))"
   ]
  },
  {
   "cell_type": "code",
   "execution_count": 36,
   "metadata": {},
   "outputs": [
    {
     "name": "stdout",
     "output_type": "stream",
     "text": [
      "Clustering coefficient of our Biggest Component = 0.5421199049721809\n"
     ]
    }
   ],
   "source": [
    "G = nx.from_numpy_array(bc_nparray)\n",
    "\n",
    "print('Clustering coefficient of our Biggest Component =' ,nx.average_clustering(G))"
   ]
  },
  {
   "cell_type": "code",
   "execution_count": 37,
   "metadata": {},
   "outputs": [
    {
     "data": {
      "text/plain": [
       "count     3145.000000\n",
       "mean         9.934463\n",
       "std        242.103785\n",
       "min         -0.999744\n",
       "25%          0.058528\n",
       "50%          1.325575\n",
       "75%          3.421053\n",
       "max      12889.386667\n",
       "Name: earnings, dtype: float64"
      ]
     },
     "execution_count": 37,
     "metadata": {},
     "output_type": "execute_result"
    }
   ],
   "source": [
    "movies_bc = movies.loc[nodes_bc, :]\n",
    "movies_bc['earnings'].describe()"
   ]
  },
  {
   "cell_type": "code",
   "execution_count": 38,
   "metadata": {},
   "outputs": [],
   "source": [
    "label_threshold = 1"
   ]
  },
  {
   "cell_type": "code",
   "execution_count": 39,
   "metadata": {},
   "outputs": [],
   "source": [
    "#Creation of binary labels, depending on the \"earning threshold\"\n",
    "def labels_creation(threshold):\n",
    "    labels = np.zeros(n_nodes_bc, dtype=float)\n",
    "    labels[movies_bc['earnings'] >= threshold] = 1\n",
    "    labels[movies_bc['earnings'] < threshold] = -1\n",
    "    return labels"
   ]
  },
  {
   "cell_type": "code",
   "execution_count": 40,
   "metadata": {},
   "outputs": [
    {
     "data": {
      "text/plain": [
       "{-1.0: 1362, 1.0: 1783}"
      ]
     },
     "execution_count": 40,
     "metadata": {},
     "output_type": "execute_result"
    }
   ],
   "source": [
    "labels_bc = labels_creation(label_threshold)\n",
    "lab_bc_count = np.unique(labels_bc, return_counts=True)\n",
    "dict(zip(lab_bc_count[0], lab_bc_count[1]))"
   ]
  },
  {
   "cell_type": "code",
   "execution_count": 41,
   "metadata": {},
   "outputs": [
    {
     "ename": "MemoryError",
     "evalue": "",
     "output_type": "error",
     "traceback": [
      "\u001b[0;31m---------------------------------------------------------------------------\u001b[0m",
      "\u001b[0;31mFileNotFoundError\u001b[0m                         Traceback (most recent call last)",
      "\u001b[0;32m<ipython-input-41-43a55f207352>\u001b[0m in \u001b[0;36m<module>\u001b[0;34m()\u001b[0m\n\u001b[1;32m      6\u001b[0m \u001b[0;32mtry\u001b[0m\u001b[0;34m:\u001b[0m\u001b[0;34m\u001b[0m\u001b[0m\n\u001b[0;32m----> 7\u001b[0;31m     \u001b[0mgradient\u001b[0m \u001b[0;34m=\u001b[0m \u001b[0mscipy\u001b[0m\u001b[0;34m.\u001b[0m\u001b[0msparse\u001b[0m\u001b[0;34m.\u001b[0m\u001b[0mload_npz\u001b[0m\u001b[0;34m(\u001b[0m\u001b[0mdata_path\u001b[0m \u001b[0;34m+\u001b[0m \u001b[0;34m'gradient.npz'\u001b[0m\u001b[0;34m)\u001b[0m\u001b[0;34m\u001b[0m\u001b[0m\n\u001b[0m\u001b[1;32m      8\u001b[0m     \u001b[0msparse_gradient\u001b[0m \u001b[0;34m=\u001b[0m \u001b[0msparse\u001b[0m\u001b[0;34m.\u001b[0m\u001b[0mcsr_matrix\u001b[0m\u001b[0;34m(\u001b[0m\u001b[0mgradient\u001b[0m\u001b[0;34m)\u001b[0m\u001b[0;34m\u001b[0m\u001b[0m\n",
      "\u001b[0;32m~/miniconda3/envs/ntds_2018/lib/python3.6/site-packages/scipy/sparse/_matrix_io.py\u001b[0m in \u001b[0;36mload_npz\u001b[0;34m(file)\u001b[0m\n\u001b[1;32m    130\u001b[0m \u001b[0;34m\u001b[0m\u001b[0m\n\u001b[0;32m--> 131\u001b[0;31m     \u001b[0;32mwith\u001b[0m \u001b[0mnp\u001b[0m\u001b[0;34m.\u001b[0m\u001b[0mload\u001b[0m\u001b[0;34m(\u001b[0m\u001b[0mfile\u001b[0m\u001b[0;34m,\u001b[0m \u001b[0;34m**\u001b[0m\u001b[0mPICKLE_KWARGS\u001b[0m\u001b[0;34m)\u001b[0m \u001b[0;32mas\u001b[0m \u001b[0mloaded\u001b[0m\u001b[0;34m:\u001b[0m\u001b[0;34m\u001b[0m\u001b[0m\n\u001b[0m\u001b[1;32m    132\u001b[0m         \u001b[0;32mtry\u001b[0m\u001b[0;34m:\u001b[0m\u001b[0;34m\u001b[0m\u001b[0m\n",
      "\u001b[0;32m~/miniconda3/envs/ntds_2018/lib/python3.6/site-packages/numpy/lib/npyio.py\u001b[0m in \u001b[0;36mload\u001b[0;34m(file, mmap_mode, allow_pickle, fix_imports, encoding)\u001b[0m\n\u001b[1;32m    383\u001b[0m     \u001b[0;32mif\u001b[0m \u001b[0misinstance\u001b[0m\u001b[0;34m(\u001b[0m\u001b[0mfile\u001b[0m\u001b[0;34m,\u001b[0m \u001b[0mbasestring\u001b[0m\u001b[0;34m)\u001b[0m\u001b[0;34m:\u001b[0m\u001b[0;34m\u001b[0m\u001b[0m\n\u001b[0;32m--> 384\u001b[0;31m         \u001b[0mfid\u001b[0m \u001b[0;34m=\u001b[0m \u001b[0mopen\u001b[0m\u001b[0;34m(\u001b[0m\u001b[0mfile\u001b[0m\u001b[0;34m,\u001b[0m \u001b[0;34m\"rb\"\u001b[0m\u001b[0;34m)\u001b[0m\u001b[0;34m\u001b[0m\u001b[0m\n\u001b[0m\u001b[1;32m    385\u001b[0m         \u001b[0mown_fid\u001b[0m \u001b[0;34m=\u001b[0m \u001b[0;32mTrue\u001b[0m\u001b[0;34m\u001b[0m\u001b[0m\n",
      "\u001b[0;31mFileNotFoundError\u001b[0m: [Errno 2] No such file or directory: 'data/gradient.npz'",
      "\nDuring handling of the above exception, another exception occurred:\n",
      "\u001b[0;31mMemoryError\u001b[0m                               Traceback (most recent call last)",
      "\u001b[0;32m<ipython-input-41-43a55f207352>\u001b[0m in \u001b[0;36m<module>\u001b[0;34m()\u001b[0m\n\u001b[1;32m     10\u001b[0m \u001b[0;32mexcept\u001b[0m \u001b[0mFileNotFoundError\u001b[0m\u001b[0;34m:\u001b[0m\u001b[0;34m\u001b[0m\u001b[0m\n\u001b[1;32m     11\u001b[0m     \u001b[0;31m# Let us compute the gradient\u001b[0m\u001b[0;34m\u001b[0m\u001b[0;34m\u001b[0m\u001b[0m\n\u001b[0;32m---> 12\u001b[0;31m     \u001b[0mgradient\u001b[0m \u001b[0;34m=\u001b[0m \u001b[0mnp\u001b[0m\u001b[0;34m.\u001b[0m\u001b[0mzeros\u001b[0m\u001b[0;34m(\u001b[0m\u001b[0;34m(\u001b[0m\u001b[0mE\u001b[0m\u001b[0;34m,\u001b[0m \u001b[0mN\u001b[0m\u001b[0;34m)\u001b[0m\u001b[0;34m)\u001b[0m\u001b[0;34m\u001b[0m\u001b[0m\n\u001b[0m\u001b[1;32m     13\u001b[0m     \u001b[0meij\u001b[0m \u001b[0;34m=\u001b[0m \u001b[0;36m0\u001b[0m  \u001b[0;31m# edge index\u001b[0m\u001b[0;34m\u001b[0m\u001b[0m\n\u001b[1;32m     14\u001b[0m \u001b[0;34m\u001b[0m\u001b[0m\n",
      "\u001b[0;31mMemoryError\u001b[0m: "
     ]
    }
   ],
   "source": [
    "degree_biggest_component= np.sum(bc_nparray, axis=0)\n",
    "\n",
    "N = n_nodes_bc  # number of nodes\n",
    "E = np.sum(bc_nparray > 0)  # number of edges (non-zero entries of A)\n",
    "\n",
    "try:\n",
    "    gradient = scipy.sparse.load_npz(data_path + 'gradient.npz')\n",
    "    sparse_gradient = sparse.csr_matrix(gradient)\n",
    "    \n",
    "except FileNotFoundError:\n",
    "    # Let us compute the gradient\n",
    "    gradient = np.zeros((E, N))\n",
    "    eij = 0  # edge index\n",
    "\n",
    "    for i in range(N):\n",
    "        for j in range(N):\n",
    "            wij = bc_nparray[i, j]\n",
    "            if wij > 0:\n",
    "                gradient[eij,i] = math.sqrt(wij)/math.sqrt(2*degree_biggest_component[i])\n",
    "                gradient[eij,j] = -math.sqrt(wij)/math.sqrt(2*degree_biggest_component[j])\n",
    "                eij = eij + 1  # increment the edge index \n",
    "    sparse_gradient = sparse.csr_matrix(gradient)\n",
    "    scipy.sparse.save_npz(data_path + 'gradient.npz', sparse_gradient)\n",
    "    \n",
    "laplacian = (gradient.T@gradient) #Laplacian Normalisé calculé avec le gradient.\n",
    "\n",
    "sparse_laplacian = sparse.csr_matrix(laplacian)"
   ]
  },
  {
   "cell_type": "code",
   "execution_count": null,
   "metadata": {},
   "outputs": [],
   "source": [
    "eigenvalues, eigenvectors = np.linalg.eigh(sparse_laplacian.toarray())\n",
    "e = eigenvalues\n",
    "U = eigenvectors\n",
    "\n",
    "D = np.diag(degree_biggest_component)\n",
    "D_inv = np.divide(1,D)\n",
    "D_inv[D_inv == np.inf] = 0\n",
    "D_sqrtinv = scipy.linalg.sqrtm(D_inv)\n",
    "\n",
    "#Renormalized by the degrees\n",
    "U_norm = D_sqrtinv@U\n",
    "\n",
    "# Normalize the rows of U_norm\n",
    "rows_norm = np.linalg.norm(U_norm, axis=1, ord=2)\n",
    "U_norm = (U_norm.T / rows_norm).T"
   ]
  },
  {
   "cell_type": "code",
   "execution_count": null,
   "metadata": {},
   "outputs": [],
   "source": [
    "plt.figure(figsize=(14,8))\n",
    "coords = U_norm[:,1:3]\n",
    "nx_nodes = nx.draw_networkx_nodes(G, coords,alpha=0.5, node_size=20, node_color=U_norm[:,0])\n",
    "nx.draw_networkx_edges(G, coords, alpha=0.01)\n",
    "plt.title('Eigenvector zero as a signal of our graph', fontsize=20)\n",
    "plt.xlabel('1st eigenvector (of non-null eigenvalue)', fontsize=15)\n",
    "plt.ylabel('2nd eigenvector', fontsize=15)\n",
    "plt.colorbar(nx_nodes);"
   ]
  },
  {
   "cell_type": "code",
   "execution_count": null,
   "metadata": {},
   "outputs": [],
   "source": [
    "def GFT(x):\n",
    "    gft = np.zeros(N)\n",
    "    for i in range(N):\n",
    "        gft[i] = np.dot(x,U_norm[:,i])\n",
    "    return gft \n",
    "\n",
    "def iGFT(x):\n",
    "    igft = np.zeros(N)\n",
    "    for i in range(N):\n",
    "            igft[i] += np.dot(x,U_norm[i,:])\n",
    "    return igft"
   ]
  },
  {
   "cell_type": "code",
   "execution_count": null,
   "metadata": {},
   "outputs": [],
   "source": [
    "gft = GFT(labels_bc)\n",
    "\n",
    "gft_abs = abs(gft)\n",
    "plt.figure(figsize=(20,10))\n",
    "plt.title('GFT of our labels as a function of the graph eigenvalues', fontsize=20)\n",
    "plt.xlabel('Eigenvectors/Eigenvalues', fontsize=15)\n",
    "plt.ylabel('Absolute values of the GFT', fontsize=15)\n",
    "\n",
    "plt.stem(gft_abs)\n",
    "#plt.arrow(1000, 10, -860, 12, color ='r', head_width = 0.5, head_length = 25)\n",
    "\n",
    "[index_eig1, index_eig2] = gft.argsort()[-2:][::-1]"
   ]
  },
  {
   "cell_type": "code",
   "execution_count": null,
   "metadata": {},
   "outputs": [],
   "source": [
    "plt.figure(figsize=(12,8))\n",
    "coords = U_norm[:,[index_eig1, index_eig2]]\n",
    "nx_nodes = nx.draw_networkx_nodes(G, coords,alpha=0.5 ,node_size=29, node_color=labels_bc)\n",
    "nx.draw_networkx_edges(G, coords, alpha=0.01)\n",
    "plt.title('Graph with the first 2 smallest eigenvectors')\n",
    "plt.xlabel(' eigenvector', fontsize=15);\n",
    "plt.ylabel(' eigenvector', fontsize=15);"
   ]
  },
  {
   "cell_type": "code",
   "execution_count": null,
   "metadata": {},
   "outputs": [],
   "source": []
  },
  {
   "cell_type": "code",
   "execution_count": null,
   "metadata": {},
   "outputs": [],
   "source": []
  },
  {
   "cell_type": "code",
   "execution_count": null,
   "metadata": {},
   "outputs": [],
   "source": []
  }
 ],
 "metadata": {
  "kernelspec": {
   "display_name": "Python 3",
   "language": "python",
   "name": "python3"
  },
  "language_info": {
   "codemirror_mode": {
    "name": "ipython",
    "version": 3
   },
   "file_extension": ".py",
   "mimetype": "text/x-python",
   "name": "python",
   "nbconvert_exporter": "python",
   "pygments_lexer": "ipython3",
   "version": "3.6.6"
  }
 },
 "nbformat": 4,
 "nbformat_minor": 2
}
